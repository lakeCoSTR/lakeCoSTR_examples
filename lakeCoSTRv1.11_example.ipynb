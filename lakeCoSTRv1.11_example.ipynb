{
  "cells": [
    {
      "cell_type": "markdown",
      "metadata": {
        "id": "tr9ipVEDv7BK"
      },
      "source": [
        "# **lakeCoSTR for Colab**<br>\n",
        "a tool for *__lake__ __Co__ llection 2 __S__ urface __T__ emperature __R__ etrieval*<p>\n",
        "<p>\n",
        "\n",
        "**Version 1.11**<br>\n",
        "*Last updated: 2022-04-07<p>*\n",
        "\n",
        "Created by:<br>\n",
        "Christina Herrick<br>\n",
        "University of New Hampshire<br>\n",
        "christina.herrick@unh.edu<p>\n",
        "Bethel Steele<br>\n",
        "Cary Institute of Ecosystem Studies<br>\n",
        "steeleb@caryinstitute.org<p>\n",
        "__This tool is still under development and has an associated manuscript that has been submitted for peer review. This tool is licensed under CC-BY-NC-SA, please cite accordingly.__"
      ]
    },
    {
      "cell_type": "markdown",
      "metadata": {
        "id": "0Hj_-5o-9Fsz"
      },
      "source": [
        "# **User Guide**\n",
        "Please review the [**user guide**](https://github.com/lakeCoSTR/lakeCoSTR_colab/blob/main/UserGuide_lakeCoSTR_colab.md) for assistance in navigating the tool and for specific constraints and caveats.\n",
        "\n",
        "# **Motivations of lakeCoSTR**\n",
        "We created lakeCoSTR to make the acquisition and analysis of Landsat's Collection 2 Surface Temperature product more accessible for those interested in obtaining historical estimates of lake temperature from remote sensing data. This tool is geared to researchers interested in gathering historical temperature estimates, especially for small lakes."
      ]
    },
    {
      "cell_type": "markdown",
      "metadata": {
        "id": "psnrRlTjBj2M"
      },
      "source": [
        "# **1. Initial Setup**\n"
      ]
    },
    {
      "cell_type": "markdown",
      "metadata": {
        "id": "g3zRra91DaEq"
      },
      "source": [
        "## **1.1 Modules**\n",
        "\n",
        "This section of code blocks imports necessary python modules for the notebook to run. You will be prompted to click one or more URLs and be taken to a page to sign in with your Google account.\n",
        "\n",
        "Copy the unique code(s) provided on the web page when prompted and paste where prompted to finish authorization."
      ]
    },
    {
      "cell_type": "code",
      "execution_count": 1,
      "metadata": {
        "cellView": "form",
        "id": "gh-VYdMKCAkM"
      },
      "outputs": [],
      "source": [
        "#@markdown __Run this block__ to authorize Colab to authenticate your Google account and give it access to upload files from your local computer.\n",
        "from google.colab import auth, files\n",
        "auth.authenticate_user()\n",
        "import gspread\n",
        "from oauth2client.client import GoogleCredentials"
      ]
    },
    {
      "cell_type": "code",
      "execution_count": null,
      "metadata": {
        "cellView": "form",
        "id": "STd1_lFcVYMZ"
      },
      "outputs": [],
      "source": [
        "#@markdown __Run this block__ to connect Colab to your Earth Engine account\n",
        "#@markdown You must already be authorized to use Google Earth Engine. \n",
        "#@markdown <p>If you do not already have access, <a href=\"https://signup.earthengine.google.com/#!/\" target=\"_blank\">fill out this application</a>.\n",
        "import ee\n",
        "ee.Authenticate()\n",
        "ee.Initialize()"
      ]
    },
    {
      "cell_type": "code",
      "execution_count": 3,
      "metadata": {
        "cellView": "form",
        "id": "SaB_g_reJG41",
        "outputId": "841ea9ba-cbb3-4032-c3b0-28c6f648ad53",
        "colab": {
          "base_uri": "https://localhost:8080/"
        }
      },
      "outputs": [
        {
          "output_type": "stream",
          "name": "stdout",
          "text": [
            "Mounted at /content/drive\n"
          ]
        }
      ],
      "source": [
        "#@markdown __Run this block__ to connect Colab to your Google Drive\n",
        "from google.colab import drive\n",
        "drive.mount('/content/drive', force_remount=False)"
      ]
    },
    {
      "cell_type": "code",
      "execution_count": 4,
      "metadata": {
        "cellView": "form",
        "id": "8SN2nSfHBF1S",
        "outputId": "5dd2715b-a740-44c1-c41c-c3e9f3f0053e",
        "colab": {
          "base_uri": "https://localhost:8080/"
        }
      },
      "outputs": [
        {
          "output_type": "stream",
          "name": "stdout",
          "text": [
            "Packages installed\n"
          ]
        }
      ],
      "source": [
        "#@markdown __Run this block__ to install packages and functions used for \n",
        "#@markdown interactive mapping and data exploration\n",
        "import pandas as pd\n",
        "import numpy as np\n",
        "import os\n",
        "import re\n",
        "import subprocess\n",
        "import matplotlib.pyplot as plt\n",
        "from time import strftime, sleep\n",
        "from datetime import datetime, timedelta\n",
        "import pytz\n",
        "import folium\n",
        "from folium import plugins\n",
        "from google.colab import data_table\n",
        "\n",
        "try:\n",
        "  from ipyleaflet import Map, DrawControl\n",
        "  from ipywidgets import Layout\n",
        "except ImportError:\n",
        "  subprocess.check_call([\"python\",\"-m\",\"pip\",\"install\",\"-U\",\"ipyleaflet\"])\n",
        "  from ipyleaflet import Map, basemaps, basemap_to_tiles, DrawControl\n",
        "  from ipywidgets import Layout\n",
        "\n",
        "# Add custom basemaps to folium\n",
        "basemaps = {\n",
        "    'Google Maps': folium.TileLayer(\n",
        "        tiles = 'https://mt1.google.com/vt/lyrs=m&x={x}&y={y}&z={z}',\n",
        "        attr = 'Google',\n",
        "        name = 'Google Maps',\n",
        "        overlay = True,\n",
        "        control = True\n",
        "    ),\n",
        "    'Google Satellite': folium.TileLayer(\n",
        "        tiles = 'https://mt1.google.com/vt/lyrs=s&x={x}&y={y}&z={z}',\n",
        "        attr = 'Google',\n",
        "        name = 'Google Satellite',\n",
        "        overlay = True,\n",
        "        control = True\n",
        "    ),\n",
        "    'Google Terrain': folium.TileLayer(\n",
        "        tiles = 'https://mt1.google.com/vt/lyrs=p&x={x}&y={y}&z={z}',\n",
        "        attr = 'Google',\n",
        "        name = 'Google Terrain',\n",
        "        overlay = True,\n",
        "        control = True\n",
        "    ),\n",
        "    'Google Satellite Hybrid': folium.TileLayer(\n",
        "        tiles = 'https://mt1.google.com/vt/lyrs=y&x={x}&y={y}&z={z}',\n",
        "        attr = 'Google',\n",
        "        name = 'Google Satellite',\n",
        "        overlay = True,\n",
        "        control = True\n",
        "    ),\n",
        "    'Esri Satellite': folium.TileLayer(\n",
        "        tiles = 'https://server.arcgisonline.com/ArcGIS/rest/services/World_Imagery/MapServer/tile/{z}/{y}/{x}',\n",
        "        attr = 'Esri',\n",
        "        name = 'Esri Satellite',\n",
        "        overlay = True,\n",
        "        control = True\n",
        "    )\n",
        "}\n",
        "\n",
        "# Define a method for displaying Earth Engine image tiles on a folium map.\n",
        "def add_ee_layer(self, ee_object, vis_params, name):\n",
        "    \n",
        "    try:    \n",
        "        # display ee.Image()\n",
        "        if isinstance(ee_object, ee.image.Image):    \n",
        "            map_id_dict = ee.Image(ee_object).getMapId(vis_params)\n",
        "            folium.raster_layers.TileLayer(\n",
        "            tiles = map_id_dict['tile_fetcher'].url_format,\n",
        "            attr = 'Google Earth Engine',\n",
        "            name = name,\n",
        "            overlay = True,\n",
        "            control = True\n",
        "            ).add_to(self)\n",
        "        # display ee.ImageCollection()\n",
        "        elif isinstance(ee_object, ee.imagecollection.ImageCollection):    \n",
        "            ee_object_new = ee_object.mosaic()\n",
        "            map_id_dict = ee.Image(ee_object_new).getMapId(vis_params)\n",
        "            folium.raster_layers.TileLayer(\n",
        "            tiles = map_id_dict['tile_fetcher'].url_format,\n",
        "            attr = 'Google Earth Engine',\n",
        "            name = name,\n",
        "            overlay = True,\n",
        "            control = True\n",
        "            ).add_to(self)\n",
        "        # display ee.Geometry()\n",
        "        elif isinstance(ee_object, ee.geometry.Geometry):    \n",
        "            folium.GeoJson(\n",
        "            data = ee_object.getInfo(),\n",
        "            name = name,\n",
        "            overlay = True,\n",
        "            control = True\n",
        "        ).add_to(self)\n",
        "        # display ee.FeatureCollection()\n",
        "        elif isinstance(ee_object, ee.featurecollection.FeatureCollection):  \n",
        "            ee_object_new = ee.Image().paint(ee_object, 0, 2)\n",
        "            map_id_dict = ee.Image(ee_object_new).getMapId(vis_params)\n",
        "            folium.raster_layers.TileLayer(\n",
        "            tiles = map_id_dict['tile_fetcher'].url_format,\n",
        "            attr = 'Google Earth Engine',\n",
        "            name = name,\n",
        "            overlay = True,\n",
        "            control = True\n",
        "        ).add_to(self)\n",
        "    \n",
        "    except:\n",
        "        print(\"Could not display {}\".format(name))\n",
        "    \n",
        "# Add EE drawing method to folium.\n",
        "folium.Map.add_ee_layer = add_ee_layer\n",
        "\n",
        "print(\"Packages installed\")"
      ]
    },
    {
      "cell_type": "markdown",
      "metadata": {
        "id": "1C4zmuTIA8SR"
      },
      "source": [
        "## **1.2 Imported variables**\n",
        "These are Landsat-specific variable settings for GEE."
      ]
    },
    {
      "cell_type": "code",
      "execution_count": 5,
      "metadata": {
        "cellView": "form",
        "id": "CkiZcezXBEG5",
        "outputId": "624a6b75-6be6-4d1f-8862-bfd4dde69e9e",
        "colab": {
          "base_uri": "https://localhost:8080/"
        }
      },
      "outputs": [
        {
          "output_type": "stream",
          "name": "stdout",
          "text": [
            "variables and functions imported\n"
          ]
        }
      ],
      "source": [
        "#@markdown __Run this block__ to import pre-existing features, images, and collections from Earth Engine\n",
        "wrs2 = ee.FeatureCollection(\"users/christinaherrickunh/WRS2_descending_2018\")\n",
        "utmbounds = ee.FeatureCollection(\"users/christinaherrickunh/UTM_Zone_Boundaries\")\n",
        "sw = ee.Image(\"JRC/GSW1_2/GlobalSurfaceWater\")\n",
        "openwater = sw.select(\"occurrence\")\n",
        "l4t1 = ee.ImageCollection(\"LANDSAT/LT04/C02/T1_L2\")\n",
        "l4t2 = ee.ImageCollection(\"LANDSAT/LT04/C02/T2_L2\")\n",
        "l5t1 = ee.ImageCollection(\"LANDSAT/LT05/C02/T1_L2\")\n",
        "l5t2 = ee.ImageCollection(\"LANDSAT/LT05/C02/T2_L2\")\n",
        "l7t1 = ee.ImageCollection(\"LANDSAT/LE07/C02/T1_L2\")\n",
        "l7t2 = ee.ImageCollection(\"LANDSAT/LE07/C02/T2_L2\")\n",
        "l8t1 = ee.ImageCollection(\"LANDSAT/LC08/C02/T1_L2\")\n",
        "l8t2 = ee.ImageCollection(\"LANDSAT/LC08/C02/T2_L2\")\n",
        "\n",
        "\n",
        "def prep457bands(img):\n",
        "  systime = img.get('system:time_start')\n",
        "  elev = img.get(\"SUN_ELEVATION\")\n",
        "  sza = ee.Number(90).subtract(elev)\n",
        "  \n",
        "  qa = img.select([\"QA_PIXEL\"])\n",
        "  cloud1 = qa.bitwiseAnd(2).eq(0)  # bit 1, dilated cloud\n",
        "  cloud3 = qa.bitwiseAnd(8).eq(0)  # bit 3, cloud\n",
        "  snow = qa.bitwiseAnd(32).eq(0)  # bit 5, snow\n",
        "  cloud_confid = qa.rightShift(8).bitwiseAnd(3).lt(2)  # bits 8-9\n",
        "  snow_confid = qa.rightShift(12).bitwiseAnd(3).lt(2)  # bits 12-13\n",
        "  cirrus_confid = qa.rightShift(14).bitwiseAnd(3).lt(2)  # bits 14-15\n",
        "\n",
        "  temp = img.select([\"ST_B6\"],[\"surface_temp\"]).multiply(0.00341802).add(149).add(-273.15)\n",
        "  \n",
        "  updated = (temp.updateMask(cloud1).updateMask(cloud3).updateMask(snow)\n",
        "  .updateMask(cloud_confid).updateMask(snow_confid).updateMask(cirrus_confid))\n",
        "          \n",
        "  return ee.Image(updated).copyProperties(img).set(\"system:time_start\",systime).set(\"SOLAR_ZENITH_ANGLE\", sza)\n",
        "\n",
        "def prep8bands(img):\n",
        "  systime = img.get('system:time_start')\n",
        "  elev = img.get(\"SUN_ELEVATION\")\n",
        "  sza = ee.Number(90).subtract(elev)\n",
        "\n",
        "  qa = img.select([\"QA_PIXEL\"])\n",
        "  cloud1 = qa.bitwiseAnd(2).eq(0)  # bit 1, dilated cloud\n",
        "  cloud2 = qa.bitwiseAnd(4).eq(0)  # bit 2, cirrus (high confidence)\n",
        "  cloud3 = qa.bitwiseAnd(8).eq(0)  # bit 3, cloud\n",
        "  snow = qa.bitwiseAnd(32).eq(0)  # bit 5, snow\n",
        "  cloud_confid = qa.rightShift(8).bitwiseAnd(3).lt(2)  # bits 8-9\n",
        "  snow_confid = qa.rightShift(12).bitwiseAnd(3).lt(2)  # bits 12-13\n",
        "  cirrus_confid = qa.rightShift(14).bitwiseAnd(3).lt(2)  # bits 14-15\n",
        "  \n",
        "  temp = img.select([\"ST_B10\"],[\"surface_temp\"]).multiply(0.00341802).add(149).add(-273.15)\n",
        "  updated = (temp.updateMask(cloud1).updateMask(cloud3).updateMask(snow).\n",
        "             updateMask(cloud_confid).updateMask(snow_confid).updateMask(cirrus_confid))\n",
        "\n",
        "  return ee.Image(updated).copyProperties(img).set(\"system:time_start\",systime).set(\"SOLAR_ZENITH_ANGLE\", sza)\n",
        "\n",
        "\n",
        "print(\"variables and functions imported\")"
      ]
    },
    {
      "cell_type": "markdown",
      "metadata": {
        "id": "rxgpEciUBKLy"
      },
      "source": [
        "## **1.3 Define the lake area**\n",
        "\n",
        "In this section, use either *Option A*, where you define the bounding box, or *Option B* where you import a shape file of your lake. \n"
      ]
    },
    {
      "cell_type": "markdown",
      "metadata": {
        "id": "9JiuNetjpgpJ"
      },
      "source": [
        "###Option A: use a bounding box\n",
        "Use the Rectangle tool on the map to draw a bounding box. The bounding box should be as small as possible while still including the entire lake surface. It cannot be a centroid location.<p>Do not run this block if you are using Option B."
      ]
    },
    {
      "cell_type": "code",
      "execution_count": 6,
      "metadata": {
        "cellView": "form",
        "id": "P7-dEgc0A9_0",
        "outputId": "c31032aa-bfed-4412-9a46-ea7ddb5aba14",
        "colab": {
          "base_uri": "https://localhost:8080/",
          "height": 521,
          "referenced_widgets": [
            "57a5fa0fa55b4508ad19ecaf4ec8b8c2",
            "cc80a8bc29444e019ee2a8e674fccdea",
            "bde85d5f53b648449104e6bc052b3b80",
            "0a8e03b256744da9884d672888552999",
            "5ee17b479bac46789c4436ddb9b9d52f",
            "31be7c6b23ca4b359557b8f1b0ac7171",
            "41c7ac1cb43245c284d9a0fb5cf45486",
            "5405b68219cd40b7beb598371c24a13f",
            "40118a39b9794c759477a3deb9e109e8",
            "aeb1586b64784a7c9853395c50e4852c"
          ]
        }
      },
      "outputs": [
        {
          "output_type": "display_data",
          "data": {
            "text/plain": [
              "Map(center=[15, 0], controls=(ZoomControl(options=['position', 'zoom_in_text', 'zoom_in_title', 'zoom_out_text…"
            ],
            "application/vnd.jupyter.widget-view+json": {
              "version_major": 2,
              "version_minor": 0,
              "model_id": "57a5fa0fa55b4508ad19ecaf4ec8b8c2"
            }
          },
          "metadata": {
            "application/vnd.jupyter.widget-view+json": {
              "colab": {
                "custom_widget_manager": {
                  "url": "https://ssl.gstatic.com/colaboratory-static/widgets/colab-cdn-widget-manager/a8874ba6619b6106/manager.min.js"
                }
              }
            }
          }
        }
      ],
      "source": [
        "#@markdown Run this block to generate a map and use the Rectangle tool to draw a bounding box. \n",
        "#@markdown The bounding box should be as small as possible while still including the entire lake surface. It cannot be a centroid location.\n",
        "#@markdown If more than one box is drawn, the most recently drawn box will be used.\n",
        "#@markdown <p>Do not run this block if you are using Option B.\n",
        "\n",
        "from ipyleaflet import SearchControl, Marker, AwesomeIcon\n",
        "\n",
        "'''pure leaflet'''\n",
        "# baseMap = basemap_to_tiles(basemaps.CartoDB.DarkMatter)\n",
        "m = Map(center=(15,0), zoom=2, scroll_wheel_zoom=True, layout=Layout(width='80%', height='500px'))\n",
        "\n",
        "draw_control = DrawControl(rectangle={\"shapeOptions\":{\"fillColor\":\"#3fca45d\", \"color\":\"#efed69\", \"fillOpacity\": 0.25}}, circle={}, circlemarker={}, polygon={}, polyline={})\n",
        "search_control = SearchControl(position=\"topright\", url='https://nominatim.openstreetmap.org/search?format=json&q={s}', zoom=7)\n",
        "\n",
        "gj = []\n",
        "def handle_draw(self, action, geo_json):\n",
        "  if action in ['created','edited']:\n",
        "    gj.append(geo_json)\n",
        "    box = ee.Geometry.Polygon(gj[-1][\"geometry\"][\"coordinates\"],None, False, 100)\n",
        "    rec_geojson = gj[-1][\"geometry\"][\"coordinates\"]\n",
        "    lon1, lat1 = rec_geojson[0][0]\n",
        "    lon2, lat2 = rec_geojson[0][2]\n",
        "\n",
        "draw_control.on_draw(handle_draw)\n",
        "m.add_control(draw_control)\n",
        "m.add_control(search_control)\n",
        "m\n"
      ]
    },
    {
      "cell_type": "code",
      "execution_count": 7,
      "metadata": {
        "cellView": "form",
        "id": "CX2G1Rtn_RNe",
        "outputId": "b502953b-bf6d-428c-c09d-2138e2272a16",
        "colab": {
          "base_uri": "https://localhost:8080/"
        }
      },
      "outputs": [
        {
          "output_type": "stream",
          "name": "stdout",
          "text": [
            "\n",
            "  north bounds: 43.318734\n",
            "  south bounds: 43.435719\n",
            "  west bounds: -72.095922\n",
            "  east bounds: -72.008852\n",
            "  \n"
          ]
        }
      ],
      "source": [
        "#@markdown Run this block to set up your bounding box coordinates.\n",
        "use_user_input_file = \"no\"\n",
        "try:\n",
        "  box = ee.Geometry.Polygon(gj[-1][\"geometry\"][\"coordinates\"],None, False, 100)\n",
        "  rec_geojson = gj[-1][\"geometry\"][\"coordinates\"]\n",
        "  lon1, lat1 = rec_geojson[0][0]\n",
        "  lon2, lat2 = rec_geojson[0][2]\n",
        "\n",
        "  center_lat = (lat1+lat2)/2\n",
        "  center_lon = (lon1+lon2)/2\n",
        "\n",
        "  print(f'''\n",
        "  north bounds: {lat1}\n",
        "  south bounds: {lat2}\n",
        "  west bounds: {lon1}\n",
        "  east bounds: {lon2}\n",
        "  ''')\n",
        "except IndexError:\n",
        "  print(\"An error occurred, usually because this block was run but no box was drawn on the above map\")"
      ]
    },
    {
      "cell_type": "markdown",
      "metadata": {
        "id": "DBZzaGgqpr8W"
      },
      "source": [
        "###Option B: upload a table file\n",
        "Using your Google Earth Engine account, upload a shapefile or csv of your study lake to your Assets and link to it here.<p>Click [here](https://drive.google.com/file/d/1lfFoZzQD_wAA7Bnil7mI4zwjKDG5kegh/view?usp=sharing) and [here](https://drive.google.com/file/d/1KNaZV63J_LUp6X1OcoLX1wonF0ASiIzi/view?usp=sharing) for screenshots of the process. "
      ]
    },
    {
      "cell_type": "code",
      "execution_count": null,
      "metadata": {
        "cellView": "form",
        "id": "e0lONKBvqAUp"
      },
      "outputs": [],
      "source": [
        "#@markdown Copy the asset path from Google Earth Engine and change\n",
        "#@markdown dropdown to `yes`.\n",
        "#@markdown File path should begin with 'users/'\n",
        "user_input_file = \"\" #@param {type: \"string\"}\n",
        "use_user_input_file = \"no\" #@param [\"yes\",\"no\"] {allow-input: false}\n",
        "#@markdown Remember to __run this block__ after filling in the above fields.\n",
        "#@markdown Do not run this block if you are using Option A.\n",
        "\n",
        "if use_user_input_file==\"no\":\n",
        "  print(\"If you intend to use Option B, change the 'use_user_input_file' variable to 'yes' and rerun\")\n",
        "elif len(user_input_file)>1:\n",
        "  shp = ee.FeatureCollection(user_input_file).geometry()\n",
        "  centroid = shp.centroid(10).getInfo()[\"coordinates\"]\n",
        "  center_lat = centroid[1]\n",
        "  center_lon = centroid[0]\n",
        "  print(center_lat)\n",
        "  print(center_lon)\n",
        "else:\n",
        "  print(\"No file input; will use Opt A bounding box coordinates\")\n",
        "  use_user_input_file = \"no\"\n",
        "\n",
        "if 'shp' in globals() or 'shp' in locals():\n",
        "  shp_map = folium.Map(location=[center_lat,center_lon],zoom_start=10,width=600,height=600)\n",
        "  shp_map.add_child(folium.LatLngPopup())\n",
        "  basemaps['Google Maps'].add_to(shp_map)\n",
        "  shp_map.add_ee_layer(shp,{},'aoi')\n",
        "  display(shp_map)\n",
        "# else:\n",
        "#   print(\"Display does not apply here; Opt A bounding box is being used for AOI\")"
      ]
    },
    {
      "cell_type": "markdown",
      "metadata": {
        "id": "bDrkGq_jwgIo"
      },
      "source": [
        "## **1.4 Set remaining user variables**\n",
        "\n",
        "This section defines acceptable water persistence and error for the Landsat pixels, the time period of interest, and confirms the path and row for Landsat acquisition. You can also change the default Google Drive folder for any outputs."
      ]
    },
    {
      "cell_type": "code",
      "execution_count": 8,
      "metadata": {
        "cellView": "form",
        "id": "L5s5K2jQm9Zt",
        "outputId": "702582f6-bbdc-494f-9759-1ee267bce2fe",
        "colab": {
          "base_uri": "https://localhost:8080/"
        }
      },
      "outputs": [
        {
          "output_type": "stream",
          "name": "stdout",
          "text": [
            "Your data will be saved in /content/drive/MyDrive/lakeCoSTR_output/sunapee_example\n",
            "Files will all have the prefix: sunapee_example\n"
          ]
        }
      ],
      "source": [
        "#@markdown We suggest saving the lakeCoSTR data to it's own folder in your Google Drive. \n",
        "#@markdown Replace your lake name where the following prompts read 'LAKENAME'. These folders\n",
        "#@markdown will be automatically created within this script.\n",
        "\n",
        "lake_name = 'sunapee_example' #@param {type:\"string\"}\n",
        "output_dir = \"/content/drive/MyDrive/lakeCoSTR_output/\"+ lake_name\n",
        "\n",
        "#this parses the 'output_dir' string to get last listed subfolder\n",
        "short_dir = lake_name\n",
        "file_prefix = lake_name\n",
        "print(f\"Your data will be saved in {output_dir}\")\n",
        "\n",
        "if not os.path.exists(output_dir):\n",
        "  os.makedirs(output_dir)\n",
        "\n",
        "def check_splcharacter(test):\n",
        "  string_check = re.compile('[@!#$%^&*() <>?/\\|}{~:]')\n",
        "  if not string_check.search(test)==None:\n",
        "    print(\"Your file prefix contains special characters, please fix\")\n",
        "    lake_name = \"LAKENAME\"\n",
        "  else:\n",
        "    print(\"Files will all have the prefix:\",test)\n",
        "\n",
        "check_splcharacter(file_prefix)"
      ]
    },
    {
      "cell_type": "code",
      "execution_count": 9,
      "metadata": {
        "cellView": "form",
        "id": "RwhZWCrkVrb0",
        "outputId": "ed1c618c-5598-4c3d-b8f8-068ffaef0984",
        "colab": {
          "base_uri": "https://localhost:8080/",
          "height": 745
        }
      },
      "outputs": [
        {
          "output_type": "stream",
          "name": "stdout",
          "text": [
            "Occurrence of water detected by Landsat where water is present at least  55 % of the time (in blue)\n",
            "Water occurrence less than  55 % of the time are in white\n"
          ]
        },
        {
          "output_type": "display_data",
          "data": {
            "text/plain": [
              "<branca.element.Figure at 0x7f3148971d50>"
            ],
            "text/html": [
              "<div style=\"width:60%;\"><div style=\"position:relative;width:100%;height:0;padding-bottom:60%;\"><span style=\"color:#565656\">Make this Notebook Trusted to load map: File -> Trust Notebook</span><iframe src=\"about:blank\" style=\"position:absolute;width:100%;height:100%;left:0;top:0;border:none !important;\" data-html=%3C%21DOCTYPE%20html%3E%0A%3Chead%3E%20%20%20%20%0A%20%20%20%20%3Cmeta%20http-equiv%3D%22content-type%22%20content%3D%22text/html%3B%20charset%3DUTF-8%22%20/%3E%0A%20%20%20%20%3Cscript%3EL_PREFER_CANVAS%3Dfalse%3B%20L_NO_TOUCH%3Dfalse%3B%20L_DISABLE_3D%3Dfalse%3B%3C/script%3E%0A%20%20%20%20%3Cscript%20src%3D%22https%3A//cdn.jsdelivr.net/npm/leaflet%401.4.0/dist/leaflet.js%22%3E%3C/script%3E%0A%20%20%20%20%3Cscript%20src%3D%22https%3A//code.jquery.com/jquery-1.12.4.min.js%22%3E%3C/script%3E%0A%20%20%20%20%3Cscript%20src%3D%22https%3A//maxcdn.bootstrapcdn.com/bootstrap/3.2.0/js/bootstrap.min.js%22%3E%3C/script%3E%0A%20%20%20%20%3Cscript%20src%3D%22https%3A//cdnjs.cloudflare.com/ajax/libs/Leaflet.awesome-markers/2.0.2/leaflet.awesome-markers.js%22%3E%3C/script%3E%0A%20%20%20%20%3Clink%20rel%3D%22stylesheet%22%20href%3D%22https%3A//cdn.jsdelivr.net/npm/leaflet%401.4.0/dist/leaflet.css%22/%3E%0A%20%20%20%20%3Clink%20rel%3D%22stylesheet%22%20href%3D%22https%3A//maxcdn.bootstrapcdn.com/bootstrap/3.2.0/css/bootstrap.min.css%22/%3E%0A%20%20%20%20%3Clink%20rel%3D%22stylesheet%22%20href%3D%22https%3A//maxcdn.bootstrapcdn.com/bootstrap/3.2.0/css/bootstrap-theme.min.css%22/%3E%0A%20%20%20%20%3Clink%20rel%3D%22stylesheet%22%20href%3D%22https%3A//maxcdn.bootstrapcdn.com/font-awesome/4.6.3/css/font-awesome.min.css%22/%3E%0A%20%20%20%20%3Clink%20rel%3D%22stylesheet%22%20href%3D%22https%3A//cdnjs.cloudflare.com/ajax/libs/Leaflet.awesome-markers/2.0.2/leaflet.awesome-markers.css%22/%3E%0A%20%20%20%20%3Clink%20rel%3D%22stylesheet%22%20href%3D%22https%3A//rawcdn.githack.com/python-visualization/folium/master/folium/templates/leaflet.awesome.rotate.css%22/%3E%0A%20%20%20%20%3Cstyle%3Ehtml%2C%20body%20%7Bwidth%3A%20100%25%3Bheight%3A%20100%25%3Bmargin%3A%200%3Bpadding%3A%200%3B%7D%3C/style%3E%0A%20%20%20%20%3Cstyle%3E%23map%20%7Bposition%3Aabsolute%3Btop%3A0%3Bbottom%3A0%3Bright%3A0%3Bleft%3A0%3B%7D%3C/style%3E%0A%20%20%20%20%0A%20%20%20%20%3Cmeta%20name%3D%22viewport%22%20content%3D%22width%3Ddevice-width%2C%0A%20%20%20%20%20%20%20%20initial-scale%3D1.0%2C%20maximum-scale%3D1.0%2C%20user-scalable%3Dno%22%20/%3E%0A%20%20%20%20%3Cstyle%3E%23map_99c7db0c24384c0b98ad7f765916da0b%20%7B%0A%20%20%20%20%20%20%20%20position%3A%20relative%3B%0A%20%20%20%20%20%20%20%20width%3A%20100.0%25%3B%0A%20%20%20%20%20%20%20%20height%3A%20100.0%25%3B%0A%20%20%20%20%20%20%20%20left%3A%200.0%25%3B%0A%20%20%20%20%20%20%20%20top%3A%200.0%25%3B%0A%20%20%20%20%20%20%20%20%7D%0A%20%20%20%20%3C/style%3E%0A%3C/head%3E%0A%3Cbody%3E%20%20%20%20%0A%20%20%20%20%0A%20%20%20%20%3Cdiv%20class%3D%22folium-map%22%20id%3D%22map_99c7db0c24384c0b98ad7f765916da0b%22%20%3E%3C/div%3E%0A%3C/body%3E%0A%3Cscript%3E%20%20%20%20%0A%20%20%20%20%0A%20%20%20%20%0A%20%20%20%20%20%20%20%20var%20bounds%20%3D%20null%3B%0A%20%20%20%20%0A%0A%20%20%20%20var%20map_99c7db0c24384c0b98ad7f765916da0b%20%3D%20L.map%28%0A%20%20%20%20%20%20%20%20%27map_99c7db0c24384c0b98ad7f765916da0b%27%2C%20%7B%0A%20%20%20%20%20%20%20%20center%3A%20%5B43.3772265%2C%20-72.05238700000001%5D%2C%0A%20%20%20%20%20%20%20%20zoom%3A%2010%2C%0A%20%20%20%20%20%20%20%20maxBounds%3A%20bounds%2C%0A%20%20%20%20%20%20%20%20layers%3A%20%5B%5D%2C%0A%20%20%20%20%20%20%20%20worldCopyJump%3A%20false%2C%0A%20%20%20%20%20%20%20%20crs%3A%20L.CRS.EPSG3857%2C%0A%20%20%20%20%20%20%20%20zoomControl%3A%20true%2C%0A%20%20%20%20%20%20%20%20%7D%29%3B%0A%0A%0A%20%20%20%20%0A%20%20%20%20%0A%20%20%20%20%20%20%20%20%20%20%20%20%20%20%20%20var%20lat_lng_popup_e61b281a0f434dd0bdcb481607b3109c%20%3D%20L.popup%28%29%3B%0A%20%20%20%20%20%20%20%20%20%20%20%20%20%20%20%20function%20latLngPop%28e%29%20%7B%0A%20%20%20%20%20%20%20%20%20%20%20%20%20%20%20%20%20%20%20%20lat_lng_popup_e61b281a0f434dd0bdcb481607b3109c%0A%20%20%20%20%20%20%20%20%20%20%20%20%20%20%20%20%20%20%20%20%20%20%20%20.setLatLng%28e.latlng%29%0A%20%20%20%20%20%20%20%20%20%20%20%20%20%20%20%20%20%20%20%20%20%20%20%20.setContent%28%22Latitude%3A%20%22%20%2B%20e.latlng.lat.toFixed%284%29%20%2B%0A%20%20%20%20%20%20%20%20%20%20%20%20%20%20%20%20%20%20%20%20%20%20%20%20%20%20%20%20%20%20%20%20%20%20%20%20%22%3Cbr%3ELongitude%3A%20%22%20%2B%20e.latlng.lng.toFixed%284%29%29%0A%20%20%20%20%20%20%20%20%20%20%20%20%20%20%20%20%20%20%20%20%20%20%20%20.openOn%28map_99c7db0c24384c0b98ad7f765916da0b%29%3B%0A%20%20%20%20%20%20%20%20%20%20%20%20%20%20%20%20%20%20%20%20%7D%0A%20%20%20%20%20%20%20%20%20%20%20%20%20%20%20%20map_99c7db0c24384c0b98ad7f765916da0b.on%28%27click%27%2C%20latLngPop%29%3B%0A%20%20%20%20%20%20%20%20%20%20%20%20%0A%20%20%20%20var%20tile_layer_fa5124d174fa4bd8aee8e885048d109e%20%3D%20L.tileLayer%28%0A%20%20%20%20%20%20%20%20%27https%3A//cartodb-basemaps-%7Bs%7D.global.ssl.fastly.net/dark_all/%7Bz%7D/%7Bx%7D/%7By%7D.png%27%2C%0A%20%20%20%20%20%20%20%20%7B%0A%20%20%20%20%20%20%20%20%22attribution%22%3A%20null%2C%0A%20%20%20%20%20%20%20%20%22detectRetina%22%3A%20false%2C%0A%20%20%20%20%20%20%20%20%22maxNativeZoom%22%3A%2018%2C%0A%20%20%20%20%20%20%20%20%22maxZoom%22%3A%2018%2C%0A%20%20%20%20%20%20%20%20%22minZoom%22%3A%200%2C%0A%20%20%20%20%20%20%20%20%22noWrap%22%3A%20false%2C%0A%20%20%20%20%20%20%20%20%22opacity%22%3A%201%2C%0A%20%20%20%20%20%20%20%20%22subdomains%22%3A%20%22abc%22%2C%0A%20%20%20%20%20%20%20%20%22tms%22%3A%20false%0A%7D%29.addTo%28map_99c7db0c24384c0b98ad7f765916da0b%29%3B%0A%20%20%20%20%0A%20%20%20%20%20%20%20%20var%20geo_json_6463b7355fab4419968f3f3cd0868837%20%3D%20L.geoJson%28%0A%20%20%20%20%20%20%20%20%20%20%20%20%7B%22features%22%3A%20%5B%7B%22geometry%22%3A%20%7B%22coordinates%22%3A%20%5B%5B%5B-72.095922%2C%2043.318734%5D%2C%20%5B-72.095922%2C%2043.435719%5D%2C%20%5B-72.008852%2C%2043.435719%5D%2C%20%5B-72.008852%2C%2043.318734%5D%2C%20%5B-72.095922%2C%2043.318734%5D%5D%5D%2C%20%22geodesic%22%3A%20false%2C%20%22type%22%3A%20%22Polygon%22%7D%2C%20%22properties%22%3A%20%7B%22highlight%22%3A%20%7B%7D%2C%20%22style%22%3A%20%7B%7D%7D%2C%20%22type%22%3A%20%22Feature%22%7D%5D%2C%20%22type%22%3A%20%22FeatureCollection%22%7D%2C%0A%20%20%20%20%20%20%20%20%20%20%20%20%7B%0A%20%20%20%20%20%20%20%20%20%20%20%20%7D%0A%20%20%20%20%20%20%20%20%29.addTo%28map_99c7db0c24384c0b98ad7f765916da0b%20%29%3B%0A%20%20%20%20%20%20%20%20geo_json_6463b7355fab4419968f3f3cd0868837.setStyle%28function%28feature%29%20%7Breturn%20feature.properties.style%3B%7D%29%3B%0A%20%20%20%20%20%20%20%20%0A%20%20%20%20var%20tile_layer_48fd3aff79124fc18256175d96afccd0%20%3D%20L.tileLayer%28%0A%20%20%20%20%20%20%20%20%27https%3A//earthengine.googleapis.com/v1alpha/projects/earthengine-legacy/maps/ed74ecc8bcfe278e492e3f8998b8091b-b6ffb6505b35f1ea30164fff97c9e5e7/tiles/%7Bz%7D/%7Bx%7D/%7By%7D%27%2C%0A%20%20%20%20%20%20%20%20%7B%0A%20%20%20%20%20%20%20%20%22attribution%22%3A%20%22Google%20Earth%20Engine%22%2C%0A%20%20%20%20%20%20%20%20%22detectRetina%22%3A%20false%2C%0A%20%20%20%20%20%20%20%20%22maxNativeZoom%22%3A%2018%2C%0A%20%20%20%20%20%20%20%20%22maxZoom%22%3A%2018%2C%0A%20%20%20%20%20%20%20%20%22minZoom%22%3A%200%2C%0A%20%20%20%20%20%20%20%20%22noWrap%22%3A%20false%2C%0A%20%20%20%20%20%20%20%20%22opacity%22%3A%201%2C%0A%20%20%20%20%20%20%20%20%22subdomains%22%3A%20%22abc%22%2C%0A%20%20%20%20%20%20%20%20%22tms%22%3A%20false%0A%7D%29.addTo%28map_99c7db0c24384c0b98ad7f765916da0b%29%3B%0A%3C/script%3E onload=\"this.contentDocument.open();this.contentDocument.write(    decodeURIComponent(this.getAttribute('data-html')));this.contentDocument.close();\" allowfullscreen webkitallowfullscreen mozallowfullscreen></iframe></div></div>"
            ]
          },
          "metadata": {}
        }
      ],
      "source": [
        "#@markdown Boundaries of water bodies are automatically detected using the JRC \n",
        "#@markdown Global Surface Water Mapping Layer dataset of percent water occurrence. \n",
        "#@markdown By default, a pixel has to be classified as water at least 55% of the \n",
        "#@markdown time. This is defined as `pctTime`. If your lake of interest experiences \n",
        "#@markdown significant fluctuations of lake level, we suggest using a higher percentage than the default. \n",
        "\n",
        "#@markdown <p>More information on this dataset can be found at https://doi.org/10.1038/nature20584\n",
        "\n",
        "\n",
        "\n",
        "pctTime = 55  #@param {type: \"number\"}\n",
        "#@markdown __Run this block__ after inputting the above parameter\n",
        "\n",
        "water_fig = folium.Figure(width=\"60%\")\n",
        "water_map = folium.Map(location=[center_lat,center_lon],zoom_start=10,tiles=None).add_to(water_fig)\n",
        "water_map.add_child(folium.LatLngPopup())\n",
        "\n",
        "# blues = [\"f7fbff\",\"deebf7\",\"c6dbef\",\"9ecae1\",\"6baed6\",\"4292c6\",\"2171b5\",\"08519c\",\"08306b\"]\n",
        "blues = [\"FFFFFF\",\"08306b\"]\n",
        "\n",
        "# basemaps['Google Satellite'].add_to(water_map)\n",
        "folium.TileLayer('cartodbdark_matter').add_to(water_map)\n",
        "water_map.add_ee_layer(box,{},'aoi')\n",
        "water_map.add_ee_layer(openwater,{\"min\":pctTime, \"max\":100, \"palette\":blues}, 'water presence')\n",
        "# water_map.add_ee_layer(box,{},'aoi')\n",
        "print(\"Occurrence of water detected by Landsat where water is present at least \",pctTime,\"% of the time (in blue)\")\n",
        "print(\"Water occurrence less than \", pctTime, \"% of the time are in white\")\n",
        "display(water_fig)"
      ]
    },
    {
      "cell_type": "code",
      "execution_count": 10,
      "metadata": {
        "cellView": "form",
        "id": "N9WlKk7iHcRC",
        "outputId": "dcaf958d-ce06-429d-9fb4-decf6f902ba9",
        "colab": {
          "base_uri": "https://localhost:8080/"
        }
      },
      "outputs": [
        {
          "output_type": "stream",
          "name": "stdout",
          "text": [
            "Tier 2 L1T scenes with a maximum root mean square error of 24 meters will be considered\n"
          ]
        }
      ],
      "source": [
        "#@markdown Landsat scenes from both Tier 1 and Tier 2 of Collection 2 are \n",
        "#@markdown included for possible use. For Tier 2, specify the maximum spatial \n",
        "#@markdown error (in meters) for pixels. Only orthorectified images (L1T) are \n",
        "#@markdown considered. The default value is 24 meters.\n",
        "rmse = 24  #@param {type: \"number\"}\n",
        "#@markdown __Run this block__ after inputting the above parameter\n",
        "print(f\"Tier 2 L1T scenes with a maximum root mean square error of {rmse} meters will be considered\")"
      ]
    },
    {
      "cell_type": "code",
      "execution_count": 11,
      "metadata": {
        "cellView": "form",
        "id": "ypJaiep9n1F7",
        "outputId": "90d36f4e-b290-4293-ad72-743c9011c8bc",
        "colab": {
          "base_uri": "https://localhost:8080/"
        }
      },
      "outputs": [
        {
          "output_type": "stream",
          "name": "stdout",
          "text": [
            "Script will search years 2015 through 2020 and months 5 through 11 of each year\n"
          ]
        }
      ],
      "source": [
        "#@markdown Landsat thermal band records begin in 1982 with Landsat 4 Thematic Mapper (TM). \n",
        "#@markdown Enter the year range that you want to search, as well as months of \n",
        "#@markdown the year. To search all months, `m1 = 1` and `m2 = 12` <p>\n",
        "#@markdown <p>First year (y1) and last year (y2). Years are inclusive, minimum value is 1982. <p>\n",
        "#@markdown <p>First month (m1) and last month (m2). Months are inclusive.<p>\n",
        "#@markdown <p>Note that this method has only been tested for temperature estimation where there is no ice present on the lake. \n",
        "\n",
        "y1 = 2015 #@param {type: \"number\"}\n",
        "y2 =  2020#@param {type: \"number\"}\n",
        "\n",
        "m1 =  5#@param {type: \"number\"}\n",
        "m2 = 11 #@param {type: \"number\"}\n",
        "print('Script will search years %d through %d and months %d through %d of each year' % (y1,y2,m1,m2))\n",
        "#@markdown __Run this block__ after inputting the above parameters"
      ]
    },
    {
      "cell_type": "markdown",
      "metadata": {
        "id": "1xE7MPgvY78u"
      },
      "source": [
        "# **2. Find water pixels & delineate boundary**\n",
        "This step uses the bounding box or the table file as well as the water persistence using [JRC Water dataset](https://global-surface-water.appspot.com/) to define the waterbody area. \n",
        "\n",
        "Note, in some cases the _Opt A_ bounding box method will include upstream and downstream water areas, particularily where there are rivers that are large enough to be detected by Landsat. To avoid this, use the _Opt B_ table file method. <p>\n",
        "You can explore the JRC Water dataset [here](https://global-surface-water.appspot.com/).<p>"
      ]
    },
    {
      "cell_type": "code",
      "execution_count": 12,
      "metadata": {
        "cellView": "form",
        "id": "V1ljgJffQF1Y",
        "outputId": "97d7ff7d-82af-4197-ea9a-567559f90d35",
        "colab": {
          "base_uri": "https://localhost:8080/",
          "height": 821
        }
      },
      "outputs": [
        {
          "output_type": "stream",
          "name": "stdout",
          "text": [
            "Data will be calculated with output CRS: EPSG:32618\n",
            "\n",
            "Total # of lake pixels:  17165\n",
            "25% of available lake pixels is 4291\n",
            "\n",
            "Your lake overlaps 1 landsat footprint(s)\n",
            "bounding path(s): 13 (west) to 13 (east)\n",
            "bounding row(s): 30 (north) to 30 (south)\n",
            "\n",
            "Great news! Your lake is completely contained by a single path-row footprint.\n",
            "          Because your lake does not cross multiple WRS2 rows, there's nothing more you need to do.\n",
            "          You can skip the next codeblock and move to the 'Get Skin Surface Temperatures' section.\n",
            "          \n"
          ]
        },
        {
          "output_type": "display_data",
          "data": {
            "text/plain": [
              "<folium.folium.Map at 0x7f3148982f10>"
            ],
            "text/html": [
              "<div style=\"width:50%;\"><div style=\"position:relative;width:100%;height:0;padding-bottom:60%;\"><span style=\"color:#565656\">Make this Notebook Trusted to load map: File -> Trust Notebook</span><iframe src=\"about:blank\" style=\"position:absolute;width:100%;height:100%;left:0;top:0;border:none !important;\" data-html=%3C%21DOCTYPE%20html%3E%0A%3Chead%3E%20%20%20%20%0A%20%20%20%20%3Cmeta%20http-equiv%3D%22content-type%22%20content%3D%22text/html%3B%20charset%3DUTF-8%22%20/%3E%0A%20%20%20%20%3Cscript%3EL_PREFER_CANVAS%3Dfalse%3B%20L_NO_TOUCH%3Dfalse%3B%20L_DISABLE_3D%3Dfalse%3B%3C/script%3E%0A%20%20%20%20%3Cscript%20src%3D%22https%3A//cdn.jsdelivr.net/npm/leaflet%401.4.0/dist/leaflet.js%22%3E%3C/script%3E%0A%20%20%20%20%3Cscript%20src%3D%22https%3A//code.jquery.com/jquery-1.12.4.min.js%22%3E%3C/script%3E%0A%20%20%20%20%3Cscript%20src%3D%22https%3A//maxcdn.bootstrapcdn.com/bootstrap/3.2.0/js/bootstrap.min.js%22%3E%3C/script%3E%0A%20%20%20%20%3Cscript%20src%3D%22https%3A//cdnjs.cloudflare.com/ajax/libs/Leaflet.awesome-markers/2.0.2/leaflet.awesome-markers.js%22%3E%3C/script%3E%0A%20%20%20%20%3Clink%20rel%3D%22stylesheet%22%20href%3D%22https%3A//cdn.jsdelivr.net/npm/leaflet%401.4.0/dist/leaflet.css%22/%3E%0A%20%20%20%20%3Clink%20rel%3D%22stylesheet%22%20href%3D%22https%3A//maxcdn.bootstrapcdn.com/bootstrap/3.2.0/css/bootstrap.min.css%22/%3E%0A%20%20%20%20%3Clink%20rel%3D%22stylesheet%22%20href%3D%22https%3A//maxcdn.bootstrapcdn.com/bootstrap/3.2.0/css/bootstrap-theme.min.css%22/%3E%0A%20%20%20%20%3Clink%20rel%3D%22stylesheet%22%20href%3D%22https%3A//maxcdn.bootstrapcdn.com/font-awesome/4.6.3/css/font-awesome.min.css%22/%3E%0A%20%20%20%20%3Clink%20rel%3D%22stylesheet%22%20href%3D%22https%3A//cdnjs.cloudflare.com/ajax/libs/Leaflet.awesome-markers/2.0.2/leaflet.awesome-markers.css%22/%3E%0A%20%20%20%20%3Clink%20rel%3D%22stylesheet%22%20href%3D%22https%3A//rawcdn.githack.com/python-visualization/folium/master/folium/templates/leaflet.awesome.rotate.css%22/%3E%0A%20%20%20%20%3Cstyle%3Ehtml%2C%20body%20%7Bwidth%3A%20100%25%3Bheight%3A%20100%25%3Bmargin%3A%200%3Bpadding%3A%200%3B%7D%3C/style%3E%0A%20%20%20%20%3Cstyle%3E%23map%20%7Bposition%3Aabsolute%3Btop%3A0%3Bbottom%3A0%3Bright%3A0%3Bleft%3A0%3B%7D%3C/style%3E%0A%20%20%20%20%0A%20%20%20%20%3Cmeta%20name%3D%22viewport%22%20content%3D%22width%3Ddevice-width%2C%0A%20%20%20%20%20%20%20%20initial-scale%3D1.0%2C%20maximum-scale%3D1.0%2C%20user-scalable%3Dno%22%20/%3E%0A%20%20%20%20%3Cstyle%3E%23map_6471fce5b89e4d71890d43fbfcc3ecf1%20%7B%0A%20%20%20%20%20%20%20%20position%3A%20relative%3B%0A%20%20%20%20%20%20%20%20width%3A%20100.0%25%3B%0A%20%20%20%20%20%20%20%20height%3A%20100.0%25%3B%0A%20%20%20%20%20%20%20%20left%3A%200.0%25%3B%0A%20%20%20%20%20%20%20%20top%3A%200.0%25%3B%0A%20%20%20%20%20%20%20%20%7D%0A%20%20%20%20%3C/style%3E%0A%3C/head%3E%0A%3Cbody%3E%20%20%20%20%0A%20%20%20%20%0A%20%20%20%20%3Cdiv%20class%3D%22folium-map%22%20id%3D%22map_6471fce5b89e4d71890d43fbfcc3ecf1%22%20%3E%3C/div%3E%0A%3C/body%3E%0A%3Cscript%3E%20%20%20%20%0A%20%20%20%20%0A%20%20%20%20%0A%20%20%20%20%20%20%20%20var%20bounds%20%3D%20null%3B%0A%20%20%20%20%0A%0A%20%20%20%20var%20map_6471fce5b89e4d71890d43fbfcc3ecf1%20%3D%20L.map%28%0A%20%20%20%20%20%20%20%20%27map_6471fce5b89e4d71890d43fbfcc3ecf1%27%2C%20%7B%0A%20%20%20%20%20%20%20%20center%3A%20%5B43.3772265%2C%20-72.05238700000001%5D%2C%0A%20%20%20%20%20%20%20%20zoom%3A%206%2C%0A%20%20%20%20%20%20%20%20maxBounds%3A%20bounds%2C%0A%20%20%20%20%20%20%20%20layers%3A%20%5B%5D%2C%0A%20%20%20%20%20%20%20%20worldCopyJump%3A%20false%2C%0A%20%20%20%20%20%20%20%20crs%3A%20L.CRS.EPSG3857%2C%0A%20%20%20%20%20%20%20%20zoomControl%3A%20true%2C%0A%20%20%20%20%20%20%20%20%7D%29%3B%0A%0A%0A%20%20%20%20%0A%20%20%20%20var%20tile_layer_2995dcbcd36a45618ad3b13fb2890d3a%20%3D%20L.tileLayer%28%0A%20%20%20%20%20%20%20%20%27https%3A//%7Bs%7D.tile.openstreetmap.org/%7Bz%7D/%7Bx%7D/%7By%7D.png%27%2C%0A%20%20%20%20%20%20%20%20%7B%0A%20%20%20%20%20%20%20%20%22attribution%22%3A%20null%2C%0A%20%20%20%20%20%20%20%20%22detectRetina%22%3A%20false%2C%0A%20%20%20%20%20%20%20%20%22maxNativeZoom%22%3A%2018%2C%0A%20%20%20%20%20%20%20%20%22maxZoom%22%3A%2018%2C%0A%20%20%20%20%20%20%20%20%22minZoom%22%3A%200%2C%0A%20%20%20%20%20%20%20%20%22noWrap%22%3A%20false%2C%0A%20%20%20%20%20%20%20%20%22opacity%22%3A%201%2C%0A%20%20%20%20%20%20%20%20%22subdomains%22%3A%20%22abc%22%2C%0A%20%20%20%20%20%20%20%20%22tms%22%3A%20false%0A%7D%29.addTo%28map_6471fce5b89e4d71890d43fbfcc3ecf1%29%3B%0A%20%20%20%20var%20tile_layer_4662a37299994563bb50a0eccf68eec6%20%3D%20L.tileLayer%28%0A%20%20%20%20%20%20%20%20%27https%3A//mt1.google.com/vt/lyrs%3Dm%26x%3D%7Bx%7D%26y%3D%7By%7D%26z%3D%7Bz%7D%27%2C%0A%20%20%20%20%20%20%20%20%7B%0A%20%20%20%20%20%20%20%20%22attribution%22%3A%20%22Google%22%2C%0A%20%20%20%20%20%20%20%20%22detectRetina%22%3A%20false%2C%0A%20%20%20%20%20%20%20%20%22maxNativeZoom%22%3A%2018%2C%0A%20%20%20%20%20%20%20%20%22maxZoom%22%3A%2018%2C%0A%20%20%20%20%20%20%20%20%22minZoom%22%3A%200%2C%0A%20%20%20%20%20%20%20%20%22noWrap%22%3A%20false%2C%0A%20%20%20%20%20%20%20%20%22opacity%22%3A%201%2C%0A%20%20%20%20%20%20%20%20%22subdomains%22%3A%20%22abc%22%2C%0A%20%20%20%20%20%20%20%20%22tms%22%3A%20false%0A%7D%29.addTo%28map_6471fce5b89e4d71890d43fbfcc3ecf1%29%3B%0A%20%20%20%20var%20tile_layer_c99392732b204fef98ef3f80ea67ebd0%20%3D%20L.tileLayer%28%0A%20%20%20%20%20%20%20%20%27https%3A//earthengine.googleapis.com/v1alpha/projects/earthengine-legacy/maps/77cca7d8567bf2e82b85b68e3c112a6c-295ca7e4f13efa4c010be86051e1261c/tiles/%7Bz%7D/%7Bx%7D/%7By%7D%27%2C%0A%20%20%20%20%20%20%20%20%7B%0A%20%20%20%20%20%20%20%20%22attribution%22%3A%20%22Google%20Earth%20Engine%22%2C%0A%20%20%20%20%20%20%20%20%22detectRetina%22%3A%20false%2C%0A%20%20%20%20%20%20%20%20%22maxNativeZoom%22%3A%2018%2C%0A%20%20%20%20%20%20%20%20%22maxZoom%22%3A%2018%2C%0A%20%20%20%20%20%20%20%20%22minZoom%22%3A%200%2C%0A%20%20%20%20%20%20%20%20%22noWrap%22%3A%20false%2C%0A%20%20%20%20%20%20%20%20%22opacity%22%3A%201%2C%0A%20%20%20%20%20%20%20%20%22subdomains%22%3A%20%22abc%22%2C%0A%20%20%20%20%20%20%20%20%22tms%22%3A%20false%0A%7D%29.addTo%28map_6471fce5b89e4d71890d43fbfcc3ecf1%29%3B%0A%20%20%20%20%0A%20%20%20%20%20%20%20%20var%20geo_json_a4e2b05fa9aa41e19aa845063a36cfe2%20%3D%20L.geoJson%28%0A%20%20%20%20%20%20%20%20%20%20%20%20%7B%22features%22%3A%20%5B%7B%22geometry%22%3A%20%7B%22coordinates%22%3A%20%5B%5B%5B-73.77839982357561%2C%2042.5959016942376%5D%2C%20%5B-73.77803868706364%2C%2042.59584817909746%5D%2C%20%5B-73.74362557373134%2C%2042.59083649834542%5D%2C%20%5B-73.70921240692674%2C%2042.58582485630977%5D%2C%20%5B-73.67479931680182%2C%2042.58081312247142%5D%2C%20%5B-73.6403861640629%2C%2042.57580149130678%5D%2C%20%5B-73.60597307880899%2C%2042.57078975948157%5D%2C%20%5B-73.57156001146204%2C%2042.56577813450944%5D%2C%20%5B-73.53714682249156%2C%2042.56076644633946%5D%2C%20%5B-73.5027337317845%2C%2042.55575472344867%5D%2C%20%5B-73.46832059971405%2C%2042.5507430871064%5D%2C%20%5B-73.43390755627088%2C%2042.54573140696146%5D%2C%20%5B-73.39949437175648%2C%2042.540719717925256%5D%2C%20%5B-73.36508126601338%2C%2042.53570804865759%5D%2C%20%5B-73.33066818909829%2C%2042.53069631500564%5D%2C%20%5B-73.29625509099235%2C%2042.52568465123713%5D%2C%20%5B-73.26184192160197%2C%2042.52067297300956%5D%2C%20%5B-73.22742881076499%2C%2042.51566129574976%5D%2C%20%5B-73.19301570832359%2C%2042.510649607953184%5D%2C%20%5B-73.15860265407662%2C%2042.5056379115957%5D%2C%20%5B-73.12418950771689%2C%2042.500626254301395%5D%2C%20%5B-73.08977639898269%2C%2042.495614578724485%5D%2C%20%5B-73.05536327750684%2C%2042.49060287317013%5D%2C%20%5B-73.02095018293467%2C%2042.48559121237401%5D%2C%20%5B-72.98653706479625%2C%2042.4805795117176%5D%2C%20%5B-72.95212396266145%2C%2042.47556784590056%5D%2C%20%5B-72.91771082595892%2C%2042.47055613021164%5D%2C%20%5B-72.88329769418405%2C%2042.465544512133484%5D%2C%20%5B-72.84888460681465%2C%2042.4605327750781%5D%2C%20%5B-72.81447151314887%2C%2042.455521125515666%5D%2C%20%5B-72.78005836241633%2C%2042.450509405729875%5D%2C%20%5B-72.74564528415311%2C%2042.445497777073676%5D%2C%20%5B-72.71123213732938%2C%2042.44048606785344%5D%2C%20%5B-72.67681905143405%2C%2042.43547436663479%5D%2C%20%5B-72.64240597553993%2C%2042.430462734044085%5D%2C%20%5B-72.60799285865352%2C%2042.425451012187196%5D%2C%20%5B-72.57357973996395%2C%2042.420439348412515%5D%2C%20%5B-72.53916656838321%2C%2042.41542765753865%5D%2C%20%5B-72.50475347330261%2C%2042.41041595543491%5D%2C%20%5B-72.47034040357623%2C%2042.40540430252384%5D%2C%20%5B-72.43592721769882%2C%2042.40039259929906%5D%2C%20%5B-72.40151413528267%2C%2042.39538094868363%5D%2C%20%5B-72.3671010147425%2C%2042.390369251108865%5D%2C%20%5B-72.33268789504379%2C%2042.38535758102732%5D%2C%20%5B-72.29827481513536%2C%2042.380345940123846%5D%2C%20%5B-72.26386172359722%2C%2042.37533424293655%5D%2C%20%5B-72.22944856894831%2C%2042.37032254948743%5D%2C%20%5B-72.19503548039475%2C%2042.365310875812774%5D%2C%20%5B-72.16062240640038%2C%2042.36029920913902%5D%2C%20%5B-72.12620920497369%2C%2042.35528752208315%5D%2C%20%5B-72.09179609564546%2C%2042.350275845220445%5D%2C%20%5B-72.05738302676541%2C%2042.34526416567742%5D%2C%20%5B-72.02296994662439%2C%2042.3402524704846%5D%2C%20%5B-71.98855680345525%2C%2042.33524074657644%5D%2C%20%5B-71.95414372632871%2C%2042.330229082901475%5D%2C%20%5B-71.91973057296704%2C%2042.325217378914374%5D%2C%20%5B-71.88531747239867%2C%2042.320205723586376%5D%2C%20%5B-71.85090437272072%2C%2042.31519403097943%5D%2C%20%5B-71.81649122197453%2C%2042.31018236059026%5D%2C%20%5B-71.78207814914073%2C%2042.30517065594622%5D%2C%20%5B-71.74766501170222%2C%2042.30015903443366%5D%2C%20%5B-71.71325193859829%2C%2042.295147294095095%5D%2C%20%5B-71.67883878721287%2C%2042.29013562490557%5D%2C%20%5B-71.64442568644446%2C%2042.28512397044757%5D%2C%20%5B-71.61001258412426%2C%2042.280112317247564%5D%2C%20%5B-71.57559942803078%2C%2042.27510057899007%5D%2C%20%5B-71.56274383775927%2C%2042.31079572820114%5D%2C%20%5B-71.54679883013252%2C%2042.355058248480525%5D%2C%20%5B-71.53085372118416%2C%2042.399320861069484%5D%2C%20%5B-71.51490869584505%2C%2042.443583390029396%5D%2C%20%5B-71.49896366735766%2C%2042.487845976803754%5D%2C%20%5B-71.48301863952493%2C%2042.53210855983982%5D%2C%20%5B-71.46707361614905%2C%2042.576371149734044%5D%2C%20%5B-71.45112851044573%2C%2042.620633669283926%5D%2C%20%5B-71.43518350738336%2C%2042.66489623089967%5D%2C%20%5B-71.41923842958639%2C%2042.70915881362572%5D%2C%20%5B-71.40329337144006%2C%2042.753421369501396%5D%2C%20%5B-71.38734833674303%2C%2042.79768397922147%5D%2C%20%5B-71.37140323868746%2C%2042.84194656375234%5D%2C%20%5B-71.35545826227826%2C%2042.8862090895752%5D%2C%20%5B-71.33951313948273%2C%2042.93047166218595%5D%2C%20%5B-71.3235681459259%2C%2042.97473426246306%5D%2C%20%5B-71.30762310417164%2C%2043.018996794862%5D%2C%20%5B-71.2916780180027%2C%2043.06325940892109%5D%2C%20%5B-71.2757329818303%2C%2043.107521982498206%5D%2C%20%5B-71.2597879088144%2C%2043.15178450584422%5D%2C%20%5B-71.2438428933725%2C%2043.19604707082962%5D%2C%20%5B-71.22789784865554%2C%2043.24030966664295%5D%2C%20%5B-71.21195277844299%2C%2043.284572226133264%5D%2C%20%5B-71.19600777716146%2C%2043.32883483977347%5D%2C%20%5B-71.18006266729701%2C%2043.37309740891712%5D%2C%20%5B-71.1641176339265%2C%2043.417359967445904%5D%2C%20%5B-71.14817257230551%2C%2043.461622506558605%5D%2C%20%5B-71.13222752421211%2C%2043.50588509037376%5D%2C%20%5B-71.11628252642956%2C%2043.55014769263001%5D%2C%20%5B-71.10033741460356%2C%2043.594410208825444%5D%2C%20%5B-71.08439243911762%2C%2043.63867281976943%5D%2C%20%5B-71.06844738763274%2C%2043.682935342278284%5D%2C%20%5B-71.05250232786015%2C%2043.72719792722868%5D%2C%20%5B-71.03730125715906%2C%2043.769398874395506%5D%2C%20%5B-71.0725276333333%2C%2043.77453071555988%5D%2C%20%5B-71.10775388330471%2C%2043.77966261069262%5D%2C%20%5B-71.14298026976954%2C%2043.78479446565392%5D%2C%20%5B-71.17820664882412%2C%2043.789926331670245%5D%2C%20%5B-71.21343292061361%2C%2043.79505819599329%5D%2C%20%5B-71.24865925981305%2C%2043.8001900925664%5D%2C%20%5B-71.28388561013986%2C%2043.80532194435304%5D%2C%20%5B-71.3191119195088%2C%2043.81045381839975%5D%2C%20%5B-71.35433831447405%2C%2043.81558566863606%5D%2C%20%5B-71.38956465159873%2C%2043.82071754669331%5D%2C%20%5B-71.42479096582255%2C%2043.82584939104745%5D%2C%20%5B-71.46001729676706%2C%2043.830981284202565%5D%2C%20%5B-71.49524367919224%2C%2043.83611316450084%5D%2C%20%5B-71.53047001306555%2C%2043.84124501938928%5D%2C%20%5B-71.56569638120013%2C%2043.84637686689688%5D%2C%20%5B-71.60092264062988%2C%2043.851508759059186%5D%2C%20%5B-71.63614905148913%2C%2043.856640600026466%5D%2C%20%5B-71.67137533654677%2C%2043.86177249122764%5D%2C%20%5B-71.70660175560123%2C%2043.866904336595475%5D%2C%20%5B-71.74182803174392%2C%2043.872036237810846%5D%2C%20%5B-71.77705442443624%2C%2043.877168098589316%5D%2C%20%5B-71.81228069961323%2C%2043.88229995620343%5D%2C%20%5B-71.84750703128684%2C%2043.88743184344629%5D%2C%20%5B-71.88273345314619%2C%2043.89256369829533%5D%2C%20%5B-71.91795973139834%2C%2043.89769555832348%5D%2C%20%5B-71.95318603997588%2C%2043.902827456152984%5D%2C%20%5B-71.98841241234123%2C%2043.90795932971097%5D%2C%20%5B-72.02363874832048%2C%2043.91309116685087%5D%2C%20%5B-72.05886508825284%2C%2043.91822304992731%5D%2C%20%5B-72.0940914653733%2C%2043.92335491681758%5D%2C%20%5B-72.12931777953163%2C%2043.928486755500224%5D%2C%20%5B-72.16454416244326%2C%2043.93361866299731%5D%2C%20%5B-72.19977050641727%2C%2043.938750482837825%5D%2C%20%5B-72.23499681019989%2C%2043.943882362273875%5D%2C%20%5B-72.2702231978168%2C%2043.94901425366489%5D%2C%20%5B-72.30544947796298%2C%2043.95414613056827%5D%2C%20%5B-72.34067586545312%2C%2043.95927795976682%5D%2C%20%5B-72.3759021772038%2C%2043.96440985949113%5D%2C%20%5B-72.41112857818078%2C%2043.969541716812806%5D%2C%20%5B-72.44635483572164%2C%2043.974673570629044%5D%2C%20%5B-72.48158121417868%2C%2043.97980546690683%5D%2C%20%5B-72.51680756341202%2C%2043.98493731438556%5D%2C%20%5B-72.5520339242875%2C%2043.99006919526786%5D%2C%20%5B-72.58726023765767%2C%2043.99520103276032%5D%2C%20%5B-72.62248654449888%2C%2044.000332909068774%5D%2C%20%5B-72.65771296759596%2C%2044.00546477584304%5D%2C%20%5B-72.69293927490516%2C%2044.010596672580036%5D%2C%20%5B-72.72816558906963%2C%2044.01572855093092%5D%2C%20%5B-72.76339190082436%2C%2044.0208604135612%5D%2C%20%5B-72.79861829187627%2C%2044.02599227721985%5D%2C%20%5B-72.83384466194687%2C%2044.03112413045188%5D%2C%20%5B-72.86907100175652%2C%2044.036255975951086%5D%2C%20%5B-72.90429726174442%2C%2044.04138788186185%5D%2C%20%5B-72.9395236041696%2C%2044.04651973398295%5D%2C%20%5B-72.97474997934704%2C%2044.05165160035517%5D%2C%20%5B-73.00997628704177%2C%2044.056783469734036%5D%2C%20%5B-73.04520260883028%2C%2044.06191535870661%5D%2C%20%5B-73.08042897527189%2C%2044.06704720436146%5D%2C%20%5B-73.11565533695367%2C%2044.07217907487649%5D%2C%20%5B-73.15088168451436%2C%2044.07731097292396%5D%2C%20%5B-73.18610804827722%2C%2044.082442835547695%5D%2C%20%5B-73.22133441864995%2C%2044.087574665365715%5D%2C%20%5B-73.25656074649233%2C%2044.09270653069287%5D%2C%20%5B-73.29178702242221%2C%2044.09783843424009%5D%2C%20%5B-73.29220176850197%2C%2044.09790086475407%5D%2C%20%5B-73.30355013948784%2C%2044.06283893640092%5D%2C%20%5B-73.31624077155487%2C%2044.02363453784197%5D%2C%20%5B-73.32993231824241%2C%2043.98133771228642%5D%2C%20%5B-73.34362384383127%2C%2043.939040942285295%5D%2C%20%5B-73.35731532721468%2C%2043.89674413621417%5D%2C%20%5B-73.37100688830154%2C%2043.85444729548056%5D%2C%20%5B-73.38469838813162%2C%2043.8121505255872%5D%2C%20%5B-73.39838991267042%2C%2043.769853664405574%5D%2C%20%5B-73.41208144157558%2C%2043.72755689649482%5D%2C%20%5B-73.42577299735673%2C%2043.68526010856057%5D%2C%20%5B-73.43946457748925%2C%2043.64296327913757%5D%2C%20%5B-73.4531560895384%2C%2043.600666515713584%5D%2C%20%5B-73.46684762089974%2C%2043.55836966690023%5D%2C%20%5B-73.48053916904719%2C%2043.51607285294609%5D%2C%20%5B-73.49423064156204%2C%2043.47377610934627%5D%2C%20%5B-73.50792221570751%2C%2043.43147929651296%5D%2C%20%5B-73.52161370917756%2C%2043.389182435756226%5D%2C%20%5B-73.5353052093365%2C%2043.34688565984719%5D%2C%20%5B-73.5489968035247%2C%2043.304588886188604%5D%2C%20%5B-73.56268830946986%2C%2043.26229206362776%5D%2C%20%5B-73.57637981451732%2C%2043.21999525228626%5D%2C%20%5B-73.59007140598833%2C%2043.17769844007566%5D%2C%20%5B-73.60376290164463%2C%2043.13540164691968%5D%2C%20%5B-73.61745438881245%2C%2043.093104860099615%5D%2C%20%5B-73.63114595479378%2C%2043.05080806642494%5D%2C%20%5B-73.64483750721186%2C%2043.008511225935926%5D%2C%20%5B-73.65852904353456%2C%2042.966214456060015%5D%2C%20%5B-73.6722205612293%2C%2042.92391765720325%5D%2C%20%5B-73.685912057763%2C%2042.881620801536585%5D%2C%20%5B-73.6996036204053%2C%2042.83932401889754%5D%2C%20%5B-73.71329515680704%2C%2042.79702719532343%5D%2C%20%5B-73.72698666443377%2C%2042.75473044716522%5D%2C%20%5B-73.74067823053547%2C%2042.71243361318199%5D%2C%20%5B-73.75436976277977%2C%2042.6701367960647%5D%2C%20%5B-73.76740367381925%2C%2042.62987555969959%5D%2C%20%5B-73.77839982357561%2C%2042.5959016942376%5D%5D%5D%2C%20%22type%22%3A%20%22Polygon%22%7D%2C%20%22properties%22%3A%20%7B%22highlight%22%3A%20%7B%7D%2C%20%22style%22%3A%20%7B%7D%7D%2C%20%22type%22%3A%20%22Feature%22%7D%5D%2C%20%22type%22%3A%20%22FeatureCollection%22%7D%2C%0A%20%20%20%20%20%20%20%20%20%20%20%20%7B%0A%20%20%20%20%20%20%20%20%20%20%20%20%7D%0A%20%20%20%20%20%20%20%20%29.addTo%28map_6471fce5b89e4d71890d43fbfcc3ecf1%20%29%3B%0A%20%20%20%20%20%20%20%20geo_json_a4e2b05fa9aa41e19aa845063a36cfe2.setStyle%28function%28feature%29%20%7Breturn%20feature.properties.style%3B%7D%29%3B%0A%20%20%20%20%20%20%20%20%0A%20%20%20%20%0A%20%20%20%20%20%20%20%20%20%20%20%20var%20popup_f9314e8f5464429995b5802451e8d46e%20%3D%20L.popup%28%7BmaxWidth%3A%20%27100%25%27%0A%20%20%20%20%20%20%20%20%20%20%20%20%0A%20%20%20%20%20%20%20%20%20%20%20%20%7D%29%3B%0A%0A%20%20%20%20%20%20%20%20%20%20%20%20%0A%20%20%20%20%20%20%20%20%20%20%20%20%20%20%20%20var%20html_218771907e3a4669af9cc6a542958fe7%20%3D%20%24%28%60%3Cdiv%20id%3D%22html_218771907e3a4669af9cc6a542958fe7%22%20style%3D%22width%3A%20100.0%25%3B%20height%3A%20100.0%25%3B%22%3EP13%20R30%3C/div%3E%60%29%5B0%5D%3B%0A%20%20%20%20%20%20%20%20%20%20%20%20%20%20%20%20popup_f9314e8f5464429995b5802451e8d46e.setContent%28html_218771907e3a4669af9cc6a542958fe7%29%3B%0A%20%20%20%20%20%20%20%20%20%20%20%20%0A%0A%20%20%20%20%20%20%20%20%20%20%20%20geo_json_a4e2b05fa9aa41e19aa845063a36cfe2.bindPopup%28popup_f9314e8f5464429995b5802451e8d46e%29%0A%20%20%20%20%20%20%20%20%20%20%20%20%3B%0A%0A%20%20%20%20%20%20%20%20%20%20%20%20%0A%20%20%20%20%20%20%20%20%0A%20%20%20%20%0A%20%20%20%20%20%20%20%20var%20geo_json_21af999f8acc4b29946872ae07bbfec7%20%3D%20L.geoJson%28%0A%20%20%20%20%20%20%20%20%20%20%20%20%7B%22features%22%3A%20%5B%7B%22geometry%22%3A%20%7B%22coordinates%22%3A%20%5B%5B%5B-72.03751960105586%2C%2043.322063060419644%5D%2C%20%5B-72.03725010647062%2C%2043.322063060419644%5D%2C%20%5B-72.03725010647062%2C%2043.32260204959012%5D%2C%20%5B-72.0369806118854%2C%2043.32260204959012%5D%2C%20%5B-72.0369806118854%2C%2043.32287154417536%5D%2C%20%5B-72.03671111730016%2C%2043.32287154417536%5D%2C%20%5B-72.03671111730016%2C%2043.32314103876059%5D%2C%20%5B-72.03617212812968%2C%2043.32314103876059%5D%2C%20%5B-72.03617212812968%2C%2043.32341053334583%5D%2C%20%5B-72.03590263354445%2C%2043.32341053334583%5D%2C%20%5B-72.03590263354445%2C%2043.32368002793106%5D%2C%20%5B-72.03644162271492%2C%2043.32368002793106%5D%2C%20%5B-72.03644162271492%2C%2043.324219017101534%5D%2C%20%5B-72.03671111730016%2C%2043.324219017101534%5D%2C%20%5B-72.03671111730016%2C%2043.324488511686766%5D%2C%20%5B-72.0369806118854%2C%2043.324488511686766%5D%2C%20%5B-72.0369806118854%2C%2043.324758006272006%5D%2C%20%5B-72.03751960105586%2C%2043.324758006272006%5D%2C%20%5B-72.03751960105586%2C%2043.32529699544248%5D%2C%20%5B-72.0377890956411%2C%2043.32529699544248%5D%2C%20%5B-72.0377890956411%2C%2043.32583598461295%5D%2C%20%5B-72.03725010647062%2C%2043.32583598461295%5D%2C%20%5B-72.03725010647062%2C%2043.32637497378342%5D%2C%20%5B-72.03805859022634%2C%2043.32637497378342%5D%2C%20%5B-72.03805859022634%2C%2043.32718345753913%5D%2C%20%5B-72.0377890956411%2C%2043.32718345753913%5D%2C%20%5B-72.0377890956411%2C%2043.32745295212436%5D%2C%20%5B-72.03725010647062%2C%2043.32745295212436%5D%2C%20%5B-72.03725010647062%2C%2043.33095638173243%5D%2C%20%5B-72.03751960105586%2C%2043.33095638173243%5D%2C%20%5B-72.03751960105586%2C%2043.33338183299955%5D%2C%20%5B-72.0377890956411%2C%2043.33338183299955%5D%2C%20%5B-72.0377890956411%2C%2043.334459811340494%5D%2C%20%5B-72.03805859022634%2C%2043.334459811340494%5D%2C%20%5B-72.03805859022634%2C%2043.33499880051097%5D%2C%20%5B-72.03832808481157%2C%2043.33499880051097%5D%2C%20%5B-72.03832808481157%2C%2043.335268295096206%5D%2C%20%5B-72.03859757939681%2C%2043.335268295096206%5D%2C%20%5B-72.03859757939681%2C%2043.33553778968144%5D%2C%20%5B-72.03886707398205%2C%2043.33553778968144%5D%2C%20%5B-72.03886707398205%2C%2043.33580728426668%5D%2C%20%5B-72.03940606315251%2C%2043.33580728426668%5D%2C%20%5B-72.03940606315251%2C%2043.336346273437144%5D%2C%20%5B-72.03994505232299%2C%2043.336346273437144%5D%2C%20%5B-72.03994505232299%2C%2043.336885262607616%5D%2C%20%5B-72.04021454690822%2C%2043.336885262607616%5D%2C%20%5B-72.04021454690822%2C%2043.337154757192856%5D%2C%20%5B-72.04102303066394%2C%2043.337154757192856%5D%2C%20%5B-72.04102303066394%2C%2043.33742425177809%5D%2C%20%5B-72.04129252524916%2C%2043.33742425177809%5D%2C%20%5B-72.04129252524916%2C%2043.33769374636333%5D%2C%20%5B-72.0415620198344%2C%2043.33769374636333%5D%2C%20%5B-72.0415620198344%2C%2043.33796324094856%5D%2C%20%5B-72.04183151441964%2C%2043.33796324094856%5D%2C%20%5B-72.04183151441964%2C%2043.33850223011903%5D%2C%20%5B-72.0423705035901%2C%2043.33850223011903%5D%2C%20%5B-72.0423705035901%2C%2043.34011919763045%5D%2C%20%5B-72.04210100900487%2C%2043.34011919763045%5D%2C%20%5B-72.04210100900487%2C%2043.34146667055663%5D%2C%20%5B-72.0423705035901%2C%2043.34146667055663%5D%2C%20%5B-72.0423705035901%2C%2043.34173616514187%5D%2C%20%5B-72.04263999817535%2C%2043.34173616514187%5D%2C%20%5B-72.04263999817535%2C%2043.34227515431233%5D%2C%20%5B-72.04290949276059%2C%2043.34227515431233%5D%2C%20%5B-72.04290949276059%2C%2043.342814143482805%5D%2C%20%5B-72.04317898734581%2C%2043.342814143482805%5D%2C%20%5B-72.04317898734581%2C%2043.343083638068045%5D%2C%20%5B-72.04344848193105%2C%2043.343083638068045%5D%2C%20%5B-72.04344848193105%2C%2043.34335313265328%5D%2C%20%5B-72.04317898734581%2C%2043.34335313265328%5D%2C%20%5B-72.04317898734581%2C%2043.34362262723852%5D%2C%20%5B-72.04344848193105%2C%2043.34362262723852%5D%2C%20%5B-72.04344848193105%2C%2043.34416161640899%5D%2C%20%5B-72.04398747110153%2C%2043.34416161640899%5D%2C%20%5B-72.04398747110153%2C%2043.34470060557946%5D%2C%20%5B-72.04425696568676%2C%2043.34470060557946%5D%2C%20%5B-72.04425696568676%2C%2043.345239594749934%5D%2C%20%5B-72.044526460272%2C%2043.345239594749934%5D%2C%20%5B-72.044526460272%2C%2043.3457785839204%5D%2C%20%5B-72.04479595485724%2C%2043.3457785839204%5D%2C%20%5B-72.04479595485724%2C%2043.34631757309087%5D%2C%20%5B-72.0453349440277%2C%2043.34631757309087%5D%2C%20%5B-72.0453349440277%2C%2043.347395551431816%5D%2C%20%5B-72.04560443861294%2C%2043.347395551431816%5D%2C%20%5B-72.04560443861294%2C%2043.347665046017056%5D%2C%20%5B-72.04587393319818%2C%2043.347665046017056%5D%2C%20%5B-72.04587393319818%2C%2043.34793454060229%5D%2C%20%5B-72.04668241695389%2C%2043.34793454060229%5D%2C%20%5B-72.04668241695389%2C%2043.34820403518753%5D%2C%20%5B-72.04749090070959%2C%2043.34820403518753%5D%2C%20%5B-72.04749090070959%2C%2043.34901251894323%5D%2C%20%5B-72.04776039529483%2C%2043.34901251894323%5D%2C%20%5B-72.04776039529483%2C%2043.349282013528466%5D%2C%20%5B-72.04802988988006%2C%2043.349282013528466%5D%2C%20%5B-72.04802988988006%2C%2043.349551508113706%5D%2C%20%5B-72.04856887905053%2C%2043.349551508113706%5D%2C%20%5B-72.04856887905053%2C%2043.34982100269894%5D%2C%20%5B-72.04964685739148%2C%2043.34982100269894%5D%2C%20%5B-72.04964685739148%2C%2043.35009049728418%5D%2C%20%5B-72.05099433031765%2C%2043.35009049728418%5D%2C%20%5B-72.05099433031765%2C%2043.35116847562512%5D%2C%20%5B-72.05126382490289%2C%2043.35116847562512%5D%2C%20%5B-72.05126382490289%2C%2043.35197695938083%5D%2C%20%5B-72.05153331948813%2C%2043.35197695938083%5D%2C%20%5B-72.05153331948813%2C%2043.35278544313653%5D%2C%20%5B-72.05126382490289%2C%2043.35278544313653%5D%2C%20%5B-72.05126382490289%2C%2043.353324432307005%5D%2C%20%5B-72.05072483573242%2C%2043.353324432307005%5D%2C%20%5B-72.05072483573242%2C%2043.353593926892245%5D%2C%20%5B-72.05126382490289%2C%2043.353593926892245%5D%2C%20%5B-72.05126382490289%2C%2043.35467190523318%5D%2C%20%5B-72.05072483573242%2C%2043.35467190523318%5D%2C%20%5B-72.05072483573242%2C%2043.355480388988894%5D%2C%20%5B-72.05099433031765%2C%2043.355480388988894%5D%2C%20%5B-72.05099433031765%2C%2043.35574988357413%5D%2C%20%5B-72.05126382490289%2C%2043.35574988357413%5D%2C%20%5B-72.05126382490289%2C%2043.35601937815937%5D%2C%20%5B-72.05153331948813%2C%2043.35601937815937%5D%2C%20%5B-72.05153331948813%2C%2043.3562888727446%5D%2C%20%5B-72.0520723086586%2C%2043.3562888727446%5D%2C%20%5B-72.0520723086586%2C%2043.35655836732984%5D%2C%20%5B-72.05261129782907%2C%2043.35655836732984%5D%2C%20%5B-72.05261129782907%2C%2043.35682786191507%5D%2C%20%5B-72.05315028699954%2C%2043.35682786191507%5D%2C%20%5B-72.05315028699954%2C%2043.357366851085544%5D%2C%20%5B-72.05368927617002%2C%2043.357366851085544%5D%2C%20%5B-72.05368927617002%2C%2043.35844482942649%5D%2C%20%5B-72.05341978158478%2C%2043.35844482942649%5D%2C%20%5B-72.05341978158478%2C%2043.359253313182194%5D%2C%20%5B-72.05315028699954%2C%2043.359253313182194%5D%2C%20%5B-72.05315028699954%2C%2043.359792302352666%5D%2C%20%5B-72.05288079241431%2C%2043.359792302352666%5D%2C%20%5B-72.05288079241431%2C%2043.360061796937906%5D%2C%20%5B-72.05234180324383%2C%2043.360061796937906%5D%2C%20%5B-72.05234180324383%2C%2043.36060078610837%5D%2C%20%5B-72.0520723086586%2C%2043.36060078610837%5D%2C%20%5B-72.0520723086586%2C%2043.36140926986408%5D%2C%20%5B-72.05180281407337%2C%2043.36140926986408%5D%2C%20%5B-72.05180281407337%2C%2043.361948259034556%5D%2C%20%5B-72.05153331948813%2C%2043.361948259034556%5D%2C%20%5B-72.05153331948813%2C%2043.36248724820503%5D%2C%20%5B-72.05234180324383%2C%2043.36248724820503%5D%2C%20%5B-72.05234180324383%2C%2043.36275674279026%5D%2C%20%5B-72.05288079241431%2C%2043.36275674279026%5D%2C%20%5B-72.05288079241431%2C%2043.363565226545965%5D%2C%20%5B-72.05261129782907%2C%2043.363565226545965%5D%2C%20%5B-72.05261129782907%2C%2043.36410421571644%5D%2C%20%5B-72.0520723086586%2C%2043.36410421571644%5D%2C%20%5B-72.0520723086586%2C%2043.36464320488691%5D%2C%20%5B-72.05180281407337%2C%2043.36464320488691%5D%2C%20%5B-72.05180281407337%2C%2043.365721183227855%5D%2C%20%5B-72.05126382490289%2C%2043.365721183227855%5D%2C%20%5B-72.05126382490289%2C%2043.365990677813095%5D%2C%20%5B-72.05099433031765%2C%2043.365990677813095%5D%2C%20%5B-72.05099433031765%2C%2043.365721183227855%5D%2C%20%5B-72.05072483573242%2C%2043.365721183227855%5D%2C%20%5B-72.05072483573242%2C%2043.36518219405738%5D%2C%20%5B-72.04991635197672%2C%2043.36518219405738%5D%2C%20%5B-72.04991635197672%2C%2043.36491269947215%5D%2C%20%5B-72.04964685739148%2C%2043.36491269947215%5D%2C%20%5B-72.04964685739148%2C%2043.36518219405738%5D%2C%20%5B-72.049107868221%2C%2043.36518219405738%5D%2C%20%5B-72.049107868221%2C%2043.36545168864262%5D%2C%20%5B-72.04883837363577%2C%2043.36545168864262%5D%2C%20%5B-72.04883837363577%2C%2043.365721183227855%5D%2C%20%5B-72.0482993844653%2C%2043.365721183227855%5D%2C%20%5B-72.0482993844653%2C%2043.36733815073927%5D%2C%20%5B-72.04695191153913%2C%2043.36733815073927%5D%2C%20%5B-72.04695191153913%2C%2043.36706865615403%5D%2C%20%5B-72.04641292236865%2C%2043.36706865615403%5D%2C%20%5B-72.04641292236865%2C%2043.36868562366545%5D%2C%20%5B-72.04695191153913%2C%2043.36868562366545%5D%2C%20%5B-72.04695191153913%2C%2043.36895511825069%5D%2C%20%5B-72.04722140612435%2C%2043.36895511825069%5D%2C%20%5B-72.04722140612435%2C%2043.36922461283592%5D%2C%20%5B-72.04749090070959%2C%2043.36922461283592%5D%2C%20%5B-72.04749090070959%2C%2043.37003309659163%5D%2C%20%5B-72.04695191153913%2C%2043.37003309659163%5D%2C%20%5B-72.04695191153913%2C%2043.370302591176866%5D%2C%20%5B-72.04668241695389%2C%2043.370302591176866%5D%2C%20%5B-72.04668241695389%2C%2043.37003309659163%5D%2C%20%5B-72.04641292236865%2C%2043.37003309659163%5D%2C%20%5B-72.04641292236865%2C%2043.369763602006394%5D%2C%20%5B-72.04587393319818%2C%2043.369763602006394%5D%2C%20%5B-72.04587393319818%2C%2043.36922461283592%5D%2C%20%5B-72.04560443861294%2C%2043.36922461283592%5D%2C%20%5B-72.04560443861294%2C%2043.36895511825069%5D%2C%20%5B-72.04479595485724%2C%2043.36895511825069%5D%2C%20%5B-72.04479595485724%2C%2043.36868562366545%5D%2C%20%5B-72.04425696568676%2C%2043.36868562366545%5D%2C%20%5B-72.04425696568676%2C%2043.36841612908022%5D%2C%20%5B-72.04371797651629%2C%2043.36841612908022%5D%2C%20%5B-72.04371797651629%2C%2043.36814663449498%5D%2C%20%5B-72.0423705035901%2C%2043.36814663449498%5D%2C%20%5B-72.0423705035901%2C%2043.36841612908022%5D%2C%20%5B-72.04183151441964%2C%2043.36841612908022%5D%2C%20%5B-72.04183151441964%2C%2043.36868562366545%5D%2C%20%5B-72.0415620198344%2C%2043.36868562366545%5D%2C%20%5B-72.0415620198344%2C%2043.36922461283592%5D%2C%20%5B-72.04129252524916%2C%2043.36922461283592%5D%2C%20%5B-72.04129252524916%2C%2043.369494107421154%5D%2C%20%5B-72.0407535360787%2C%2043.369494107421154%5D%2C%20%5B-72.0407535360787%2C%2043.37003309659163%5D%2C%20%5B-72.03994505232299%2C%2043.37003309659163%5D%2C%20%5B-72.03994505232299%2C%2043.370302591176866%5D%2C%20%5B-72.03967555773775%2C%2043.370302591176866%5D%2C%20%5B-72.03967555773775%2C%2043.3705720857621%5D%2C%20%5B-72.03994505232299%2C%2043.3705720857621%5D%2C%20%5B-72.03994505232299%2C%2043.37084158034734%5D%2C%20%5B-72.04048404149346%2C%2043.37084158034734%5D%2C%20%5B-72.04048404149346%2C%2043.37111107493257%5D%2C%20%5B-72.04102303066394%2C%2043.37111107493257%5D%2C%20%5B-72.04102303066394%2C%2043.37138056951781%5D%2C%20%5B-72.0415620198344%2C%2043.37138056951781%5D%2C%20%5B-72.0415620198344%2C%2043.371650064103044%5D%2C%20%5B-72.04210100900487%2C%2043.371650064103044%5D%2C%20%5B-72.04210100900487%2C%2043.37191955868828%5D%2C%20%5B-72.0423705035901%2C%2043.37191955868828%5D%2C%20%5B-72.0423705035901%2C%2043.372189053273516%5D%2C%20%5B-72.04290949276059%2C%2043.372189053273516%5D%2C%20%5B-72.04290949276059%2C%2043.37272804244399%5D%2C%20%5B-72.04317898734581%2C%2043.37272804244399%5D%2C%20%5B-72.04317898734581%2C%2043.374075515370166%5D%2C%20%5B-72.04344848193105%2C%2043.374075515370166%5D%2C%20%5B-72.04344848193105%2C%2043.37650096663729%5D%2C%20%5B-72.04371797651629%2C%2043.37650096663729%5D%2C%20%5B-72.04371797651629%2C%2043.377309450393%5D%2C%20%5B-72.04398747110153%2C%2043.377309450393%5D%2C%20%5B-72.04398747110153%2C%2043.378387428733944%5D%2C%20%5B-72.04425696568676%2C%2043.378387428733944%5D%2C%20%5B-72.04425696568676%2C%2043.37865692331918%5D%2C%20%5B-72.044526460272%2C%2043.37865692331918%5D%2C%20%5B-72.044526460272%2C%2043.37946540707488%5D%2C%20%5B-72.04425696568676%2C%2043.37946540707488%5D%2C%20%5B-72.04425696568676%2C%2043.380004396245354%5D%2C%20%5B-72.04479595485724%2C%2043.380004396245354%5D%2C%20%5B-72.04479595485724%2C%2043.380273890830594%5D%2C%20%5B-72.044526460272%2C%2043.380273890830594%5D%2C%20%5B-72.044526460272%2C%2043.38054338541583%5D%2C%20%5B-72.04479595485724%2C%2043.38054338541583%5D%2C%20%5B-72.04479595485724%2C%2043.3810823745863%5D%2C%20%5B-72.04506544944246%2C%2043.3810823745863%5D%2C%20%5B-72.04506544944246%2C%2043.382160352927244%5D%2C%20%5B-72.0453349440277%2C%2043.382160352927244%5D%2C%20%5B-72.0453349440277%2C%2043.382429847512476%5D%2C%20%5B-72.04560443861294%2C%2043.382429847512476%5D%2C%20%5B-72.04560443861294%2C%2043.38431630960913%5D%2C%20%5B-72.04479595485724%2C%2043.38431630960913%5D%2C%20%5B-72.04479595485724%2C%2043.384585804194366%5D%2C%20%5B-72.044526460272%2C%2043.384585804194366%5D%2C%20%5B-72.044526460272%2C%2043.38512479336484%5D%2C%20%5B-72.04398747110153%2C%2043.38512479336484%5D%2C%20%5B-72.04398747110153%2C%2043.38539428795007%5D%2C%20%5B-72.04371797651629%2C%2043.38539428795007%5D%2C%20%5B-72.04371797651629%2C%2043.38566378253531%5D%2C%20%5B-72.04344848193105%2C%2043.38566378253531%5D%2C%20%5B-72.04344848193105%2C%2043.38620277170578%5D%2C%20%5B-72.04317898734581%2C%2043.38620277170578%5D%2C%20%5B-72.04317898734581%2C%2043.38593327712054%5D%2C%20%5B-72.04290949276059%2C%2043.38593327712054%5D%2C%20%5B-72.04290949276059%2C%2043.386472266291015%5D%2C%20%5B-72.04263999817535%2C%2043.386472266291015%5D%2C%20%5B-72.04263999817535%2C%2043.386741760876255%5D%2C%20%5B-72.0423705035901%2C%2043.386741760876255%5D%2C%20%5B-72.0423705035901%2C%2043.38701125546149%5D%2C%20%5B-72.04210100900487%2C%2043.38701125546149%5D%2C%20%5B-72.04210100900487%2C%2043.38728075004673%5D%2C%20%5B-72.04183151441964%2C%2043.38728075004673%5D%2C%20%5B-72.04183151441964%2C%2043.38755024463196%5D%2C%20%5B-72.04129252524916%2C%2043.38755024463196%5D%2C%20%5B-72.04129252524916%2C%2043.388358728387665%5D%2C%20%5B-72.04102303066394%2C%2043.388358728387665%5D%2C%20%5B-72.04102303066394%2C%2043.38889771755814%5D%2C%20%5B-72.04048404149346%2C%2043.38889771755814%5D%2C%20%5B-72.04048404149346%2C%2043.38997569589908%5D%2C%20%5B-72.0407535360787%2C%2043.38997569589908%5D%2C%20%5B-72.0407535360787%2C%2043.39024519048432%5D%2C%20%5B-72.04102303066394%2C%2043.39024519048432%5D%2C%20%5B-72.04102303066394%2C%2043.390514685069554%5D%2C%20%5B-72.0407535360787%2C%2043.390514685069554%5D%2C%20%5B-72.0407535360787%2C%2043.39186215799573%5D%2C%20%5B-72.04129252524916%2C%2043.39186215799573%5D%2C%20%5B-72.04129252524916%2C%2043.392670641751444%5D%2C%20%5B-72.04102303066394%2C%2043.392670641751444%5D%2C%20%5B-72.04102303066394%2C%2043.39455710384809%5D%2C%20%5B-72.0407535360787%2C%2043.39455710384809%5D%2C%20%5B-72.0407535360787%2C%2043.394826598433326%5D%2C%20%5B-72.04102303066394%2C%2043.394826598433326%5D%2C%20%5B-72.04102303066394%2C%2043.3953655876038%5D%2C%20%5B-72.0407535360787%2C%2043.3953655876038%5D%2C%20%5B-72.0407535360787%2C%2043.39590457677427%5D%2C%20%5B-72.04021454690822%2C%2043.39590457677427%5D%2C%20%5B-72.04021454690822%2C%2043.39617407135951%5D%2C%20%5B-72.03994505232299%2C%2043.39617407135951%5D%2C%20%5B-72.03994505232299%2C%2043.396713060529976%5D%2C%20%5B-72.03940606315251%2C%2043.396713060529976%5D%2C%20%5B-72.03940606315251%2C%2043.396982555115216%5D%2C%20%5B-72.03859757939681%2C%2043.396982555115216%5D%2C%20%5B-72.03859757939681%2C%2043.39725204970045%5D%2C%20%5B-72.03751960105586%2C%2043.39725204970045%5D%2C%20%5B-72.03751960105586%2C%2043.39752154428569%5D%2C%20%5B-72.03725010647062%2C%2043.39752154428569%5D%2C%20%5B-72.03725010647062%2C%2043.39779103887092%5D%2C%20%5B-72.03671111730016%2C%2043.39779103887092%5D%2C%20%5B-72.03671111730016%2C%2043.39833002804139%5D%2C%20%5B-72.03644162271492%2C%2043.39833002804139%5D%2C%20%5B-72.03644162271492%2C%2043.399138511797105%5D%2C%20%5B-72.03590263354445%2C%2043.399138511797105%5D%2C%20%5B-72.03590263354445%2C%2043.39994699555281%5D%2C%20%5B-72.03563313895921%2C%2043.39994699555281%5D%2C%20%5B-72.03563313895921%2C%2043.40183345764946%5D%2C%20%5B-72.03590263354445%2C%2043.40183345764946%5D%2C%20%5B-72.03590263354445%2C%2043.40318093057564%5D%2C%20%5B-72.03617212812968%2C%2043.40318093057564%5D%2C%20%5B-72.03617212812968%2C%2043.40371991974611%5D%2C%20%5B-72.03644162271492%2C%2043.40371991974611%5D%2C%20%5B-72.03644162271492%2C%2043.40398941433135%5D%2C%20%5B-72.0369806118854%2C%2043.40398941433135%5D%2C%20%5B-72.0369806118854%2C%2043.40425890891658%5D%2C%20%5B-72.03725010647062%2C%2043.40425890891658%5D%2C%20%5B-72.03725010647062%2C%2043.40452840350182%5D%2C%20%5B-72.03751960105586%2C%2043.40452840350182%5D%2C%20%5B-72.03751960105586%2C%2043.404797898087054%5D%2C%20%5B-72.03805859022634%2C%2043.404797898087054%5D%2C%20%5B-72.03805859022634%2C%2043.405336887257526%5D%2C%20%5B-72.03832808481157%2C%2043.405336887257526%5D%2C%20%5B-72.03832808481157%2C%2043.405875876428%5D%2C%20%5B-72.03859757939681%2C%2043.405875876428%5D%2C%20%5B-72.03859757939681%2C%2043.40641486559847%5D%2C%20%5B-72.03886707398205%2C%2043.40641486559847%5D%2C%20%5B-72.03886707398205%2C%2043.40695385476894%5D%2C%20%5B-72.03940606315251%2C%2043.40695385476894%5D%2C%20%5B-72.03940606315251%2C%2043.407223349354176%5D%2C%20%5B-72.03967555773775%2C%2043.407223349354176%5D%2C%20%5B-72.03967555773775%2C%2043.407492843939416%5D%2C%20%5B-72.03994505232299%2C%2043.407492843939416%5D%2C%20%5B-72.03994505232299%2C%2043.40803183310989%5D%2C%20%5B-72.04048404149346%2C%2043.40803183310989%5D%2C%20%5B-72.04048404149346%2C%2043.40884031686559%5D%2C%20%5B-72.0407535360787%2C%2043.40884031686559%5D%2C%20%5B-72.0407535360787%2C%2043.4096488006213%5D%2C%20%5B-72.04102303066394%2C%2043.4096488006213%5D%2C%20%5B-72.04102303066394%2C%2043.40991829520654%5D%2C%20%5B-72.04129252524916%2C%2043.40991829520654%5D%2C%20%5B-72.04129252524916%2C%2043.41045728437701%5D%2C%20%5B-72.04183151441964%2C%2043.41045728437701%5D%2C%20%5B-72.04183151441964%2C%2043.411265768132715%5D%2C%20%5B-72.04102303066394%2C%2043.411265768132715%5D%2C%20%5B-72.04102303066394%2C%2043.41099627354748%5D%2C%20%5B-72.0407535360787%2C%2043.41099627354748%5D%2C%20%5B-72.0407535360787%2C%2043.41072677896224%5D%2C%20%5B-72.03994505232299%2C%2043.41072677896224%5D%2C%20%5B-72.03994505232299%2C%2043.41099627354748%5D%2C%20%5B-72.03940606315251%2C%2043.41099627354748%5D%2C%20%5B-72.03940606315251%2C%2043.41072677896224%5D%2C%20%5B-72.0377890956411%2C%2043.41072677896224%5D%2C%20%5B-72.0377890956411%2C%2043.41045728437701%5D%2C%20%5B-72.0369806118854%2C%2043.41045728437701%5D%2C%20%5B-72.0369806118854%2C%2043.41018778979177%5D%2C%20%5B-72.03671111730016%2C%2043.41018778979177%5D%2C%20%5B-72.03671111730016%2C%2043.40991829520654%5D%2C%20%5B-72.03617212812968%2C%2043.40991829520654%5D%2C%20%5B-72.03617212812968%2C%2043.4096488006213%5D%2C%20%5B-72.03563313895921%2C%2043.4096488006213%5D%2C%20%5B-72.03563313895921%2C%2043.409379306036065%5D%2C%20%5B-72.03482465520351%2C%2043.409379306036065%5D%2C%20%5B-72.03482465520351%2C%2043.409109811450826%5D%2C%20%5B-72.03320768769208%2C%2043.409109811450826%5D%2C%20%5B-72.03320768769208%2C%2043.40884031686559%5D%2C%20%5B-72.03186021476591%2C%2043.40884031686559%5D%2C%20%5B-72.03186021476591%2C%2043.409109811450826%5D%2C%20%5B-72.03159072018067%2C%2043.409109811450826%5D%2C%20%5B-72.03159072018067%2C%2043.409379306036065%5D%2C%20%5B-72.03132122559543%2C%2043.409379306036065%5D%2C%20%5B-72.03132122559543%2C%2043.41018778979177%5D%2C%20%5B-72.03239920393638%2C%2043.41018778979177%5D%2C%20%5B-72.03239920393638%2C%2043.41045728437701%5D%2C%20%5B-72.03293819310686%2C%2043.41045728437701%5D%2C%20%5B-72.03293819310686%2C%2043.41099627354748%5D%2C%20%5B-72.03320768769208%2C%2043.41099627354748%5D%2C%20%5B-72.03320768769208%2C%2043.411535262717955%5D%2C%20%5B-72.0340161714478%2C%2043.411535262717955%5D%2C%20%5B-72.0340161714478%2C%2043.41207425188842%5D%2C%20%5B-72.03428566603303%2C%2043.41207425188842%5D%2C%20%5B-72.03428566603303%2C%2043.41234374647366%5D%2C%20%5B-72.03644162271492%2C%2043.41234374647366%5D%2C%20%5B-72.03644162271492%2C%2043.41207425188842%5D%2C%20%5B-72.03832808481157%2C%2043.41207425188842%5D%2C%20%5B-72.03832808481157%2C%2043.41234374647366%5D%2C%20%5B-72.03913656856727%2C%2043.41234374647366%5D%2C%20%5B-72.03913656856727%2C%2043.41261324105889%5D%2C%20%5B-72.03967555773775%2C%2043.41261324105889%5D%2C%20%5B-72.03967555773775%2C%2043.413152230229365%5D%2C%20%5B-72.04021454690822%2C%2043.413152230229365%5D%2C%20%5B-72.04021454690822%2C%2043.41369121939984%5D%2C%20%5B-72.0407535360787%2C%2043.41369121939984%5D%2C%20%5B-72.0407535360787%2C%2043.41423020857031%5D%2C%20%5B-72.04183151441964%2C%2043.41423020857031%5D%2C%20%5B-72.04183151441964%2C%2043.41449970315555%5D%2C%20%5B-72.04263999817535%2C%2043.41449970315555%5D%2C%20%5B-72.04263999817535%2C%2043.41476919774078%5D%2C%20%5B-72.04344848193105%2C%2043.41476919774078%5D%2C%20%5B-72.04344848193105%2C%2043.415308186911254%5D%2C%20%5B-72.04371797651629%2C%2043.415308186911254%5D%2C%20%5B-72.04371797651629%2C%2043.415847176081726%5D%2C%20%5B-72.04398747110153%2C%2043.415847176081726%5D%2C%20%5B-72.04398747110153%2C%2043.41611667066696%5D%2C%20%5B-72.04425696568676%2C%2043.41611667066696%5D%2C%20%5B-72.04425696568676%2C%2043.4163861652522%5D%2C%20%5B-72.044526460272%2C%2043.4163861652522%5D%2C%20%5B-72.044526460272%2C%2043.41692515442267%5D%2C%20%5B-72.04479595485724%2C%2043.41692515442267%5D%2C%20%5B-72.04479595485724%2C%2043.417194649007904%5D%2C%20%5B-72.04668241695389%2C%2043.417194649007904%5D%2C%20%5B-72.04668241695389%2C%2043.41692515442267%5D%2C%20%5B-72.04776039529483%2C%2043.41692515442267%5D%2C%20%5B-72.04776039529483%2C%2043.41665565983743%5D%2C%20%5B-72.04856887905053%2C%2043.41665565983743%5D%2C%20%5B-72.04856887905053%2C%2043.41692515442267%5D%2C%20%5B-72.04883837363577%2C%2043.41692515442267%5D%2C%20%5B-72.04883837363577%2C%2043.417194649007904%5D%2C%20%5B-72.049107868221%2C%2043.417194649007904%5D%2C%20%5B-72.049107868221%2C%2043.417733638178376%5D%2C%20%5B-72.04964685739148%2C%2043.417733638178376%5D%2C%20%5B-72.04964685739148%2C%2043.41800313276361%5D%2C%20%5B-72.04991635197672%2C%2043.41800313276361%5D%2C%20%5B-72.04991635197672%2C%2043.41827262734885%5D%2C%20%5B-72.05018584656194%2C%2043.41827262734885%5D%2C%20%5B-72.05018584656194%2C%2043.41908111110455%5D%2C%20%5B-72.05072483573242%2C%2043.41908111110455%5D%2C%20%5B-72.05072483573242%2C%2043.419889594860265%5D%2C%20%5B-72.05099433031765%2C%2043.419889594860265%5D%2C%20%5B-72.05099433031765%2C%2043.4209675732012%5D%2C%20%5B-72.05234180324383%2C%2043.4209675732012%5D%2C%20%5B-72.05234180324383%2C%2043.42123706778644%5D%2C%20%5B-72.05422826534048%2C%2043.42123706778644%5D%2C%20%5B-72.05422826534048%2C%2043.421506562371675%5D%2C%20%5B-72.05449775992572%2C%2043.421506562371675%5D%2C%20%5B-72.05449775992572%2C%2043.42231504612739%5D%2C%20%5B-72.05476725451096%2C%2043.42231504612739%5D%2C%20%5B-72.05476725451096%2C%2043.42258454071262%5D%2C%20%5B-72.05530624368143%2C%2043.42258454071262%5D%2C%20%5B-72.05530624368143%2C%2043.42285403529786%5D%2C%20%5B-72.05557573826667%2C%2043.42285403529786%5D%2C%20%5B-72.05557573826667%2C%2043.42312352988309%5D%2C%20%5B-72.05584523285191%2C%2043.42312352988309%5D%2C%20%5B-72.05584523285191%2C%2043.42339302446833%5D%2C%20%5B-72.05719270577808%2C%2043.42339302446833%5D%2C%20%5B-72.05719270577808%2C%2043.423662519053565%5D%2C%20%5B-72.05746220036332%2C%2043.423662519053565%5D%2C%20%5B-72.05746220036332%2C%2043.4239320136388%5D%2C%20%5B-72.05773169494856%2C%2043.4239320136388%5D%2C%20%5B-72.05773169494856%2C%2043.42420150822404%5D%2C%20%5B-72.05827068411902%2C%2043.42420150822404%5D%2C%20%5B-72.05827068411902%2C%2043.42447100280927%5D%2C%20%5B-72.05854017870426%2C%2043.42447100280927%5D%2C%20%5B-72.05854017870426%2C%2043.42500999197974%5D%2C%20%5B-72.0588096732895%2C%2043.42500999197974%5D%2C%20%5B-72.0588096732895%2C%2043.425548981150214%5D%2C%20%5B-72.05961815704521%2C%2043.425548981150214%5D%2C%20%5B-72.05961815704521%2C%2043.425818475735454%5D%2C%20%5B-72.06015714621567%2C%2043.425818475735454%5D%2C%20%5B-72.06015714621567%2C%2043.42608797032069%5D%2C%20%5B-72.06069613538615%2C%2043.42608797032069%5D%2C%20%5B-72.06069613538615%2C%2043.42635746490593%5D%2C%20%5B-72.06096562997138%2C%2043.42635746490593%5D%2C%20%5B-72.06096562997138%2C%2043.42689645407639%5D%2C%20%5B-72.0617741137271%2C%2043.42689645407639%5D%2C%20%5B-72.0617741137271%2C%2043.42716594866163%5D%2C%20%5B-72.0625825974828%2C%2043.42716594866163%5D%2C%20%5B-72.0625825974828%2C%2043.427435443246864%5D%2C%20%5B-72.06285209206803%2C%2043.427435443246864%5D%2C%20%5B-72.06285209206803%2C%2043.427704937832104%5D%2C%20%5B-72.06366057582375%2C%2043.427704937832104%5D%2C%20%5B-72.06366057582375%2C%2043.42797443241734%5D%2C%20%5B-72.06393007040897%2C%2043.42797443241734%5D%2C%20%5B-72.06393007040897%2C%2043.428243927002576%5D%2C%20%5B-72.06419956499421%2C%2043.428243927002576%5D%2C%20%5B-72.06419956499421%2C%2043.42878291617305%5D%2C%20%5B-72.06446905957945%2C%2043.42878291617305%5D%2C%20%5B-72.06446905957945%2C%2043.42905241075828%5D%2C%20%5B-72.06527754333516%2C%2043.42905241075828%5D%2C%20%5B-72.06527754333516%2C%2043.42932190534352%5D%2C%20%5B-72.06608602709086%2C%2043.42932190534352%5D%2C%20%5B-72.06608602709086%2C%2043.42959139992875%5D%2C%20%5B-72.0663555216761%2C%2043.42959139992875%5D%2C%20%5B-72.0663555216761%2C%2043.429860894513986%5D%2C%20%5B-72.06689451084657%2C%2043.429860894513986%5D%2C%20%5B-72.06689451084657%2C%2043.42959139992875%5D%2C%20%5B-72.0671640054318%2C%2043.42959139992875%5D%2C%20%5B-72.0671640054318%2C%2043.429860894513986%5D%2C%20%5B-72.06797248918751%2C%2043.429860894513986%5D%2C%20%5B-72.06797248918751%2C%2043.42878291617305%5D%2C%20%5B-72.06824198377275%2C%2043.42878291617305%5D%2C%20%5B-72.06824198377275%2C%2043.428243927002576%5D%2C%20%5B-72.06770299460229%2C%2043.428243927002576%5D%2C%20%5B-72.06770299460229%2C%2043.427704937832104%5D%2C%20%5B-72.0671640054318%2C%2043.427704937832104%5D%2C%20%5B-72.0671640054318%2C%2043.427435443246864%5D%2C%20%5B-72.06662501626134%2C%2043.427435443246864%5D%2C%20%5B-72.06662501626134%2C%2043.42716594866163%5D%2C%20%5B-72.06608602709086%2C%2043.42716594866163%5D%2C%20%5B-72.06608602709086%2C%2043.42689645407639%5D%2C%20%5B-72.06581653250562%2C%2043.42689645407639%5D%2C%20%5B-72.06581653250562%2C%2043.42662695949116%5D%2C%20%5B-72.0655470379204%2C%2043.42662695949116%5D%2C%20%5B-72.0655470379204%2C%2043.42608797032069%5D%2C%20%5B-72.06500804874992%2C%2043.42608797032069%5D%2C%20%5B-72.06500804874992%2C%2043.425818475735454%5D%2C%20%5B-72.06473855416469%2C%2043.425818475735454%5D%2C%20%5B-72.06473855416469%2C%2043.42608797032069%5D%2C%20%5B-72.06446905957945%2C%2043.42608797032069%5D%2C%20%5B-72.06446905957945%2C%2043.42635746490593%5D%2C%20%5B-72.06366057582375%2C%2043.42635746490593%5D%2C%20%5B-72.06366057582375%2C%2043.42608797032069%5D%2C%20%5B-72.06285209206803%2C%2043.42608797032069%5D%2C%20%5B-72.06285209206803%2C%2043.425818475735454%5D%2C%20%5B-72.0625825974828%2C%2043.425818475735454%5D%2C%20%5B-72.0625825974828%2C%2043.425548981150214%5D%2C%20%5B-72.06204360831232%2C%2043.425548981150214%5D%2C%20%5B-72.06204360831232%2C%2043.42527948656498%5D%2C%20%5B-72.06231310289756%2C%2043.42527948656498%5D%2C%20%5B-72.06231310289756%2C%2043.42500999197974%5D%2C%20%5B-72.0617741137271%2C%2043.42500999197974%5D%2C%20%5B-72.0617741137271%2C%2043.42474049739451%5D%2C%20%5B-72.06150461914186%2C%2043.42474049739451%5D%2C%20%5B-72.06150461914186%2C%2043.42447100280927%5D%2C%20%5B-72.06096562997138%2C%2043.42447100280927%5D%2C%20%5B-72.06096562997138%2C%2043.42420150822404%5D%2C%20%5B-72.06069613538615%2C%2043.42420150822404%5D%2C%20%5B-72.06069613538615%2C%2043.4239320136388%5D%2C%20%5B-72.06042664080091%2C%2043.4239320136388%5D%2C%20%5B-72.06042664080091%2C%2043.42339302446833%5D%2C%20%5B-72.06015714621567%2C%2043.42339302446833%5D%2C%20%5B-72.06015714621567%2C%2043.42285403529786%5D%2C%20%5B-72.05961815704521%2C%2043.42285403529786%5D%2C%20%5B-72.05961815704521%2C%2043.42231504612739%5D%2C%20%5B-72.05934866245997%2C%2043.42231504612739%5D%2C%20%5B-72.05934866245997%2C%2043.421776056956915%5D%2C%20%5B-72.05907916787473%2C%2043.421776056956915%5D%2C%20%5B-72.05907916787473%2C%2043.421506562371675%5D%2C%20%5B-72.0588096732895%2C%2043.421506562371675%5D%2C%20%5B-72.0588096732895%2C%2043.42123706778644%5D%2C%20%5B-72.05854017870426%2C%2043.42123706778644%5D%2C%20%5B-72.05854017870426%2C%2043.4209675732012%5D%2C%20%5B-72.05827068411902%2C%2043.4209675732012%5D%2C%20%5B-72.05827068411902%2C%2043.42069807861597%5D%2C%20%5B-72.05800118953378%2C%2043.42069807861597%5D%2C%20%5B-72.05800118953378%2C%2043.419620100275026%5D%2C%20%5B-72.05773169494856%2C%2043.419620100275026%5D%2C%20%5B-72.05773169494856%2C%2043.41935060568979%5D%2C%20%5B-72.05719270577808%2C%2043.41935060568979%5D%2C%20%5B-72.05719270577808%2C%2043.41881161651932%5D%2C%20%5B-72.05692321119284%2C%2043.41881161651932%5D%2C%20%5B-72.05692321119284%2C%2043.41827262734885%5D%2C%20%5B-72.05665371660761%2C%2043.41827262734885%5D%2C%20%5B-72.05665371660761%2C%2043.417194649007904%5D%2C%20%5B-72.05638422202237%2C%2043.417194649007904%5D%2C%20%5B-72.05638422202237%2C%2043.41692515442267%5D%2C%20%5B-72.05584523285191%2C%2043.41692515442267%5D%2C%20%5B-72.05584523285191%2C%2043.41665565983743%5D%2C%20%5B-72.05557573826667%2C%2043.41665565983743%5D%2C%20%5B-72.05557573826667%2C%2043.41692515442267%5D%2C%20%5B-72.05476725451096%2C%2043.41692515442267%5D%2C%20%5B-72.05476725451096%2C%2043.41665565983743%5D%2C%20%5B-72.05395877075524%2C%2043.41665565983743%5D%2C%20%5B-72.05395877075524%2C%2043.41611667066696%5D%2C%20%5B-72.05530624368143%2C%2043.41611667066696%5D%2C%20%5B-72.05530624368143%2C%2043.415847176081726%5D%2C%20%5B-72.05476725451096%2C%2043.415847176081726%5D%2C%20%5B-72.05476725451096%2C%2043.415038692326014%5D%2C%20%5B-72.05449775992572%2C%2043.415038692326014%5D%2C%20%5B-72.05449775992572%2C%2043.41423020857031%5D%2C%20%5B-72.05422826534048%2C%2043.41423020857031%5D%2C%20%5B-72.05422826534048%2C%2043.41396071398508%5D%2C%20%5B-72.05395877075524%2C%2043.41396071398508%5D%2C%20%5B-72.05395877075524%2C%2043.41423020857031%5D%2C%20%5B-72.05341978158478%2C%2043.41423020857031%5D%2C%20%5B-72.05341978158478%2C%2043.41396071398508%5D%2C%20%5B-72.05234180324383%2C%2043.41396071398508%5D%2C%20%5B-72.05234180324383%2C%2043.41369121939984%5D%2C%20%5B-72.05153331948813%2C%2043.41369121939984%5D%2C%20%5B-72.05153331948813%2C%2043.413421724814604%5D%2C%20%5B-72.05126382490289%2C%2043.413421724814604%5D%2C%20%5B-72.05126382490289%2C%2043.41261324105889%5D%2C%20%5B-72.05099433031765%2C%2043.41261324105889%5D%2C%20%5B-72.05099433031765%2C%2043.41234374647366%5D%2C%20%5B-72.05126382490289%2C%2043.41234374647366%5D%2C%20%5B-72.05126382490289%2C%2043.41180475730319%5D%2C%20%5B-72.05099433031765%2C%2043.41180475730319%5D%2C%20%5B-72.05099433031765%2C%2043.41099627354748%5D%2C%20%5B-72.05072483573242%2C%2043.41099627354748%5D%2C%20%5B-72.05072483573242%2C%2043.41045728437701%5D%2C%20%5B-72.05126382490289%2C%2043.41045728437701%5D%2C%20%5B-72.05126382490289%2C%2043.41018778979177%5D%2C%20%5B-72.05153331948813%2C%2043.41018778979177%5D%2C%20%5B-72.05153331948813%2C%2043.41045728437701%5D%2C%20%5B-72.05368927617002%2C%2043.41045728437701%5D%2C%20%5B-72.05368927617002%2C%2043.41018778979177%5D%2C%20%5B-72.05395877075524%2C%2043.41018778979177%5D%2C%20%5B-72.05395877075524%2C%2043.40991829520654%5D%2C%20%5B-72.05449775992572%2C%2043.40991829520654%5D%2C%20%5B-72.05449775992572%2C%2043.4096488006213%5D%2C%20%5B-72.05395877075524%2C%2043.4096488006213%5D%2C%20%5B-72.05395877075524%2C%2043.40884031686559%5D%2C%20%5B-72.05368927617002%2C%2043.40884031686559%5D%2C%20%5B-72.05368927617002%2C%2043.40830132769512%5D%2C%20%5B-72.05341978158478%2C%2043.40830132769512%5D%2C%20%5B-72.05341978158478%2C%2043.40803183310989%5D%2C%20%5B-72.05368927617002%2C%2043.40803183310989%5D%2C%20%5B-72.05368927617002%2C%2043.407223349354176%5D%2C%20%5B-72.05422826534048%2C%2043.407223349354176%5D%2C%20%5B-72.05422826534048%2C%2043.406684360183704%5D%2C%20%5B-72.05503674909619%2C%2043.406684360183704%5D%2C%20%5B-72.05503674909619%2C%2043.40641486559847%5D%2C%20%5B-72.05719270577808%2C%2043.40641486559847%5D%2C%20%5B-72.05719270577808%2C%2043.406684360183704%5D%2C%20%5B-72.05746220036332%2C%2043.406684360183704%5D%2C%20%5B-72.05746220036332%2C%2043.40695385476894%5D%2C%20%5B-72.05800118953378%2C%2043.40695385476894%5D%2C%20%5B-72.05800118953378%2C%2043.407223349354176%5D%2C%20%5B-72.05827068411902%2C%2043.407223349354176%5D%2C%20%5B-72.05827068411902%2C%2043.40776233852465%5D%2C%20%5B-72.05854017870426%2C%2043.40776233852465%5D%2C%20%5B-72.05854017870426%2C%2043.40803183310989%5D%2C%20%5B-72.05934866245997%2C%2043.40803183310989%5D%2C%20%5B-72.05934866245997%2C%2043.40830132769512%5D%2C%20%5B-72.06015714621567%2C%2043.40830132769512%5D%2C%20%5B-72.06015714621567%2C%2043.40857082228036%5D%2C%20%5B-72.05988765163043%2C%2043.40857082228036%5D%2C%20%5B-72.05988765163043%2C%2043.40884031686559%5D%2C%20%5B-72.06042664080091%2C%2043.40884031686559%5D%2C%20%5B-72.06042664080091%2C%2043.409109811450826%5D%2C%20%5B-72.06096562997138%2C%2043.409109811450826%5D%2C%20%5B-72.06096562997138%2C%2043.409379306036065%5D%2C%20%5B-72.06150461914186%2C%2043.409379306036065%5D%2C%20%5B-72.06150461914186%2C%2043.4096488006213%5D%2C%20%5B-72.06204360831232%2C%2043.4096488006213%5D%2C%20%5B-72.06204360831232%2C%2043.41045728437701%5D%2C%20%5B-72.06285209206803%2C%2043.41045728437701%5D%2C%20%5B-72.06285209206803%2C%2043.40991829520654%5D%2C%20%5B-72.0625825974828%2C%2043.40991829520654%5D%2C%20%5B-72.0625825974828%2C%2043.409379306036065%5D%2C%20%5B-72.06231310289756%2C%2043.409379306036065%5D%2C%20%5B-72.06231310289756%2C%2043.40884031686559%5D%2C%20%5B-72.0617741137271%2C%2043.40884031686559%5D%2C%20%5B-72.0617741137271%2C%2043.40857082228036%5D%2C%20%5B-72.06069613538615%2C%2043.40857082228036%5D%2C%20%5B-72.06069613538615%2C%2043.40830132769512%5D%2C%20%5B-72.06042664080091%2C%2043.40830132769512%5D%2C%20%5B-72.06042664080091%2C%2043.40803183310989%5D%2C%20%5B-72.06015714621567%2C%2043.40803183310989%5D%2C%20%5B-72.06015714621567%2C%2043.40776233852465%5D%2C%20%5B-72.05961815704521%2C%2043.40776233852465%5D%2C%20%5B-72.05961815704521%2C%2043.407492843939416%5D%2C%20%5B-72.05934866245997%2C%2043.407492843939416%5D%2C%20%5B-72.05934866245997%2C%2043.40695385476894%5D%2C%20%5B-72.05907916787473%2C%2043.40695385476894%5D%2C%20%5B-72.05907916787473%2C%2043.406684360183704%5D%2C%20%5B-72.0588096732895%2C%2043.406684360183704%5D%2C%20%5B-72.0588096732895%2C%2043.40641486559847%5D%2C%20%5B-72.05854017870426%2C%2043.40641486559847%5D%2C%20%5B-72.05854017870426%2C%2043.405875876428%5D%2C%20%5B-72.05827068411902%2C%2043.405875876428%5D%2C%20%5B-72.05827068411902%2C%2043.40560638184276%5D%2C%20%5B-72.05800118953378%2C%2043.40560638184276%5D%2C%20%5B-72.05800118953378%2C%2043.40425890891658%5D%2C%20%5B-72.05907916787473%2C%2043.40425890891658%5D%2C%20%5B-72.05907916787473%2C%2043.40398941433135%5D%2C%20%5B-72.05961815704521%2C%2043.40398941433135%5D%2C%20%5B-72.05961815704521%2C%2043.40425890891658%5D%2C%20%5B-72.06069613538615%2C%2043.40425890891658%5D%2C%20%5B-72.06069613538615%2C%2043.40452840350182%5D%2C%20%5B-72.06123512455662%2C%2043.40452840350182%5D%2C%20%5B-72.06123512455662%2C%2043.404797898087054%5D%2C%20%5B-72.0617741137271%2C%2043.404797898087054%5D%2C%20%5B-72.0617741137271%2C%2043.405067392672294%5D%2C%20%5B-72.06231310289756%2C%2043.405067392672294%5D%2C%20%5B-72.06231310289756%2C%2043.40560638184276%5D%2C%20%5B-72.06285209206803%2C%2043.40560638184276%5D%2C%20%5B-72.06285209206803%2C%2043.405875876428%5D%2C%20%5B-72.06312158665327%2C%2043.405875876428%5D%2C%20%5B-72.06312158665327%2C%2043.40614537101323%5D%2C%20%5B-72.06419956499421%2C%2043.40614537101323%5D%2C%20%5B-72.06419956499421%2C%2043.405875876428%5D%2C%20%5B-72.06446905957945%2C%2043.405875876428%5D%2C%20%5B-72.06446905957945%2C%2043.40560638184276%5D%2C%20%5B-72.06473855416469%2C%2043.40560638184276%5D%2C%20%5B-72.06473855416469%2C%2043.40452840350182%5D%2C%20%5B-72.06500804874992%2C%2043.40452840350182%5D%2C%20%5B-72.06500804874992%2C%2043.40425890891658%5D%2C%20%5B-72.06581653250562%2C%2043.40425890891658%5D%2C%20%5B-72.06581653250562%2C%2043.40452840350182%5D%2C%20%5B-72.06743350001705%2C%2043.40452840350182%5D%2C%20%5B-72.06743350001705%2C%2043.40425890891658%5D%2C%20%5B-72.06770299460229%2C%2043.40425890891658%5D%2C%20%5B-72.06770299460229%2C%2043.40398941433135%5D%2C%20%5B-72.06797248918751%2C%2043.40398941433135%5D%2C%20%5B-72.06797248918751%2C%2043.40371991974611%5D%2C%20%5B-72.06851147835799%2C%2043.40371991974611%5D%2C%20%5B-72.06851147835799%2C%2043.40345042516088%5D%2C%20%5B-72.06905046752846%2C%2043.40345042516088%5D%2C%20%5B-72.06905046752846%2C%2043.40318093057564%5D%2C%20%5B-72.06958945669894%2C%2043.40318093057564%5D%2C%20%5B-72.06958945669894%2C%2043.402641941405165%5D%2C%20%5B-72.06985895128416%2C%2043.402641941405165%5D%2C%20%5B-72.06985895128416%2C%2043.40237244681993%5D%2C%20%5B-72.07174541338081%2C%2043.40237244681993%5D%2C%20%5B-72.07174541338081%2C%2043.40156396306423%5D%2C%20%5B-72.07120642421035%2C%2043.40156396306423%5D%2C%20%5B-72.07120642421035%2C%2043.40129446847899%5D%2C%20%5B-72.0701284458694%2C%2043.40129446847899%5D%2C%20%5B-72.0701284458694%2C%2043.401024973893755%5D%2C%20%5B-72.06878097294322%2C%2043.401024973893755%5D%2C%20%5B-72.06878097294322%2C%2043.400755479308515%5D%2C%20%5B-72.06824198377275%2C%2043.400755479308515%5D%2C%20%5B-72.06824198377275%2C%2043.401024973893755%5D%2C%20%5B-72.06770299460229%2C%2043.401024973893755%5D%2C%20%5B-72.06770299460229%2C%2043.400755479308515%5D%2C%20%5B-72.0671640054318%2C%2043.400755479308515%5D%2C%20%5B-72.0671640054318%2C%2043.40048598472328%5D%2C%20%5B-72.06527754333516%2C%2043.40048598472328%5D%2C%20%5B-72.06527754333516%2C%2043.39994699555281%5D%2C%20%5B-72.06419956499421%2C%2043.39994699555281%5D%2C%20%5B-72.06419956499421%2C%2043.39967750096757%5D%2C%20%5B-72.06366057582375%2C%2043.39967750096757%5D%2C%20%5B-72.06366057582375%2C%2043.39940800638234%5D%2C%20%5B-72.06419956499421%2C%2043.39940800638234%5D%2C%20%5B-72.06419956499421%2C%2043.399138511797105%5D%2C%20%5B-72.06393007040897%2C%2043.399138511797105%5D%2C%20%5B-72.06393007040897%2C%2043.39859952262663%5D%2C%20%5B-72.0633910812385%2C%2043.39859952262663%5D%2C%20%5B-72.0633910812385%2C%2043.39833002804139%5D%2C%20%5B-72.06312158665327%2C%2043.39833002804139%5D%2C%20%5B-72.06312158665327%2C%2043.39752154428569%5D%2C%20%5B-72.0625825974828%2C%2043.39752154428569%5D%2C%20%5B-72.0625825974828%2C%2043.39725204970045%5D%2C%20%5B-72.06204360831232%2C%2043.39725204970045%5D%2C%20%5B-72.06204360831232%2C%2043.39644356594474%5D%2C%20%5B-72.0625825974828%2C%2043.39644356594474%5D%2C%20%5B-72.0625825974828%2C%2043.39617407135951%5D%2C%20%5B-72.06312158665327%2C%2043.39617407135951%5D%2C%20%5B-72.06312158665327%2C%2043.39590457677427%5D%2C%20%5B-72.0633910812385%2C%2043.39590457677427%5D%2C%20%5B-72.0633910812385%2C%2043.39617407135951%5D%2C%20%5B-72.06393007040897%2C%2043.39617407135951%5D%2C%20%5B-72.06393007040897%2C%2043.39374862009238%5D%2C%20%5B-72.06419956499421%2C%2043.39374862009238%5D%2C%20%5B-72.06419956499421%2C%2043.392670641751444%5D%2C%20%5B-72.06473855416469%2C%2043.392670641751444%5D%2C%20%5B-72.06473855416469%2C%2043.39294013633668%5D%2C%20%5B-72.06527754333516%2C%2043.39294013633668%5D%2C%20%5B-72.06527754333516%2C%2043.39347912550715%5D%2C%20%5B-72.0655470379204%2C%2043.39347912550715%5D%2C%20%5B-72.0655470379204%2C%2043.39374862009238%5D%2C%20%5B-72.06581653250562%2C%2043.39374862009238%5D%2C%20%5B-72.06581653250562%2C%2043.39401811467762%5D%2C%20%5B-72.06662501626134%2C%2043.39401811467762%5D%2C%20%5B-72.06662501626134%2C%2043.39374862009238%5D%2C%20%5B-72.06797248918751%2C%2043.39374862009238%5D%2C%20%5B-72.06797248918751%2C%2043.39401811467762%5D%2C%20%5B-72.06851147835799%2C%2043.39401811467762%5D%2C%20%5B-72.06851147835799%2C%2043.394287609262854%5D%2C%20%5B-72.06958945669894%2C%2043.394287609262854%5D%2C%20%5B-72.06958945669894%2C%2043.39455710384809%5D%2C%20%5B-72.07066743503988%2C%2043.39455710384809%5D%2C%20%5B-72.07066743503988%2C%2043.394826598433326%5D%2C%20%5B-72.07336238089223%2C%2043.394826598433326%5D%2C%20%5B-72.07336238089223%2C%2043.395096093018566%5D%2C%20%5B-72.0739013700627%2C%2043.395096093018566%5D%2C%20%5B-72.0739013700627%2C%2043.3953655876038%5D%2C%20%5B-72.07444035923318%2C%2043.3953655876038%5D%2C%20%5B-72.07444035923318%2C%2043.39563508218904%5D%2C%20%5B-72.0747098538184%2C%2043.39563508218904%5D%2C%20%5B-72.0747098538184%2C%2043.39590457677427%5D%2C%20%5B-72.07578783215935%2C%2043.39590457677427%5D%2C%20%5B-72.07578783215935%2C%2043.39617407135951%5D%2C%20%5B-72.07875227259694%2C%2043.39617407135951%5D%2C%20%5B-72.07875227259694%2C%2043.39590457677427%5D%2C%20%5B-72.07983025093789%2C%2043.39590457677427%5D%2C%20%5B-72.07983025093789%2C%2043.39563508218904%5D%2C%20%5B-72.08090822927883%2C%2043.39563508218904%5D%2C%20%5B-72.08090822927883%2C%2043.395096093018566%5D%2C%20%5B-72.08117772386407%2C%2043.395096093018566%5D%2C%20%5B-72.08117772386407%2C%2043.394826598433326%5D%2C%20%5B-72.0806387346936%2C%2043.394826598433326%5D%2C%20%5B-72.0806387346936%2C%2043.39401811467762%5D%2C%20%5B-72.08144721844931%2C%2043.39401811467762%5D%2C%20%5B-72.08144721844931%2C%2043.39374862009238%5D%2C%20%5B-72.08225570220502%2C%2043.39374862009238%5D%2C%20%5B-72.08225570220502%2C%2043.392401147166204%5D%2C%20%5B-72.08198620761978%2C%2043.392401147166204%5D%2C%20%5B-72.08198620761978%2C%2043.39186215799573%5D%2C%20%5B-72.08144721844931%2C%2043.39186215799573%5D%2C%20%5B-72.08144721844931%2C%2043.3915926634105%5D%2C%20%5B-72.08117772386407%2C%2043.3915926634105%5D%2C%20%5B-72.08117772386407%2C%2043.39132316882526%5D%2C%20%5B-72.08090822927883%2C%2043.39132316882526%5D%2C%20%5B-72.08090822927883%2C%2043.39078417965479%5D%2C%20%5B-72.0806387346936%2C%2043.39078417965479%5D%2C%20%5B-72.0806387346936%2C%2043.390514685069554%5D%2C%20%5B-72.08009974552313%2C%2043.390514685069554%5D%2C%20%5B-72.08009974552313%2C%2043.38997569589908%5D%2C%20%5B-72.07983025093789%2C%2043.38997569589908%5D%2C%20%5B-72.07983025093789%2C%2043.38889771755814%5D%2C%20%5B-72.07956075635266%2C%2043.38889771755814%5D%2C%20%5B-72.07956075635266%2C%2043.38728075004673%5D%2C%20%5B-72.07983025093789%2C%2043.38728075004673%5D%2C%20%5B-72.07983025093789%2C%2043.386741760876255%5D%2C%20%5B-72.08036924010837%2C%2043.386741760876255%5D%2C%20%5B-72.08036924010837%2C%2043.38620277170578%5D%2C%20%5B-72.07983025093789%2C%2043.38620277170578%5D%2C%20%5B-72.07983025093789%2C%2043.38593327712054%5D%2C%20%5B-72.07902176718218%2C%2043.38593327712054%5D%2C%20%5B-72.07902176718218%2C%2043.38620277170578%5D%2C%20%5B-72.07848277801172%2C%2043.38620277170578%5D%2C%20%5B-72.07848277801172%2C%2043.386741760876255%5D%2C%20%5B-72.07821328342648%2C%2043.386741760876255%5D%2C%20%5B-72.07821328342648%2C%2043.38728075004673%5D%2C%20%5B-72.077674294256%2C%2043.38728075004673%5D%2C%20%5B-72.077674294256%2C%2043.38916721214338%5D%2C%20%5B-72.07713530508553%2C%2043.38916721214338%5D%2C%20%5B-72.07713530508553%2C%2043.38943670672861%5D%2C%20%5B-72.0768658105003%2C%2043.38943670672861%5D%2C%20%5B-72.0768658105003%2C%2043.38997569589908%5D%2C%20%5B-72.07659631591507%2C%2043.38997569589908%5D%2C%20%5B-72.07659631591507%2C%2043.39024519048432%5D%2C%20%5B-72.07605732674459%2C%2043.39024519048432%5D%2C%20%5B-72.07605732674459%2C%2043.390514685069554%5D%2C%20%5B-72.07524884298888%2C%2043.390514685069554%5D%2C%20%5B-72.07524884298888%2C%2043.39078417965479%5D%2C%20%5B-72.0747098538184%2C%2043.39078417965479%5D%2C%20%5B-72.0747098538184%2C%2043.39105367424003%5D%2C%20%5B-72.07417086464794%2C%2043.39105367424003%5D%2C%20%5B-72.07417086464794%2C%2043.39132316882526%5D%2C%20%5B-72.07282339172176%2C%2043.39132316882526%5D%2C%20%5B-72.07282339172176%2C%2043.39105367424003%5D%2C%20%5B-72.07174541338081%2C%2043.39105367424003%5D%2C%20%5B-72.07174541338081%2C%2043.39078417965479%5D%2C%20%5B-72.07120642421035%2C%2043.39078417965479%5D%2C%20%5B-72.07120642421035%2C%2043.390514685069554%5D%2C%20%5B-72.0709369296251%2C%2043.390514685069554%5D%2C%20%5B-72.0709369296251%2C%2043.39024519048432%5D%2C%20%5B-72.07066743503988%2C%2043.39024519048432%5D%2C%20%5B-72.07066743503988%2C%2043.38997569589908%5D%2C%20%5B-72.0701284458694%2C%2043.38997569589908%5D%2C%20%5B-72.0701284458694%2C%2043.38970620131385%5D%2C%20%5B-72.06985895128416%2C%2043.38970620131385%5D%2C%20%5B-72.06985895128416%2C%2043.38943670672861%5D%2C%20%5B-72.06958945669894%2C%2043.38943670672861%5D%2C%20%5B-72.06958945669894%2C%2043.38916721214338%5D%2C%20%5B-72.06905046752846%2C%2043.38916721214338%5D%2C%20%5B-72.06905046752846%2C%2043.388358728387665%5D%2C%20%5B-72.06878097294322%2C%2043.388358728387665%5D%2C%20%5B-72.06878097294322%2C%2043.38701125546149%5D%2C%20%5B-72.06905046752846%2C%2043.38701125546149%5D%2C%20%5B-72.06905046752846%2C%2043.386741760876255%5D%2C%20%5B-72.06878097294322%2C%2043.386741760876255%5D%2C%20%5B-72.06878097294322%2C%2043.38620277170578%5D%2C%20%5B-72.06851147835799%2C%2043.38620277170578%5D%2C%20%5B-72.06851147835799%2C%2043.38593327712054%5D%2C%20%5B-72.06824198377275%2C%2043.38593327712054%5D%2C%20%5B-72.06824198377275%2C%2043.38377732043866%5D%2C%20%5B-72.06851147835799%2C%2043.38377732043866%5D%2C%20%5B-72.06851147835799%2C%2043.38323833126819%5D%2C%20%5B-72.0693199621137%2C%2043.38323833126819%5D%2C%20%5B-72.0693199621137%2C%2043.38296883668295%5D%2C%20%5B-72.06985895128416%2C%2043.38296883668295%5D%2C%20%5B-72.06985895128416%2C%2043.382699342097716%5D%2C%20%5B-72.0693199621137%2C%2043.382699342097716%5D%2C%20%5B-72.0693199621137%2C%2043.382429847512476%5D%2C%20%5B-72.06905046752846%2C%2043.382429847512476%5D%2C%20%5B-72.06905046752846%2C%2043.382160352927244%5D%2C%20%5B-72.06878097294322%2C%2043.382160352927244%5D%2C%20%5B-72.06878097294322%2C%2043.381890858342004%5D%2C%20%5B-72.06824198377275%2C%2043.381890858342004%5D%2C%20%5B-72.06824198377275%2C%2043.38135186917154%5D%2C%20%5B-72.06851147835799%2C%2043.38135186917154%5D%2C%20%5B-72.06851147835799%2C%2043.3810823745863%5D%2C%20%5B-72.06797248918751%2C%2043.3810823745863%5D%2C%20%5B-72.06797248918751%2C%2043.38054338541583%5D%2C%20%5B-72.06743350001705%2C%2043.38054338541583%5D%2C%20%5B-72.06743350001705%2C%2043.380273890830594%5D%2C%20%5B-72.06662501626134%2C%2043.380273890830594%5D%2C%20%5B-72.06662501626134%2C%2043.37973490166012%5D%2C%20%5B-72.0663555216761%2C%2043.37973490166012%5D%2C%20%5B-72.0663555216761%2C%2043.37946540707488%5D%2C%20%5B-72.06581653250562%2C%2043.37946540707488%5D%2C%20%5B-72.06581653250562%2C%2043.37919591248965%5D%2C%20%5B-72.06527754333516%2C%2043.37919591248965%5D%2C%20%5B-72.06527754333516%2C%2043.37892641790441%5D%2C%20%5B-72.06500804874992%2C%2043.37892641790441%5D%2C%20%5B-72.06500804874992%2C%2043.37865692331918%5D%2C%20%5B-72.06446905957945%2C%2043.37865692331918%5D%2C%20%5B-72.06446905957945%2C%2043.378387428733944%5D%2C%20%5B-72.06419956499421%2C%2043.378387428733944%5D%2C%20%5B-72.06419956499421%2C%2043.37865692331918%5D%2C%20%5B-72.06366057582375%2C%2043.37865692331918%5D%2C%20%5B-72.06366057582375%2C%2043.37892641790441%5D%2C%20%5B-72.0633910812385%2C%2043.37892641790441%5D%2C%20%5B-72.0633910812385%2C%2043.37919591248965%5D%2C%20%5B-72.06285209206803%2C%2043.37919591248965%5D%2C%20%5B-72.06285209206803%2C%2043.37946540707488%5D%2C%20%5B-72.06204360831232%2C%2043.37946540707488%5D%2C%20%5B-72.06204360831232%2C%2043.37919591248965%5D%2C%20%5B-72.0617741137271%2C%2043.37919591248965%5D%2C%20%5B-72.0617741137271%2C%2043.378387428733944%5D%2C%20%5B-72.06231310289756%2C%2043.378387428733944%5D%2C%20%5B-72.06231310289756%2C%2043.378117934148705%5D%2C%20%5B-72.06069613538615%2C%2043.378117934148705%5D%2C%20%5B-72.06069613538615%2C%2043.37784843956347%5D%2C%20%5B-72.06042664080091%2C%2043.37784843956347%5D%2C%20%5B-72.06042664080091%2C%2043.37677046122253%5D%2C%20%5B-72.06069613538615%2C%2043.37677046122253%5D%2C%20%5B-72.06069613538615%2C%2043.37650096663729%5D%2C%20%5B-72.06096562997138%2C%2043.37650096663729%5D%2C%20%5B-72.06096562997138%2C%2043.376231472052055%5D%2C%20%5B-72.06204360831232%2C%2043.376231472052055%5D%2C%20%5B-72.06204360831232%2C%2043.37650096663729%5D%2C%20%5B-72.06231310289756%2C%2043.37650096663729%5D%2C%20%5B-72.06231310289756%2C%2043.375961977466815%5D%2C%20%5B-72.0625825974828%2C%2043.375961977466815%5D%2C%20%5B-72.0625825974828%2C%2043.37569248288158%5D%2C%20%5B-72.06285209206803%2C%2043.37569248288158%5D%2C%20%5B-72.06285209206803%2C%2043.37515349371111%5D%2C%20%5B-72.06312158665327%2C%2043.37515349371111%5D%2C%20%5B-72.06312158665327%2C%2043.37488399912588%5D%2C%20%5B-72.0633910812385%2C%2043.37488399912588%5D%2C%20%5B-72.0633910812385%2C%2043.37461450454064%5D%2C%20%5B-72.06393007040897%2C%2043.37461450454064%5D%2C%20%5B-72.06393007040897%2C%2043.37488399912588%5D%2C%20%5B-72.06527754333516%2C%2043.37488399912588%5D%2C%20%5B-72.06527754333516%2C%2043.37515349371111%5D%2C%20%5B-72.06608602709086%2C%2043.37515349371111%5D%2C%20%5B-72.06608602709086%2C%2043.37542298829635%5D%2C%20%5B-72.0663555216761%2C%2043.37542298829635%5D%2C%20%5B-72.0663555216761%2C%2043.376231472052055%5D%2C%20%5B-72.06689451084657%2C%2043.376231472052055%5D%2C%20%5B-72.06689451084657%2C%2043.37650096663729%5D%2C%20%5B-72.06662501626134%2C%2043.37650096663729%5D%2C%20%5B-72.06662501626134%2C%2043.37677046122253%5D%2C%20%5B-72.0671640054318%2C%2043.37677046122253%5D%2C%20%5B-72.0671640054318%2C%2043.377309450393%5D%2C%20%5B-72.06743350001705%2C%2043.377309450393%5D%2C%20%5B-72.06743350001705%2C%2043.37703995580776%5D%2C%20%5B-72.06797248918751%2C%2043.37703995580776%5D%2C%20%5B-72.06797248918751%2C%2043.37650096663729%5D%2C%20%5B-72.06743350001705%2C%2043.37650096663729%5D%2C%20%5B-72.06743350001705%2C%2043.376231472052055%5D%2C%20%5B-72.06770299460229%2C%2043.376231472052055%5D%2C%20%5B-72.06770299460229%2C%2043.375961977466815%5D%2C%20%5B-72.0693199621137%2C%2043.375961977466815%5D%2C%20%5B-72.0693199621137%2C%2043.37569248288158%5D%2C%20%5B-72.06878097294322%2C%2043.37569248288158%5D%2C%20%5B-72.06878097294322%2C%2043.37515349371111%5D%2C%20%5B-72.06824198377275%2C%2043.37515349371111%5D%2C%20%5B-72.06824198377275%2C%2043.37488399912588%5D%2C%20%5B-72.06770299460229%2C%2043.37488399912588%5D%2C%20%5B-72.06770299460229%2C%2043.37461450454064%5D%2C%20%5B-72.0671640054318%2C%2043.37461450454064%5D%2C%20%5B-72.0671640054318%2C%2043.374345009955405%5D%2C%20%5B-72.06608602709086%2C%2043.374345009955405%5D%2C%20%5B-72.06608602709086%2C%2043.374075515370166%5D%2C%20%5B-72.06581653250562%2C%2043.374075515370166%5D%2C%20%5B-72.06581653250562%2C%2043.37353652619969%5D%2C%20%5B-72.0655470379204%2C%2043.37353652619969%5D%2C%20%5B-72.0655470379204%2C%2043.37272804244399%5D%2C%20%5B-72.06527754333516%2C%2043.37272804244399%5D%2C%20%5B-72.06527754333516%2C%2043.37245854785875%5D%2C%20%5B-72.0655470379204%2C%2043.37245854785875%5D%2C%20%5B-72.0655470379204%2C%2043.372189053273516%5D%2C%20%5B-72.06662501626134%2C%2043.372189053273516%5D%2C%20%5B-72.06662501626134%2C%2043.37245854785875%5D%2C%20%5B-72.06743350001705%2C%2043.37245854785875%5D%2C%20%5B-72.06743350001705%2C%2043.37272804244399%5D%2C%20%5B-72.06770299460229%2C%2043.37272804244399%5D%2C%20%5B-72.06770299460229%2C%2043.37353652619969%5D%2C%20%5B-72.06824198377275%2C%2043.37353652619969%5D%2C%20%5B-72.06824198377275%2C%2043.37380602078493%5D%2C%20%5B-72.06905046752846%2C%2043.37380602078493%5D%2C%20%5B-72.06905046752846%2C%2043.374075515370166%5D%2C%20%5B-72.06985895128416%2C%2043.374075515370166%5D%2C%20%5B-72.06985895128416%2C%2043.37488399912588%5D%2C%20%5B-72.0693199621137%2C%2043.37488399912588%5D%2C%20%5B-72.0693199621137%2C%2043.37515349371111%5D%2C%20%5B-72.06985895128416%2C%2043.37515349371111%5D%2C%20%5B-72.06985895128416%2C%2043.37542298829635%5D%2C%20%5B-72.0701284458694%2C%2043.37542298829635%5D%2C%20%5B-72.0701284458694%2C%2043.37515349371111%5D%2C%20%5B-72.07039794045464%2C%2043.37515349371111%5D%2C%20%5B-72.07039794045464%2C%2043.37488399912588%5D%2C%20%5B-72.0709369296251%2C%2043.37488399912588%5D%2C%20%5B-72.0709369296251%2C%2043.374345009955405%5D%2C%20%5B-72.07147591879558%2C%2043.374345009955405%5D%2C%20%5B-72.07147591879558%2C%2043.374075515370166%5D%2C%20%5B-72.07201490796605%2C%2043.374075515370166%5D%2C%20%5B-72.07201490796605%2C%2043.37326703161446%5D%2C%20%5B-72.0709369296251%2C%2043.37326703161446%5D%2C%20%5B-72.0709369296251%2C%2043.37299753702922%5D%2C%20%5B-72.07066743503988%2C%2043.37299753702922%5D%2C%20%5B-72.07066743503988%2C%2043.372189053273516%5D%2C%20%5B-72.0709369296251%2C%2043.372189053273516%5D%2C%20%5B-72.0709369296251%2C%2043.371650064103044%5D%2C%20%5B-72.07147591879558%2C%2043.371650064103044%5D%2C%20%5B-72.07147591879558%2C%2043.37138056951781%5D%2C%20%5B-72.07228440255129%2C%2043.37138056951781%5D%2C%20%5B-72.07228440255129%2C%2043.370302591176866%5D%2C%20%5B-72.07255389713653%2C%2043.370302591176866%5D%2C%20%5B-72.07255389713653%2C%2043.37003309659163%5D%2C%20%5B-72.07524884298888%2C%2043.37003309659163%5D%2C%20%5B-72.07524884298888%2C%2043.369763602006394%5D%2C%20%5B-72.07551833757412%2C%2043.369763602006394%5D%2C%20%5B-72.07551833757412%2C%2043.369494107421154%5D%2C%20%5B-72.07524884298888%2C%2043.369494107421154%5D%2C%20%5B-72.07524884298888%2C%2043.36922461283592%5D%2C%20%5B-72.07497934840364%2C%2043.36922461283592%5D%2C%20%5B-72.07497934840364%2C%2043.36895511825069%5D%2C%20%5B-72.07444035923318%2C%2043.36895511825069%5D%2C%20%5B-72.07444035923318%2C%2043.36841612908022%5D%2C%20%5B-72.07417086464794%2C%2043.36841612908022%5D%2C%20%5B-72.07417086464794%2C%2043.36814663449498%5D%2C%20%5B-72.0739013700627%2C%2043.36814663449498%5D%2C%20%5B-72.0739013700627%2C%2043.36706865615403%5D%2C%20%5B-72.073092886307%2C%2043.36706865615403%5D%2C%20%5B-72.073092886307%2C%2043.3667991615688%5D%2C%20%5B-72.07282339172176%2C%2043.3667991615688%5D%2C%20%5B-72.07282339172176%2C%2043.365990677813095%5D%2C%20%5B-72.073092886307%2C%2043.365990677813095%5D%2C%20%5B-72.073092886307%2C%2043.36518219405738%5D%2C%20%5B-72.07174541338081%2C%2043.36518219405738%5D%2C%20%5B-72.07174541338081%2C%2043.36545168864262%5D%2C%20%5B-72.07066743503988%2C%2043.36545168864262%5D%2C%20%5B-72.07066743503988%2C%2043.36518219405738%5D%2C%20%5B-72.06985895128416%2C%2043.36518219405738%5D%2C%20%5B-72.06985895128416%2C%2043.36491269947215%5D%2C%20%5B-72.06905046752846%2C%2043.36491269947215%5D%2C%20%5B-72.06905046752846%2C%2043.36518219405738%5D%2C%20%5B-72.06851147835799%2C%2043.36518219405738%5D%2C%20%5B-72.06851147835799%2C%2043.36545168864262%5D%2C%20%5B-72.0671640054318%2C%2043.36545168864262%5D%2C%20%5B-72.0671640054318%2C%2043.36518219405738%5D%2C%20%5B-72.06662501626134%2C%2043.36518219405738%5D%2C%20%5B-72.06662501626134%2C%2043.36464320488691%5D%2C%20%5B-72.0663555216761%2C%2043.36464320488691%5D%2C%20%5B-72.0663555216761%2C%2043.36437371030168%5D%2C%20%5B-72.06608602709086%2C%2043.36437371030168%5D%2C%20%5B-72.06608602709086%2C%2043.36410421571644%5D%2C%20%5B-72.06581653250562%2C%2043.36410421571644%5D%2C%20%5B-72.06581653250562%2C%2043.363834721131205%5D%2C%20%5B-72.0655470379204%2C%2043.363834721131205%5D%2C%20%5B-72.0655470379204%2C%2043.36329573196073%5D%2C%20%5B-72.06527754333516%2C%2043.36329573196073%5D%2C%20%5B-72.06527754333516%2C%2043.361948259034556%5D%2C%20%5B-72.06446905957945%2C%2043.361948259034556%5D%2C%20%5B-72.06446905957945%2C%2043.361678764449316%5D%2C%20%5B-72.06366057582375%2C%2043.361678764449316%5D%2C%20%5B-72.06366057582375%2C%2043.36140926986408%5D%2C%20%5B-72.06123512455662%2C%2043.36140926986408%5D%2C%20%5B-72.06123512455662%2C%2043.36113977527884%5D%2C%20%5B-72.06096562997138%2C%2043.36113977527884%5D%2C%20%5B-72.06096562997138%2C%2043.36087028069361%5D%2C%20%5B-72.06042664080091%2C%2043.36087028069361%5D%2C%20%5B-72.06042664080091%2C%2043.360061796937906%5D%2C%20%5B-72.06015714621567%2C%2043.360061796937906%5D%2C%20%5B-72.06015714621567%2C%2043.359253313182194%5D%2C%20%5B-72.05961815704521%2C%2043.359253313182194%5D%2C%20%5B-72.05961815704521%2C%2043.35898381859696%5D%2C%20%5B-72.05907916787473%2C%2043.35898381859696%5D%2C%20%5B-72.05907916787473%2C%2043.35844482942649%5D%2C%20%5B-72.0588096732895%2C%2043.35844482942649%5D%2C%20%5B-72.0588096732895%2C%2043.35817533484125%5D%2C%20%5B-72.05827068411902%2C%2043.35817533484125%5D%2C%20%5B-72.05827068411902%2C%2043.35763634567078%5D%2C%20%5B-72.05854017870426%2C%2043.35763634567078%5D%2C%20%5B-72.05854017870426%2C%2043.357366851085544%5D%2C%20%5B-72.05800118953378%2C%2043.357366851085544%5D%2C%20%5B-72.05800118953378%2C%2043.35682786191507%5D%2C%20%5B-72.05773169494856%2C%2043.35682786191507%5D%2C%20%5B-72.05773169494856%2C%2043.35467190523318%5D%2C%20%5B-72.05827068411902%2C%2043.35467190523318%5D%2C%20%5B-72.05827068411902%2C%2043.35386342147748%5D%2C%20%5B-72.05773169494856%2C%2043.35386342147748%5D%2C%20%5B-72.05773169494856%2C%2043.353593926892245%5D%2C%20%5B-72.05800118953378%2C%2043.353593926892245%5D%2C%20%5B-72.05800118953378%2C%2043.35278544313653%5D%2C%20%5B-72.05746220036332%2C%2043.35278544313653%5D%2C%20%5B-72.05746220036332%2C%2043.351437970210355%5D%2C%20%5B-72.05773169494856%2C%2043.351437970210355%5D%2C%20%5B-72.05773169494856%2C%2043.35089898103988%5D%2C%20%5B-72.05719270577808%2C%2043.35089898103988%5D%2C%20%5B-72.05719270577808%2C%2043.35062948645465%5D%2C%20%5B-72.05692321119284%2C%2043.35062948645465%5D%2C%20%5B-72.05692321119284%2C%2043.34982100269894%5D%2C%20%5B-72.05719270577808%2C%2043.34982100269894%5D%2C%20%5B-72.05719270577808%2C%2043.349551508113706%5D%2C%20%5B-72.05692321119284%2C%2043.349551508113706%5D%2C%20%5B-72.05692321119284%2C%2043.348743024357994%5D%2C%20%5B-72.05719270577808%2C%2043.348743024357994%5D%2C%20%5B-72.05719270577808%2C%2043.34901251894323%5D%2C%20%5B-72.05746220036332%2C%2043.34901251894323%5D%2C%20%5B-72.05746220036332%2C%2043.348743024357994%5D%2C%20%5B-72.05800118953378%2C%2043.348743024357994%5D%2C%20%5B-72.05800118953378%2C%2043.34820403518753%5D%2C%20%5B-72.05854017870426%2C%2043.34820403518753%5D%2C%20%5B-72.05854017870426%2C%2043.34793454060229%5D%2C%20%5B-72.0588096732895%2C%2043.34793454060229%5D%2C%20%5B-72.0588096732895%2C%2043.347665046017056%5D%2C%20%5B-72.05934866245997%2C%2043.347665046017056%5D%2C%20%5B-72.05934866245997%2C%2043.347395551431816%5D%2C%20%5B-72.05961815704521%2C%2043.347395551431816%5D%2C%20%5B-72.05961815704521%2C%2043.347126056846584%5D%2C%20%5B-72.06042664080091%2C%2043.347126056846584%5D%2C%20%5B-72.06042664080091%2C%2043.34658706767611%5D%2C%20%5B-72.06069613538615%2C%2043.34658706767611%5D%2C%20%5B-72.06069613538615%2C%2043.34604807850564%5D%2C%20%5B-72.06123512455662%2C%2043.34604807850564%5D%2C%20%5B-72.06123512455662%2C%2043.3457785839204%5D%2C%20%5B-72.06150461914186%2C%2043.3457785839204%5D%2C%20%5B-72.06150461914186%2C%2043.34550908933517%5D%2C%20%5B-72.06231310289756%2C%2043.34550908933517%5D%2C%20%5B-72.06231310289756%2C%2043.344970100164694%5D%2C%20%5B-72.06204360831232%2C%2043.344970100164694%5D%2C%20%5B-72.06204360831232%2C%2043.34470060557946%5D%2C%20%5B-72.06150461914186%2C%2043.34470060557946%5D%2C%20%5B-72.06150461914186%2C%2043.344970100164694%5D%2C%20%5B-72.06096562997138%2C%2043.344970100164694%5D%2C%20%5B-72.06096562997138%2C%2043.34416161640899%5D%2C%20%5B-72.06123512455662%2C%2043.34416161640899%5D%2C%20%5B-72.06123512455662%2C%2043.343083638068045%5D%2C%20%5B-72.06096562997138%2C%2043.343083638068045%5D%2C%20%5B-72.06096562997138%2C%2043.34227515431233%5D%2C%20%5B-72.06069613538615%2C%2043.34227515431233%5D%2C%20%5B-72.06069613538615%2C%2043.3420056597271%5D%2C%20%5B-72.06042664080091%2C%2043.3420056597271%5D%2C%20%5B-72.06042664080091%2C%2043.34173616514187%5D%2C%20%5B-72.0588096732895%2C%2043.34173616514187%5D%2C%20%5B-72.0588096732895%2C%2043.34146667055663%5D%2C%20%5B-72.05854017870426%2C%2043.34146667055663%5D%2C%20%5B-72.05854017870426%2C%2043.341197175971395%5D%2C%20%5B-72.05773169494856%2C%2043.341197175971395%5D%2C%20%5B-72.05773169494856%2C%2043.34065818680092%5D%2C%20%5B-72.05692321119284%2C%2043.34065818680092%5D%2C%20%5B-72.05692321119284%2C%2043.34038869221568%5D%2C%20%5B-72.05665371660761%2C%2043.34038869221568%5D%2C%20%5B-72.05665371660761%2C%2043.34011919763045%5D%2C%20%5B-72.05638422202237%2C%2043.34011919763045%5D%2C%20%5B-72.05638422202237%2C%2043.33984970304521%5D%2C%20%5B-72.05584523285191%2C%2043.33984970304521%5D%2C%20%5B-72.05584523285191%2C%2043.33931071387474%5D%2C%20%5B-72.05557573826667%2C%2043.33931071387474%5D%2C%20%5B-72.05557573826667%2C%2043.33850223011903%5D%2C%20%5B-72.05530624368143%2C%2043.33850223011903%5D%2C%20%5B-72.05530624368143%2C%2043.33796324094856%5D%2C%20%5B-72.05503674909619%2C%2043.33796324094856%5D%2C%20%5B-72.05503674909619%2C%2043.33769374636333%5D%2C%20%5B-72.05395877075524%2C%2043.33769374636333%5D%2C%20%5B-72.05395877075524%2C%2043.33742425177809%5D%2C%20%5B-72.05341978158478%2C%2043.33742425177809%5D%2C%20%5B-72.05341978158478%2C%2043.3382327355338%5D%2C%20%5B-72.05234180324383%2C%2043.3382327355338%5D%2C%20%5B-72.05234180324383%2C%2043.33796324094856%5D%2C%20%5B-72.05153331948813%2C%2043.33796324094856%5D%2C%20%5B-72.05153331948813%2C%2043.33742425177809%5D%2C%20%5B-72.05045534114718%2C%2043.33742425177809%5D%2C%20%5B-72.05045534114718%2C%2043.337154757192856%5D%2C%20%5B-72.04991635197672%2C%2043.337154757192856%5D%2C%20%5B-72.04991635197672%2C%2043.336885262607616%5D%2C%20%5B-72.04856887905053%2C%2043.336885262607616%5D%2C%20%5B-72.04856887905053%2C%2043.336615768022384%5D%2C%20%5B-72.0482993844653%2C%2043.336615768022384%5D%2C%20%5B-72.0482993844653%2C%2043.33553778968144%5D%2C%20%5B-72.04802988988006%2C%2043.33553778968144%5D%2C%20%5B-72.04802988988006%2C%2043.33419031675526%5D%2C%20%5B-72.04776039529483%2C%2043.33419031675526%5D%2C%20%5B-72.04776039529483%2C%2043.33392082217002%5D%2C%20%5B-72.04668241695389%2C%2043.33392082217002%5D%2C%20%5B-72.04668241695389%2C%2043.33365132758479%5D%2C%20%5B-72.0461434277834%2C%2043.33365132758479%5D%2C%20%5B-72.0461434277834%2C%2043.33338183299955%5D%2C%20%5B-72.04587393319818%2C%2043.33338183299955%5D%2C%20%5B-72.04587393319818%2C%2043.33311233841432%5D%2C%20%5B-72.04560443861294%2C%2043.33311233841432%5D%2C%20%5B-72.04560443861294%2C%2043.332842843829084%5D%2C%20%5B-72.04371797651629%2C%2043.332842843829084%5D%2C%20%5B-72.04371797651629%2C%2043.33230385465861%5D%2C%20%5B-72.04344848193105%2C%2043.33230385465861%5D%2C%20%5B-72.04344848193105%2C%2043.33176486548814%5D%2C%20%5B-72.04290949276059%2C%2043.33176486548814%5D%2C%20%5B-72.04290949276059%2C%2043.330417392561955%5D%2C%20%5B-72.04317898734581%2C%2043.330417392561955%5D%2C%20%5B-72.04317898734581%2C%2043.328800425050545%5D%2C%20%5B-72.04290949276059%2C%2043.328800425050545%5D%2C%20%5B-72.04290949276059%2C%2043.32826143588007%5D%2C%20%5B-72.0423705035901%2C%2043.32826143588007%5D%2C%20%5B-72.0423705035901%2C%2043.32799194129483%5D%2C%20%5B-72.04210100900487%2C%2043.32799194129483%5D%2C%20%5B-72.04210100900487%2C%2043.32718345753913%5D%2C%20%5B-72.04183151441964%2C%2043.32718345753913%5D%2C%20%5B-72.04183151441964%2C%2043.32610547919818%5D%2C%20%5B-72.0415620198344%2C%2043.32610547919818%5D%2C%20%5B-72.0415620198344%2C%2043.32583598461295%5D%2C%20%5B-72.04129252524916%2C%2043.32583598461295%5D%2C%20%5B-72.04129252524916%2C%2043.32556649002771%5D%2C%20%5B-72.04102303066394%2C%2043.32556649002771%5D%2C%20%5B-72.04102303066394%2C%2043.324488511686766%5D%2C%20%5B-72.0407535360787%2C%2043.324488511686766%5D%2C%20%5B-72.0407535360787%2C%2043.32341053334583%5D%2C%20%5B-72.04048404149346%2C%2043.32341053334583%5D%2C%20%5B-72.04048404149346%2C%2043.32314103876059%5D%2C%20%5B-72.04021454690822%2C%2043.32314103876059%5D%2C%20%5B-72.04021454690822%2C%2043.32341053334583%5D%2C%20%5B-72.03859757939681%2C%2043.32341053334583%5D%2C%20%5B-72.03859757939681%2C%2043.32287154417536%5D%2C%20%5B-72.03832808481157%2C%2043.32287154417536%5D%2C%20%5B-72.03832808481157%2C%2043.32260204959012%5D%2C%20%5B-72.0377890956411%2C%2043.32260204959012%5D%2C%20%5B-72.0377890956411%2C%2043.322332555004884%5D%2C%20%5B-72.03751960105586%2C%2043.322332555004884%5D%2C%20%5B-72.03751960105586%2C%2043.322063060419644%5D%5D%2C%20%5B%5B-72.06042664080091%2C%2043.3705720857621%5D%2C%20%5B-72.06042664080091%2C%2043.37084158034734%5D%2C%20%5B-72.05988765163043%2C%2043.37084158034734%5D%2C%20%5B-72.05988765163043%2C%2043.37138056951781%5D%2C%20%5B-72.06042664080091%2C%2043.37138056951781%5D%2C%20%5B-72.06042664080091%2C%2043.371650064103044%5D%2C%20%5B-72.06150461914186%2C%2043.371650064103044%5D%2C%20%5B-72.06150461914186%2C%2043.37084158034734%5D%2C%20%5B-72.06123512455662%2C%2043.37084158034734%5D%2C%20%5B-72.06123512455662%2C%2043.3705720857621%5D%2C%20%5B-72.06042664080091%2C%2043.3705720857621%5D%5D%2C%20%5B%5B-72.06905046752846%2C%2043.370302591176866%5D%2C%20%5B-72.06905046752846%2C%2043.3705720857621%5D%2C%20%5B-72.06878097294322%2C%2043.3705720857621%5D%2C%20%5B-72.06878097294322%2C%2043.37138056951781%5D%2C%20%5B-72.0693199621137%2C%2043.37138056951781%5D%2C%20%5B-72.0693199621137%2C%2043.371650064103044%5D%2C%20%5B-72.06851147835799%2C%2043.371650064103044%5D%2C%20%5B-72.06851147835799%2C%2043.37245854785875%5D%2C%20%5B-72.06905046752846%2C%2043.37245854785875%5D%2C%20%5B-72.06905046752846%2C%2043.372189053273516%5D%2C%20%5B-72.07039794045464%2C%2043.372189053273516%5D%2C%20%5B-72.07039794045464%2C%2043.37191955868828%5D%2C%20%5B-72.07066743503988%2C%2043.37191955868828%5D%2C%20%5B-72.07066743503988%2C%2043.371650064103044%5D%2C%20%5B-72.0709369296251%2C%2043.371650064103044%5D%2C%20%5B-72.0709369296251%2C%2043.37138056951781%5D%2C%20%5B-72.07120642421035%2C%2043.37138056951781%5D%2C%20%5B-72.07120642421035%2C%2043.3705720857621%5D%2C%20%5B-72.07066743503988%2C%2043.3705720857621%5D%2C%20%5B-72.07066743503988%2C%2043.370302591176866%5D%2C%20%5B-72.06905046752846%2C%2043.370302591176866%5D%5D%2C%20%5B%5B-72.05530624368143%2C%2043.3630262373755%5D%2C%20%5B-72.05530624368143%2C%2043.36329573196073%5D%2C%20%5B-72.05476725451096%2C%2043.36329573196073%5D%2C%20%5B-72.05476725451096%2C%2043.36437371030168%5D%2C%20%5B-72.05449775992572%2C%2043.36437371030168%5D%2C%20%5B-72.05449775992572%2C%2043.36464320488691%5D%2C%20%5B-72.05395877075524%2C%2043.36464320488691%5D%2C%20%5B-72.05395877075524%2C%2043.36518219405738%5D%2C%20%5B-72.05368927617002%2C%2043.36518219405738%5D%2C%20%5B-72.05368927617002%2C%2043.36626017239833%5D%2C%20%5B-72.05341978158478%2C%2043.36626017239833%5D%2C%20%5B-72.05341978158478%2C%2043.36652966698356%5D%2C%20%5B-72.05368927617002%2C%2043.36652966698356%5D%2C%20%5B-72.05368927617002%2C%2043.3667991615688%5D%2C%20%5B-72.05395877075524%2C%2043.3667991615688%5D%2C%20%5B-72.05395877075524%2C%2043.36706865615403%5D%2C%20%5B-72.05422826534048%2C%2043.36706865615403%5D%2C%20%5B-72.05422826534048%2C%2043.36733815073927%5D%2C%20%5B-72.05449775992572%2C%2043.36733815073927%5D%2C%20%5B-72.05449775992572%2C%2043.367607645324505%5D%2C%20%5B-72.05503674909619%2C%2043.367607645324505%5D%2C%20%5B-72.05503674909619%2C%2043.367877139909744%5D%2C%20%5B-72.05530624368143%2C%2043.367877139909744%5D%2C%20%5B-72.05530624368143%2C%2043.36868562366545%5D%2C%20%5B-72.05557573826667%2C%2043.36868562366545%5D%2C%20%5B-72.05557573826667%2C%2043.369494107421154%5D%2C%20%5B-72.05584523285191%2C%2043.369494107421154%5D%2C%20%5B-72.05584523285191%2C%2043.369763602006394%5D%2C%20%5B-72.05638422202237%2C%2043.369763602006394%5D%2C%20%5B-72.05638422202237%2C%2043.37003309659163%5D%2C%20%5B-72.05665371660761%2C%2043.37003309659163%5D%2C%20%5B-72.05665371660761%2C%2043.370302591176866%5D%2C%20%5B-72.0588096732895%2C%2043.370302591176866%5D%2C%20%5B-72.0588096732895%2C%2043.37003309659163%5D%2C%20%5B-72.05934866245997%2C%2043.37003309659163%5D%2C%20%5B-72.05934866245997%2C%2043.36814663449498%5D%2C%20%5B-72.05907916787473%2C%2043.36814663449498%5D%2C%20%5B-72.05907916787473%2C%2043.367607645324505%5D%2C%20%5B-72.0588096732895%2C%2043.367607645324505%5D%2C%20%5B-72.0588096732895%2C%2043.3667991615688%5D%2C%20%5B-72.05827068411902%2C%2043.3667991615688%5D%2C%20%5B-72.05827068411902%2C%2043.36652966698356%5D%2C%20%5B-72.05800118953378%2C%2043.36652966698356%5D%2C%20%5B-72.05800118953378%2C%2043.365990677813095%5D%2C%20%5B-72.05773169494856%2C%2043.365990677813095%5D%2C%20%5B-72.05773169494856%2C%2043.36518219405738%5D%2C%20%5B-72.05800118953378%2C%2043.36518219405738%5D%2C%20%5B-72.05800118953378%2C%2043.36410421571644%5D%2C%20%5B-72.05773169494856%2C%2043.36410421571644%5D%2C%20%5B-72.05773169494856%2C%2043.363834721131205%5D%2C%20%5B-72.05746220036332%2C%2043.363834721131205%5D%2C%20%5B-72.05746220036332%2C%2043.363565226545965%5D%2C%20%5B-72.05692321119284%2C%2043.363565226545965%5D%2C%20%5B-72.05692321119284%2C%2043.36329573196073%5D%2C%20%5B-72.05638422202237%2C%2043.36329573196073%5D%2C%20%5B-72.05638422202237%2C%2043.3630262373755%5D%2C%20%5B-72.05530624368143%2C%2043.3630262373755%5D%5D%5D%2C%20%22geodesic%22%3A%20false%2C%20%22type%22%3A%20%22Polygon%22%7D%2C%20%22properties%22%3A%20%7B%22highlight%22%3A%20%7B%7D%2C%20%22style%22%3A%20%7B%7D%7D%2C%20%22type%22%3A%20%22Feature%22%7D%5D%2C%20%22type%22%3A%20%22FeatureCollection%22%7D%2C%0A%20%20%20%20%20%20%20%20%20%20%20%20%7B%0A%20%20%20%20%20%20%20%20%20%20%20%20%7D%0A%20%20%20%20%20%20%20%20%29.addTo%28map_6471fce5b89e4d71890d43fbfcc3ecf1%20%29%3B%0A%20%20%20%20%20%20%20%20geo_json_21af999f8acc4b29946872ae07bbfec7.setStyle%28function%28feature%29%20%7Breturn%20feature.properties.style%3B%7D%29%3B%0A%20%20%20%20%20%20%20%20%0A%3C/script%3E onload=\"this.contentDocument.open();this.contentDocument.write(    decodeURIComponent(this.getAttribute('data-html')));this.contentDocument.close();\" allowfullscreen webkitallowfullscreen mozallowfullscreen></iframe></div></div>"
            ]
          },
          "metadata": {}
        }
      ],
      "source": [
        "#@markdown This code block reduces the bounding box defined above to the largest water body present, and then counts the 30m pixels within the water body.<p>\n",
        "#@markdown Landsat scenes included in analysis must have a minimum percentage of clear lake pixels available (these are discontinuous pixels). Default is 25%.\n",
        "pctLakeCoverage = 25 #@param {type: \"number\"}\n",
        "#@markdown __Run this block__ after inputting the above parameter\n",
        "\n",
        "if use_user_input_file==\"yes\":\n",
        "  try:\n",
        "    box = shp\n",
        "  except NameError:\n",
        "    raise NameError('''Cannot find user-input file. Are you using Option B or \n",
        "    Opt A bounding box? You may need to correct and rerun.''')\n",
        "\n",
        "wateroccurrence = sw.select(0)\n",
        "water = wateroccurrence.gte(pctTime)\n",
        "water = water.updateMask(water.neq(0))\n",
        " \n",
        "\n",
        "#########################\n",
        "# Find the biggest waterbody in the bounding box\n",
        "def addArea(feature):\n",
        "  # returns area +/- 1sqm\n",
        "  return feature.set({'area':feature.geometry().area(1)})  \n",
        "\n",
        "regions = water.addBands(wateroccurrence).reduceToVectors(\n",
        "    reducer=ee.Reducer.min(),\n",
        "    geometry=box,\n",
        "    scale=30,\n",
        "    maxPixels=5e9,\n",
        "    geometryInNativeProjection=False,\n",
        "    labelProperty='surfaceWater').map(addArea).sort('area',False);\n",
        "\n",
        "lake_outline = ee.Feature(regions.first())\n",
        "geo = lake_outline.geometry()\n",
        "\n",
        "try:\n",
        "  #########################\n",
        "  # Find the best utm zone over the lake to generate CRS\n",
        "\n",
        "  utm = utmbounds.filterBounds(box)\n",
        "  utmJoin = ee.Join.saveBest('matches','best');\n",
        "  utmCondition = ee.Filter.intersects(**{\n",
        "      \"rightField\": '.geo',\n",
        "      \"leftField\": '.geo'\n",
        "  })\n",
        "  utmJoined = utmJoin.apply(lake_outline, utm, utmCondition)\n",
        "  \n",
        "  try:\n",
        "    getZone = utmJoined.getInfo()[\"features\"][0][\"properties\"][\"matches\"][\"properties\"][\"ZONE\"]\n",
        "    getHemi = utmJoined.getInfo()[\"features\"][0][\"properties\"][\"matches\"][\"properties\"][\"HEMISPHERE\"]\n",
        "\n",
        "    #indicate hemisphere  \n",
        "    if getHemi == 'n':\n",
        "      crs_out = f\"EPSG:326{getZone}\"\n",
        "    else:\n",
        "      crs_out = f\"EPSG:327{getZone}\"\n",
        "    print(\"Data will be calculated with output CRS:\",crs_out)\n",
        "    #########################\n",
        "    # print the user some pixel count statistics\n",
        "\n",
        "    watercount = water.setDefaultProjection(crs_out).reduceRegion(reducer=ee.Reducer.count().unweighted(), \n",
        "                                    geometry=lake_outline.geometry(),\n",
        "                                    scale=30, bestEffort=True)\n",
        "    lakesurface = watercount.getInfo()[\"occurrence\"]  # total pixels over lake\n",
        "\n",
        "    pixel_min = round(lakesurface*(pctLakeCoverage/100.0))\n",
        "    print(\"\\nTotal # of lake pixels: \", lakesurface);\n",
        "    print(f\"{pctLakeCoverage}% of available lake pixels is\", pixel_min)\n",
        "\n",
        "    if lakesurface < 42:\n",
        "      print('''Because lakeCoSTR only supplies aggregated data, \n",
        "      the lake you have selected has too few pixels available for \n",
        "      meaningful data aggregation. \n",
        "      It is not recommended that you use lakeCoSTR for this lake.''')\n",
        "    else:\n",
        "      #########################\n",
        "      # Find the overlapping landsat path/rows\n",
        "\n",
        "      pathrow = wrs2.filterBounds(geo)\n",
        "        \n",
        "      num_of_pr = len(pathrow.getInfo()[\"features\"])\n",
        "      path_west = 1\n",
        "      path_east = 233\n",
        "      row_north = 122\n",
        "      row_south = 1\n",
        "\n",
        "      for i in range(0,num_of_pr):\n",
        "        pr = pathrow.getInfo()[\"features\"][i][\"properties\"][\"PR\"]\n",
        "        p = pr[:3]\n",
        "        r = pr[3:]\n",
        "        if int(p) > path_west:\n",
        "          path_west = int(p)\n",
        "        if int(p) < path_east:\n",
        "          path_east = int(p)\n",
        "        if int(r) < row_north:\n",
        "          row_north = int(r)\n",
        "        if int(r) > row_south:\n",
        "          row_south = int(r)\n",
        "\n",
        "      p1 = path_west\n",
        "      p2 =  path_east\n",
        "      r1 =  row_north\n",
        "      r2 =  row_south\n",
        "      print(f\"\\nYour lake overlaps {num_of_pr} landsat footprint(s)\")\n",
        "      print(f'bounding path(s): {path_west} (west) to {path_east} (east)')\n",
        "      print(f'bounding row(s): {row_north} (north) to {row_south} (south)\\n')\n",
        "\n",
        "\n",
        "      ##### Attempt to find the \"best\" path/row by comparing footprints that completely\n",
        "      ## contain the lake, or if none completely contain, find the footprint that has\n",
        "      ## the most overlap\n",
        "\n",
        "      footprintJoinAll = ee.Join.saveAll('matches')\n",
        "      footprintJoinBest = ee.Join.saveBest(**{'matchKey':'matches','measureKey':'best'})\n",
        "\n",
        "      footprintContains = ee.Filter.isContained(**{'rightField':'.geo','leftField':'.geo'})\n",
        "      footprintIntersects = ee.Filter.intersects(**{'rightField':'.geo','leftField':'.geo'})\n",
        "\n",
        "      allContained = footprintJoinAll.apply(lake_outline,pathrow,footprintContains)\n",
        "      anyIntersects = footprintJoinBest.apply(lake_outline,pathrow,footprintIntersects)\n",
        "\n",
        "      try:\n",
        "        containedMatches = allContained.getInfo()[\"features\"][0][\"properties\"][\"matches\"]\n",
        "      except IndexError:\n",
        "        containedMatches = []\n",
        "\n",
        "      intersectedMatches = anyIntersects.getInfo()[\"features\"][0][\"properties\"][\"matches\"]\n",
        "\n",
        "      #########################\n",
        "      # Display a map\n",
        "\n",
        "      pixel_fig = folium.Figure(width=\"50%\")\n",
        "      pixel_map = folium.Map(location=[center_lat,center_lon],zoom_start=6).add_to(pixel_fig)\n",
        "      basemaps['Google Maps'].add_to(pixel_map)\n",
        "      pixel_map.add_ee_layer(pathrow,{},'path row')\n",
        "\n",
        "      def addFPtoMap(list_of_fps):\n",
        "        for fp in list_of_fps:\n",
        "          makeGeojson = folium.GeoJson(fp[\"geometry\"])\n",
        "          fpPath = str(fp[\"properties\"][\"PATH\"])\n",
        "          fpRow = str(fp[\"properties\"][\"ROW\"])\n",
        "          popup = folium.Popup(\"P\"+fpPath+\" R\"+fpRow)\n",
        "          popup.add_to(makeGeojson)\n",
        "          makeGeojson.add_to(pixel_map)\n",
        "\n",
        "      if len(containedMatches)>0: #lake is fully contained by at least 1 path-row\n",
        "        if num_of_pr == 1: \n",
        "          addFPtoMap(containedMatches)\n",
        "          print('''Great news! Your lake is completely contained by a single path-row footprint.\n",
        "          Because your lake does not cross multiple WRS2 rows, there's nothing more you need to do.\n",
        "          You can skip the next codeblock and move to the 'Get Skin Surface Temperatures' section.\n",
        "          ''')\n",
        "        elif len(intersectedMatches) == 0: #and the lake doesn't have any partial matches\n",
        "          addFPtoMap(containedMatches)\n",
        "          if(row_north-row_south) == 0: #if it is contained by only one row\n",
        "            print('''Great news! Your lake is completely contained by at least one path-row footprint.\n",
        "            Because your lake does not cross multiple WRS2 rows, there's nothing more you need to do.\n",
        "            You can skip the next codeblock and move to the 'Get Skin Surface Temperatures' section.\n",
        "            ''')\n",
        "          else: #if it is contained by multiple rows\n",
        "            print('''Great news! Your lake is completely contained by multiple WRS2 path-row footprints, \n",
        "            HOWEVER, those footprints include multiple WRS2 rows in the same WRS2 path. In order to not retreive near-duplicate \n",
        "            temperature estimates from neghboring WRS2 rows, please *manually input* a single ROW value for `new_row_north` and \n",
        "            `new_row_south` in the codeblock below. We reccommend you choose the row that is closest to the equator (a lower row number in the Northern \n",
        "            Hemisphere, or a higher row number in the Southern Hemisphere).\n",
        "            ''')\n",
        "            print(\"Click the blue highlighted footprint to see the path and row\")\n",
        "        elif len(intersectedMatches)>0: #if it has partial matches\n",
        "          if len(containedMatches) >0: #and it has fully contained matches\n",
        "            addFPtoMap(containedMatches)\n",
        "            print('''Great news! Your lake is completely contained by at least one path-row footprint, \n",
        "            HOWEVER, you need to *manually input* the path and row values for the blue box(es) displayed \n",
        "            in the map below into the next code block because the overlapping path-row combinations \n",
        "            outlined in black do/does not completely contain your lake.\n",
        "            ''')\n",
        "            print(\"Click the blue highlighted footprint to see the path and row\")\n",
        "      else: #otherwise, you're outta luck\n",
        "        print('''\n",
        "        CAUTION: Your lake is not completely contained by a single WRS2 path-row footprint. lakeCoSTR functions best\n",
        "        when your lake is completely contained by at least one WRS2 path-row footprint. Because of this, we do not \n",
        "        recommend the use of lakeCoSTR to acquire surface temperature estimates for your lake. \n",
        "        ''')\n",
        "\n",
        "      pixel_map.add_ee_layer(lake_outline.geometry(), {}, 'lake area')\n",
        "      display(pixel_map)\n",
        "  except:\n",
        "    print('''An error occurred - either you have different selections of lake area and \n",
        "    water occurrance area (double check sections 1.3 and 1.4) or the lake you selected is \n",
        "    too large to process in lakeCoSTR.''')\n",
        "except IndexError:\n",
        "  print('''An error occurred - this could be because there are no water pixels available for analysis.\n",
        "  Check the map in above step to see if there are water pixels available for analysis.''')"
      ]
    },
    {
      "cell_type": "code",
      "execution_count": null,
      "metadata": {
        "cellView": "form",
        "id": "uefURvxRYjlS"
      },
      "outputs": [],
      "source": [
        "#@markdown If ther previous code block directed you to `*manually input*` WRS2 path-row values, \n",
        "#@markdown please enter the values for path ('P') and row ('R') as indicated by clicking on the\n",
        "#@markdown blue box in the map above. \n",
        "\n",
        "#@markdown <br>If you weren't directed to change your the WRS2 path-row parameters, leave these blank.\n",
        "\n",
        "new_path_west = \"\" #@param {type:'string'}\n",
        "new_path_east = \"\" #@param {type: 'string'}\n",
        "new_row_north = \"\" #@param {type: 'string'}\n",
        "new_row_south = \"\" #@param {type: 'string'}\n",
        "\n",
        "if new_path_west:\n",
        "  p1 = int(new_path_west)\n",
        "else: \n",
        "  p1 =  path_west\n",
        "if new_path_east:\n",
        "  p2 =  int(new_path_east)\n",
        "else:\n",
        "  p2 = path_east\n",
        "if new_row_north:\n",
        "  r1 =  int(new_row_north)\n",
        "else:\n",
        "  r1 = row_north\n",
        "if new_row_south:\n",
        "  r2 =  int(new_row_south)\n",
        "else:\n",
        "  r2 = row_south\n",
        "\n",
        "print(f'new bounding path(s): {p1} (west) to {p2} (east)')\n",
        "print(f'new bounding row(s): {r1} (north) to {r2} (south)\\n')\n",
        "\n",
        "\n"
      ]
    },
    {
      "cell_type": "markdown",
      "metadata": {
        "id": "45tElCUuotvD"
      },
      "source": [
        "# **3. Get Skin Surface Temperatures**"
      ]
    },
    {
      "cell_type": "code",
      "execution_count": 13,
      "metadata": {
        "cellView": "form",
        "id": "1TjyRw18ttpV",
        "outputId": "b221ffe1-0060-409d-de62-77d14c6b2d90",
        "colab": {
          "base_uri": "https://localhost:8080/"
        }
      },
      "outputs": [
        {
          "output_type": "stream",
          "name": "stdout",
          "text": [
            "Landsat compiled at 04/07/22 22:09:04\n",
            "Total number of LS scenes: 136 \n",
            "Number of LS scenes after filter: 78\n",
            "Landsat filtered: 04/07/22 22:09:12\n"
          ]
        }
      ],
      "source": [
        "\n",
        "#@markdown **Run this block** to filter by date and site location, convert \n",
        "#@markdown temperature from K --> C, compile and stack images, and carry over the metadata. \n",
        "\n",
        "#For landsat 8, any scenes with possible image quality \n",
        "#issues due to Scene Select Mirror (SSM) position are removed.\n",
        "\n",
        "l4 = (l4t1.merge(l4t2).filterMetadata('L1_PROCESSING_LEVEL','equals','L1TP') \\\n",
        "      .filterMetadata('GEOMETRIC_RMSE_MODEL','not_greater_than',rmse) \\\n",
        "      .filterBounds(geo) \\\n",
        "      .filter(ee.Filter.calendarRange(y1,y2,'year')) \\\n",
        "      .filter(ee.Filter.calendarRange(m1,m2,'month')) \\\n",
        "      .filterMetadata('WRS_ROW','not_less_than',r1).filterMetadata('WRS_ROW','not_greater_than',r2) \\\n",
        "      .filterMetadata('WRS_PATH','not_greater_than',p1).filterMetadata('WRS_PATH','not_less_than',p2) \\\n",
        "      .map(prep457bands, True))\n",
        "\n",
        "l5 = (l5t1.merge(l5t2).filterMetadata('L1_PROCESSING_LEVEL','equals','L1TP') \\\n",
        "      .filterMetadata('GEOMETRIC_RMSE_MODEL','not_greater_than',rmse) \\\n",
        "      .filterBounds(geo) \\\n",
        "      .filter(ee.Filter.calendarRange(y1,y2,'year')) \\\n",
        "      .filter(ee.Filter.calendarRange(m1,m2,'month')) \\\n",
        "      .filterMetadata('WRS_ROW','not_less_than',r1).filterMetadata('WRS_ROW','not_greater_than',r2) \\\n",
        "      .filterMetadata('WRS_PATH','not_greater_than',p1).filterMetadata('WRS_PATH','not_less_than',p2) \\\n",
        "      .map(prep457bands, True))\n",
        "\n",
        "l7 = (l7t1.merge(l7t2).filterMetadata('L1_PROCESSING_LEVEL','equals','L1TP') \\\n",
        "      .filterMetadata('GEOMETRIC_RMSE_MODEL','not_greater_than',rmse) \\\n",
        "      .filterBounds(geo) \\\n",
        "      .filter(ee.Filter.calendarRange(y1,y2,'year')) \\\n",
        "      .filter(ee.Filter.calendarRange(m1,m2,'month')) \\\n",
        "      .filterMetadata('WRS_ROW','not_less_than',r1).filterMetadata('WRS_ROW','not_greater_than',r2) \\\n",
        "      .filterMetadata('WRS_PATH','not_greater_than',p1).filterMetadata('WRS_PATH','not_less_than',p2) \\\n",
        "      .map(prep457bands, True))\n",
        "\n",
        "l8 = (l8t1.merge(l8t2).filterMetadata('L1_PROCESSING_LEVEL','equals','L1TP') \\\n",
        "      .filterMetadata('GEOMETRIC_RMSE_MODEL','not_greater_than',rmse) \\\n",
        "      .filterBounds(geo) \\\n",
        "      .filter(ee.Filter.calendarRange(y1,y2,'year')) \\\n",
        "      .filter(ee.Filter.calendarRange(m1,m2,'month')) \\\n",
        "      .filterMetadata('WRS_ROW','not_less_than',r1).filterMetadata('WRS_ROW','not_greater_than',r2) \\\n",
        "      .filterMetadata('WRS_PATH','not_greater_than',p1).filterMetadata('WRS_PATH','not_less_than',p2) \\\n",
        "      .filterMetadata('TIRS_SSM_POSITION_STATUS','not_equals','SWITCHED') \\\n",
        "      .map(prep8bands, True))\n",
        "\n",
        "landsat = ee.ImageCollection(l4).merge(l5).merge(l7).merge(l8)\n",
        "\n",
        "print(\"Landsat compiled at\", strftime(\"%x %X\"))\n",
        "\n",
        "'''\n",
        "Add metadata to each scene that indicates how many visible pixels were included \n",
        "in analysis, and filter images so that only scenes with the minimum number of \n",
        "pixels remain.\n",
        "'''\n",
        "def countPixels(img):\n",
        "  img = ee.Image(img)\n",
        "  getCount = img.reduceRegion(**{\n",
        "      \"reducer\": ee.Reducer.count(),\n",
        "      \"geometry\": geo, \n",
        "      \"scale\": 30})\n",
        "  count = ee.Dictionary(getCount).get('surface_temp')\n",
        "  return img.set('pixel_count',count)\n",
        "before = landsat.map(countPixels)\n",
        "countedPixels = before.filterMetadata('pixel_count','not_less_than', pixel_min)\n",
        "print('Total number of LS scenes:',len(before.getInfo()['features']),'\\nNumber of LS scenes after filter:', len(countedPixels.getInfo()['features']))\n",
        "print(\"Landsat filtered:\", strftime(\"%x %X\"))"
      ]
    },
    {
      "cell_type": "markdown",
      "metadata": {
        "id": "4FleAQ6cyfch"
      },
      "source": [
        "# **4. Data Visualization**\n",
        "The code blocks in the following section allow you to explore your results using dataframes and pixel-value distributions. You can visually inspect each scene for errant data or export the data to explore further."
      ]
    },
    {
      "cell_type": "code",
      "execution_count": 14,
      "metadata": {
        "cellView": "form",
        "id": "i8K6XN2xZMjP",
        "outputId": "2f71d0e2-0add-4e58-bbad-0600833be3db",
        "colab": {
          "base_uri": "https://localhost:8080/"
        }
      },
      "outputs": [
        {
          "output_type": "stream",
          "name": "stdout",
          "text": [
            "Conversion function imported.\n",
            "Will generate histograms with a fixed x-axis between -5 - 30 deg C in 0.5 degree bins\n"
          ]
        }
      ],
      "source": [
        "#@title 4.1 Convert data from server-side EE objects to client-side Python objects\n",
        "#@markdown __Run this block__ to define functions for data exploration\n",
        "\n",
        "\n",
        "# These functions convert image pixels to numpy arrays\n",
        "def createArrays(img):\n",
        "  psi_prop = ee.Image(img).sampleRectangle(region=geo, defaultValue=-1)\n",
        "  getProp = psi_prop.get(\"surface_temp\")\n",
        "  return img.set(\"img_array\", getProp)\n",
        "\n",
        "def getArrays(client_img_col):\n",
        "  list_of_arrays = []\n",
        "  for img in client_img_col:\n",
        "    prop = img[\"properties\"][\"img_array\"]\n",
        "    a = np.array(prop)\n",
        "    list_of_arrays.append(a)\n",
        "  return list_of_arrays\n",
        "print('Conversion function imported.')\n",
        "\n",
        "def generate_histogram(img):\n",
        "  img = ee.Image(img)\n",
        "  fhisto = img.reduceRegion(**{\n",
        "      \"reducer\": ee.Reducer.fixedHistogram(-5,30,70).unweighted(),\n",
        "      \"geometry\": geo,\n",
        "      \"scale\": 30,\n",
        "      \"maxPixels\": 5e9\n",
        "  })\n",
        "  return img.set('histogram',fhisto.get('surface_temp'))\n",
        "print(\"Will generate histograms with a fixed x-axis between -5 - 30 deg C in 0.5 degree bins\")\n"
      ]
    },
    {
      "cell_type": "code",
      "execution_count": 15,
      "metadata": {
        "cellView": "form",
        "id": "InafBTf5ZvAS",
        "outputId": "3172267f-f556-40fa-e6c0-12c5dbacfc15",
        "colab": {
          "base_uri": "https://localhost:8080/"
        }
      },
      "outputs": [
        {
          "output_type": "stream",
          "name": "stdout",
          "text": [
            "Start: 04/07/22 22:09:28\n",
            "Finish: 04/07/22 22:09:52\n",
            "Number of Landsat scenes:  78\n"
          ]
        }
      ],
      "source": [
        "# @markdown This code block executes the functions from the previous block and \n",
        "# @markdown converts the image collection from a server-side EE object to a client-side \n",
        "# @markdown Python object. This allows iteration over the image collection with a `for` \n",
        "# @markdown loop, which provides much more Python functionality.<p><mark>__This step \n",
        "# @markdown could take some time to run</mark> depending on the length of the \n",
        "# @markdown ImageCollection.__\n",
        "\n",
        "# @markdown If you recieve an error at this step that `your response size exceeds limit`, \n",
        "# @markdown you will need to go back and reduce the number of years of data you are requesting. \n",
        "\n",
        "print(\"Start:\", strftime(\"%x %X\"))\n",
        "imgs_histo = countedPixels.map(generate_histogram)\n",
        "generate_arrays = imgs_histo.map(createArrays)\n",
        "\n",
        "imgCol = generate_arrays.getInfo()[\"features\"]\n",
        "print(\"Finish:\", strftime(\"%x %X\"))\n",
        "print(\"Number of Landsat scenes: \", len(imgCol))"
      ]
    },
    {
      "cell_type": "code",
      "execution_count": 16,
      "metadata": {
        "cellView": "form",
        "id": "H-cobA_BbwRK",
        "outputId": "d07fdb5b-a1ab-47ae-c66e-60321d4043dd",
        "colab": {
          "base_uri": "https://localhost:8080/"
        }
      },
      "outputs": [
        {
          "output_type": "stream",
          "name": "stdout",
          "text": [
            "Converted images to arrays\n"
          ]
        }
      ],
      "source": [
        "#@markdown Now that the image collection is client-side, __run this block__ to \n",
        "#@markdown get arrays of each image.\n",
        "# returns a list of arrays\n",
        "imgs_to_arrays = getArrays(imgCol)\n",
        "print(\"Converted images to arrays\")"
      ]
    },
    {
      "cell_type": "code",
      "execution_count": 18,
      "metadata": {
        "cellView": "form",
        "id": "D9sJyjsi9eCF"
      },
      "outputs": [],
      "source": [
        "#@title 4.2 Collated pixel distributions\n",
        "#@markdown __Run this block__ to iterate through the image collection and convert \n",
        "#@markdown all bins and frequencies to a single Pandas `DataFrame`. \n",
        "\n",
        "length_plots = len(imgCol)\n",
        "list_of_dfs = []\n",
        "list_of_uids = []\n",
        "\n",
        "# fig = make_subplots(rows=length_plots, cols=1)\n",
        "for i in imgCol:\n",
        "  uid = (i['properties']['L1_LANDSAT_PRODUCT_ID'])\n",
        "  list_of_uids.append(uid)\n",
        "  histogram = i[\"properties\"].get(\"histogram\")\n",
        "\n",
        "  a = pd.DataFrame(histogram, columns=[\"bin\",uid]).set_index(\"bin\")\n",
        "  # fig.add_histogram()\n",
        "  list_of_dfs.append(a)\n",
        "\n",
        "appended_dfs = pd.concat(list_of_dfs,ignore_index=False, axis=1)\n",
        "transposed_dfs = appended_dfs.T\n"
      ]
    },
    {
      "cell_type": "code",
      "execution_count": 19,
      "metadata": {
        "cellView": "form",
        "id": "2_AbqwwDcT9j",
        "outputId": "63c2847c-eafb-4f5a-b4f7-c8012b1f05a8",
        "colab": {
          "base_uri": "https://localhost:8080/"
        }
      },
      "outputs": [
        {
          "output_type": "stream",
          "name": "stdout",
          "text": [
            "Start: 04/07/22 22:10:34\n",
            "Histograms will be saved at  /content/drive/MyDrive/lakeCoSTR_output/sunapee_example/histograms\n",
            "Saving histogram for Landsat scene  LE07_L1TP_013030_20150507_20200904_02_T1  at  /content/drive/MyDrive/lakeCoSTR_output/sunapee_example/histograms/LE07_L1TP_013030_20150507_20200904_02_T1_histo.png\n",
            "Saving histogram for Landsat scene  LE07_L1TP_013030_20150523_20200904_02_T1  at  /content/drive/MyDrive/lakeCoSTR_output/sunapee_example/histograms/LE07_L1TP_013030_20150523_20200904_02_T1_histo.png\n",
            "Saving histogram for Landsat scene  LE07_L1TP_013030_20150624_20200904_02_T1  at  /content/drive/MyDrive/lakeCoSTR_output/sunapee_example/histograms/LE07_L1TP_013030_20150624_20200904_02_T1_histo.png\n",
            "Saving histogram for Landsat scene  LE07_L1TP_013030_20150710_20200904_02_T1  at  /content/drive/MyDrive/lakeCoSTR_output/sunapee_example/histograms/LE07_L1TP_013030_20150710_20200904_02_T1_histo.png\n",
            "Saving histogram for Landsat scene  LE07_L1TP_013030_20150912_20200903_02_T1  at  /content/drive/MyDrive/lakeCoSTR_output/sunapee_example/histograms/LE07_L1TP_013030_20150912_20200903_02_T1_histo.png\n",
            "Saving histogram for Landsat scene  LE07_L1TP_013030_20150928_20200903_02_T1  at  /content/drive/MyDrive/lakeCoSTR_output/sunapee_example/histograms/LE07_L1TP_013030_20150928_20200903_02_T1_histo.png\n",
            "Saving histogram for Landsat scene  LE07_L1TP_013030_20151030_20200903_02_T1  at  /content/drive/MyDrive/lakeCoSTR_output/sunapee_example/histograms/LE07_L1TP_013030_20151030_20200903_02_T1_histo.png\n",
            "Saving histogram for Landsat scene  LE07_L1TP_013030_20160525_20200902_02_T1  at  /content/drive/MyDrive/lakeCoSTR_output/sunapee_example/histograms/LE07_L1TP_013030_20160525_20200902_02_T1_histo.png\n",
            "Saving histogram for Landsat scene  LE07_L1TP_013030_20160626_20200902_02_T1  at  /content/drive/MyDrive/lakeCoSTR_output/sunapee_example/histograms/LE07_L1TP_013030_20160626_20200902_02_T1_histo.png\n",
            "Saving histogram for Landsat scene  LE07_L1TP_013030_20160712_20200902_02_T1  at  /content/drive/MyDrive/lakeCoSTR_output/sunapee_example/histograms/LE07_L1TP_013030_20160712_20200902_02_T1_histo.png\n",
            "Saving histogram for Landsat scene  LE07_L1TP_013030_20160829_20200902_02_T1  at  /content/drive/MyDrive/lakeCoSTR_output/sunapee_example/histograms/LE07_L1TP_013030_20160829_20200902_02_T1_histo.png\n",
            "Saving histogram for Landsat scene  LE07_L1TP_013030_20160914_20200902_02_T1  at  /content/drive/MyDrive/lakeCoSTR_output/sunapee_example/histograms/LE07_L1TP_013030_20160914_20200902_02_T1_histo.png\n",
            "Saving histogram for Landsat scene  LE07_L1TP_013030_20170715_20200831_02_T1  at  /content/drive/MyDrive/lakeCoSTR_output/sunapee_example/histograms/LE07_L1TP_013030_20170715_20200831_02_T1_histo.png\n",
            "Saving histogram for Landsat scene  LE07_L1TP_013030_20170731_20200831_02_T1  at  /content/drive/MyDrive/lakeCoSTR_output/sunapee_example/histograms/LE07_L1TP_013030_20170731_20200831_02_T1_histo.png\n",
            "Saving histogram for Landsat scene  LE07_L1TP_013030_20170901_20200830_02_T1  at  /content/drive/MyDrive/lakeCoSTR_output/sunapee_example/histograms/LE07_L1TP_013030_20170901_20200830_02_T1_histo.png\n",
            "Saving histogram for Landsat scene  LE07_L1TP_013030_20170917_20200830_02_T1  at  /content/drive/MyDrive/lakeCoSTR_output/sunapee_example/histograms/LE07_L1TP_013030_20170917_20200830_02_T1_histo.png\n",
            "Saving histogram for Landsat scene  LE07_L1TP_013030_20171003_20200830_02_T1  at  /content/drive/MyDrive/lakeCoSTR_output/sunapee_example/histograms/LE07_L1TP_013030_20171003_20200830_02_T1_histo.png\n",
            "Saving histogram for Landsat scene  LE07_L1TP_013030_20171019_20200830_02_T1  at  /content/drive/MyDrive/lakeCoSTR_output/sunapee_example/histograms/LE07_L1TP_013030_20171019_20200830_02_T1_histo.png\n",
            "Saving histogram for Landsat scene  LE07_L1TP_013030_20171104_20200830_02_T1  at  /content/drive/MyDrive/lakeCoSTR_output/sunapee_example/histograms/LE07_L1TP_013030_20171104_20200830_02_T1_histo.png\n",
            "Saving histogram for Landsat scene  LE07_L1TP_013030_20180531_20200829_02_T1  at  /content/drive/MyDrive/lakeCoSTR_output/sunapee_example/histograms/LE07_L1TP_013030_20180531_20200829_02_T1_histo.png\n",
            "Saving histogram for Landsat scene  LE07_L1TP_013030_20180702_20200829_02_T1  at  /content/drive/MyDrive/lakeCoSTR_output/sunapee_example/histograms/LE07_L1TP_013030_20180702_20200829_02_T1_histo.png\n",
            "Saving histogram for Landsat scene  LE07_L1TP_013030_20180718_20200829_02_T1  at  /content/drive/MyDrive/lakeCoSTR_output/sunapee_example/histograms/LE07_L1TP_013030_20180718_20200829_02_T1_histo.png\n",
            "Saving histogram for Landsat scene  LE07_L1TP_013030_20180819_20200829_02_T1  at  /content/drive/MyDrive/lakeCoSTR_output/sunapee_example/histograms/LE07_L1TP_013030_20180819_20200829_02_T1_histo.png\n",
            "Saving histogram for Landsat scene  LE07_L1TP_013030_20180904_20200828_02_T1  at  /content/drive/MyDrive/lakeCoSTR_output/sunapee_example/histograms/LE07_L1TP_013030_20180904_20200828_02_T1_histo.png\n",
            "Saving histogram for Landsat scene  LE07_L1TP_013030_20181022_20200827_02_T1  at  /content/drive/MyDrive/lakeCoSTR_output/sunapee_example/histograms/LE07_L1TP_013030_20181022_20200827_02_T1_histo.png\n",
            "Saving histogram for Landsat scene  LE07_L1TP_013030_20181107_20200827_02_T1  at  /content/drive/MyDrive/lakeCoSTR_output/sunapee_example/histograms/LE07_L1TP_013030_20181107_20200827_02_T1_histo.png\n",
            "Saving histogram for Landsat scene  LE07_L1TP_013030_20190518_20200825_02_T1  at  /content/drive/MyDrive/lakeCoSTR_output/sunapee_example/histograms/LE07_L1TP_013030_20190518_20200825_02_T1_histo.png\n",
            "Saving histogram for Landsat scene  LE07_L1TP_013030_20190603_20200825_02_T1  at  /content/drive/MyDrive/lakeCoSTR_output/sunapee_example/histograms/LE07_L1TP_013030_20190603_20200825_02_T1_histo.png\n",
            "Saving histogram for Landsat scene  LE07_L1TP_013030_20190705_20200825_02_T1  at  /content/drive/MyDrive/lakeCoSTR_output/sunapee_example/histograms/LE07_L1TP_013030_20190705_20200825_02_T1_histo.png\n",
            "Saving histogram for Landsat scene  LE07_L1TP_013030_20190806_20200824_02_T1  at  /content/drive/MyDrive/lakeCoSTR_output/sunapee_example/histograms/LE07_L1TP_013030_20190806_20200824_02_T1_histo.png\n",
            "Saving histogram for Landsat scene  LE07_L1TP_013030_20190822_20200824_02_T1  at  /content/drive/MyDrive/lakeCoSTR_output/sunapee_example/histograms/LE07_L1TP_013030_20190822_20200824_02_T1_histo.png\n",
            "Saving histogram for Landsat scene  LE07_L1TP_013030_20190907_20200824_02_T1  at  /content/drive/MyDrive/lakeCoSTR_output/sunapee_example/histograms/LE07_L1TP_013030_20190907_20200824_02_T1_histo.png\n",
            "Saving histogram for Landsat scene  LE07_L1TP_013030_20191009_20200823_02_T1  at  /content/drive/MyDrive/lakeCoSTR_output/sunapee_example/histograms/LE07_L1TP_013030_20191009_20200823_02_T1_histo.png\n",
            "Saving histogram for Landsat scene  LE07_L1TP_013030_20191126_20200823_02_T1  at  /content/drive/MyDrive/lakeCoSTR_output/sunapee_example/histograms/LE07_L1TP_013030_20191126_20200823_02_T1_histo.png\n",
            "Saving histogram for Landsat scene  LE07_L1TP_013030_20200520_20200820_02_T1  at  /content/drive/MyDrive/lakeCoSTR_output/sunapee_example/histograms/LE07_L1TP_013030_20200520_20200820_02_T1_histo.png\n",
            "Saving histogram for Landsat scene  LE07_L1TP_013030_20200621_20200822_02_T1  at  /content/drive/MyDrive/lakeCoSTR_output/sunapee_example/histograms/LE07_L1TP_013030_20200621_20200822_02_T1_histo.png\n",
            "Saving histogram for Landsat scene  LE07_L1TP_013030_20200824_20200920_02_T1  at  /content/drive/MyDrive/lakeCoSTR_output/sunapee_example/histograms/LE07_L1TP_013030_20200824_20200920_02_T1_histo.png\n",
            "Saving histogram for Landsat scene  LE07_L1TP_013030_20200909_20201005_02_T1  at  /content/drive/MyDrive/lakeCoSTR_output/sunapee_example/histograms/LE07_L1TP_013030_20200909_20201005_02_T1_histo.png\n",
            "Saving histogram for Landsat scene  LE07_L1TP_013030_20200925_20201021_02_T1  at  /content/drive/MyDrive/lakeCoSTR_output/sunapee_example/histograms/LE07_L1TP_013030_20200925_20201021_02_T1_histo.png\n",
            "Saving histogram for Landsat scene  LE07_L1TP_013030_20201011_20201107_02_T1  at  /content/drive/MyDrive/lakeCoSTR_output/sunapee_example/histograms/LE07_L1TP_013030_20201011_20201107_02_T1_histo.png\n",
            "Saving histogram for Landsat scene  LC08_L1TP_013030_20150702_20200909_02_T1  at  /content/drive/MyDrive/lakeCoSTR_output/sunapee_example/histograms/LC08_L1TP_013030_20150702_20200909_02_T1_histo.png\n",
            "Saving histogram for Landsat scene  LC08_L1TP_013030_20150803_20200908_02_T1  at  /content/drive/MyDrive/lakeCoSTR_output/sunapee_example/histograms/LC08_L1TP_013030_20150803_20200908_02_T1_histo.png\n",
            "Saving histogram for Landsat scene  LC08_L1TP_013030_20150819_20200908_02_T1  at  /content/drive/MyDrive/lakeCoSTR_output/sunapee_example/histograms/LC08_L1TP_013030_20150819_20200908_02_T1_histo.png\n",
            "Saving histogram for Landsat scene  LC08_L1TP_013030_20151022_20200908_02_T1  at  /content/drive/MyDrive/lakeCoSTR_output/sunapee_example/histograms/LC08_L1TP_013030_20151022_20200908_02_T1_histo.png\n",
            "Saving histogram for Landsat scene  LC08_L1TP_013030_20151123_20200908_02_T1  at  /content/drive/MyDrive/lakeCoSTR_output/sunapee_example/histograms/LC08_L1TP_013030_20151123_20200908_02_T1_histo.png\n",
            "Saving histogram for Landsat scene  LC08_L1TP_013030_20160618_20200906_02_T1  at  /content/drive/MyDrive/lakeCoSTR_output/sunapee_example/histograms/LC08_L1TP_013030_20160618_20200906_02_T1_histo.png\n",
            "Saving histogram for Landsat scene  LC08_L1TP_013030_20160704_20200906_02_T1  at  /content/drive/MyDrive/lakeCoSTR_output/sunapee_example/histograms/LC08_L1TP_013030_20160704_20200906_02_T1_histo.png\n",
            "Saving histogram for Landsat scene  LC08_L1TP_013030_20160720_20200906_02_T1  at  /content/drive/MyDrive/lakeCoSTR_output/sunapee_example/histograms/LC08_L1TP_013030_20160720_20200906_02_T1_histo.png\n",
            "Saving histogram for Landsat scene  LC08_L1TP_013030_20160805_20200906_02_T1  at  /content/drive/MyDrive/lakeCoSTR_output/sunapee_example/histograms/LC08_L1TP_013030_20160805_20200906_02_T1_histo.png\n",
            "Saving histogram for Landsat scene  LC08_L1TP_013030_20160922_20200906_02_T1  at  /content/drive/MyDrive/lakeCoSTR_output/sunapee_example/histograms/LC08_L1TP_013030_20160922_20200906_02_T1_histo.png\n",
            "Saving histogram for Landsat scene  LC08_L1TP_013030_20161024_20200905_02_T1  at  /content/drive/MyDrive/lakeCoSTR_output/sunapee_example/histograms/LC08_L1TP_013030_20161024_20200905_02_T1_histo.png\n",
            "Saving histogram for Landsat scene  LC08_L1TP_013030_20170504_20200904_02_T1  at  /content/drive/MyDrive/lakeCoSTR_output/sunapee_example/histograms/LC08_L1TP_013030_20170504_20200904_02_T1_histo.png\n",
            "Saving histogram for Landsat scene  LC08_L1TP_013030_20170520_20201015_02_T1  at  /content/drive/MyDrive/lakeCoSTR_output/sunapee_example/histograms/LC08_L1TP_013030_20170520_20201015_02_T1_histo.png\n",
            "Saving histogram for Landsat scene  LC08_L1TP_013030_20170621_20200903_02_T1  at  /content/drive/MyDrive/lakeCoSTR_output/sunapee_example/histograms/LC08_L1TP_013030_20170621_20200903_02_T1_histo.png\n",
            "Saving histogram for Landsat scene  LC08_L1TP_013030_20170723_20200903_02_T1  at  /content/drive/MyDrive/lakeCoSTR_output/sunapee_example/histograms/LC08_L1TP_013030_20170723_20200903_02_T1_histo.png\n",
            "Saving histogram for Landsat scene  LC08_L1TP_013030_20170824_20200903_02_T1  at  /content/drive/MyDrive/lakeCoSTR_output/sunapee_example/histograms/LC08_L1TP_013030_20170824_20200903_02_T1_histo.png\n",
            "Saving histogram for Landsat scene  LC08_L1TP_013030_20170909_20200903_02_T1  at  /content/drive/MyDrive/lakeCoSTR_output/sunapee_example/histograms/LC08_L1TP_013030_20170909_20200903_02_T1_histo.png\n",
            "Saving histogram for Landsat scene  LC08_L1TP_013030_20170925_20200903_02_T1  at  /content/drive/MyDrive/lakeCoSTR_output/sunapee_example/histograms/LC08_L1TP_013030_20170925_20200903_02_T1_histo.png\n",
            "Saving histogram for Landsat scene  LC08_L1TP_013030_20171011_20200903_02_T1  at  /content/drive/MyDrive/lakeCoSTR_output/sunapee_example/histograms/LC08_L1TP_013030_20171011_20200903_02_T1_histo.png\n",
            "Saving histogram for Landsat scene  LC08_L1TP_013030_20171027_20200902_02_T1  at  /content/drive/MyDrive/lakeCoSTR_output/sunapee_example/histograms/LC08_L1TP_013030_20171027_20200902_02_T1_histo.png\n",
            "Saving histogram for Landsat scene  LC08_L1TP_013030_20171112_20200902_02_T1  at  /content/drive/MyDrive/lakeCoSTR_output/sunapee_example/histograms/LC08_L1TP_013030_20171112_20200902_02_T1_histo.png\n",
            "Saving histogram for Landsat scene  LC08_L1TP_013030_20171128_20200902_02_T1  at  /content/drive/MyDrive/lakeCoSTR_output/sunapee_example/histograms/LC08_L1TP_013030_20171128_20200902_02_T1_histo.png\n",
            "Saving histogram for Landsat scene  LC08_L1TP_013030_20180523_20200901_02_T1  at  /content/drive/MyDrive/lakeCoSTR_output/sunapee_example/histograms/LC08_L1TP_013030_20180523_20200901_02_T1_histo.png\n",
            "Saving histogram for Landsat scene  LC08_L1TP_013030_20180710_20200831_02_T1  at  /content/drive/MyDrive/lakeCoSTR_output/sunapee_example/histograms/LC08_L1TP_013030_20180710_20200831_02_T1_histo.png\n",
            "Saving histogram for Landsat scene  LC08_L1TP_013030_20180827_20200831_02_T1  at  /content/drive/MyDrive/lakeCoSTR_output/sunapee_example/histograms/LC08_L1TP_013030_20180827_20200831_02_T1_histo.png\n",
            "Saving histogram for Landsat scene  LC08_L1TP_013030_20181014_20200830_02_T1  at  /content/drive/MyDrive/lakeCoSTR_output/sunapee_example/histograms/LC08_L1TP_013030_20181014_20200830_02_T1_histo.png\n",
            "Saving histogram for Landsat scene  LC08_L1TP_013030_20190526_20200828_02_T1  at  /content/drive/MyDrive/lakeCoSTR_output/sunapee_example/histograms/LC08_L1TP_013030_20190526_20200828_02_T1_histo.png\n",
            "Saving histogram for Landsat scene  LC08_L1TP_013030_20190627_20200827_02_T1  at  /content/drive/MyDrive/lakeCoSTR_output/sunapee_example/histograms/LC08_L1TP_013030_20190627_20200827_02_T1_histo.png\n",
            "Saving histogram for Landsat scene  LC08_L1TP_013030_20190713_20200827_02_T1  at  /content/drive/MyDrive/lakeCoSTR_output/sunapee_example/histograms/LC08_L1TP_013030_20190713_20200827_02_T1_histo.png\n",
            "Saving histogram for Landsat scene  LC08_L1TP_013030_20190729_20200827_02_T1  at  /content/drive/MyDrive/lakeCoSTR_output/sunapee_example/histograms/LC08_L1TP_013030_20190729_20200827_02_T1_histo.png\n",
            "Saving histogram for Landsat scene  LC08_L1TP_013030_20190814_20200827_02_T1  at  /content/drive/MyDrive/lakeCoSTR_output/sunapee_example/histograms/LC08_L1TP_013030_20190814_20200827_02_T1_histo.png\n",
            "Saving histogram for Landsat scene  LC08_L1TP_013030_20190830_20200826_02_T1  at  /content/drive/MyDrive/lakeCoSTR_output/sunapee_example/histograms/LC08_L1TP_013030_20190830_20200826_02_T1_histo.png\n",
            "Saving histogram for Landsat scene  LC08_L1TP_013030_20190915_20200826_02_T1  at  /content/drive/MyDrive/lakeCoSTR_output/sunapee_example/histograms/LC08_L1TP_013030_20190915_20200826_02_T1_histo.png\n",
            "Saving histogram for Landsat scene  LC08_L1TP_013030_20191102_20200825_02_T1  at  /content/drive/MyDrive/lakeCoSTR_output/sunapee_example/histograms/LC08_L1TP_013030_20191102_20200825_02_T1_histo.png\n",
            "Saving histogram for Landsat scene  LC08_L1TP_013030_20200715_20200912_02_T1  at  /content/drive/MyDrive/lakeCoSTR_output/sunapee_example/histograms/LC08_L1TP_013030_20200715_20200912_02_T1_histo.png\n",
            "Saving histogram for Landsat scene  LC08_L1TP_013030_20200731_20200908_02_T1  at  /content/drive/MyDrive/lakeCoSTR_output/sunapee_example/histograms/LC08_L1TP_013030_20200731_20200908_02_T1_histo.png\n",
            "Saving histogram for Landsat scene  LC08_L1TP_013030_20200917_20201005_02_T1  at  /content/drive/MyDrive/lakeCoSTR_output/sunapee_example/histograms/LC08_L1TP_013030_20200917_20201005_02_T1_histo.png\n",
            "Saving histogram for Landsat scene  LC08_L1TP_013030_20201003_20201015_02_T1  at  /content/drive/MyDrive/lakeCoSTR_output/sunapee_example/histograms/LC08_L1TP_013030_20201003_20201015_02_T1_histo.png\n",
            "Finish: 04/07/22 22:10:47 Your histograms should now be visible at  /content/drive/MyDrive/lakeCoSTR_output/sunapee_example/histograms\n"
          ]
        }
      ],
      "source": [
        "#@title 4.3 View pixel distribution using `matplotlib`\n",
        "#@markdown __Run this block__ to generate histograms for each lake temperature \n",
        "#@markdown Landsat scene. Each scene is saved as png in a folder 'histograms' in the lakeCoSTR_output directory. \n",
        "#@markdown This step can take some time to run.\n",
        "\n",
        "#print(len(list_of_uids),\" histograms will be generated\")\n",
        "print(\"Start:\", strftime(\"%x %X\"))\n",
        "\n",
        "#make 'histogram' folder in defined directory\n",
        "if not os.path.exists(os.path.join(output_dir, 'histograms')):\n",
        "    os.makedirs(os.path.join(output_dir, 'histograms'))\n",
        "\n",
        "histo_dir = os.path.join(output_dir, 'histograms')\n",
        "\n",
        "print(\"Histograms will be saved at \", histo_dir)\n",
        "\n",
        "histos = appended_dfs\n",
        "#list of scenes\n",
        "scenes = histos.columns\n",
        "histos = pd.DataFrame.transpose(histos) #reorient data\n",
        "#reset index\n",
        "histos = histos.reset_index()\n",
        "histos_vert = histos.melt(id_vars=['index'])\n",
        "\n",
        "#iterate over the scene list\n",
        "for i in range(0, len(scenes)):\n",
        "  df = histos_vert[histos_vert['index'] == scenes[i]]\n",
        "  histoname = os.path.join(histo_dir,scenes[i]+'_histo.png')\n",
        "  plt.bar(x = df.bin, height = df.value)\n",
        "  plt.ylabel('frequency')\n",
        "  plt.xlabel('temperature (deg C)')\n",
        "  plt.title(scenes[i])\n",
        "  plt.savefig(histoname)\n",
        "  print('Saving histogram for Landsat scene ', scenes[i], ' at ', histoname)  \n",
        "  plt.close()\n",
        "\n",
        "print(\"Finish:\", strftime(\"%x %X\"), 'Your histograms should now be visible at ', histo_dir)"
      ]
    },
    {
      "cell_type": "markdown",
      "metadata": {
        "id": "l1sYNsf_ndyG"
      },
      "source": [
        "# **5. Export Landsat temperature statistics to CSV**"
      ]
    },
    {
      "cell_type": "code",
      "execution_count": 20,
      "metadata": {
        "cellView": "form",
        "id": "t9STTRpLaRnD",
        "outputId": "3f9c8e7f-4172-4d25-d95d-6267d8dd2bfa",
        "colab": {
          "base_uri": "https://localhost:8080/"
        }
      },
      "outputs": [
        {
          "output_type": "stream",
          "name": "stdout",
          "text": [
            "Exporting  sunapee_example_temp_stats.csv\n",
            "Polling for task (id: Q7DFQWP2WJN2MLOSENGZRXFH) at\n",
            "04/07/22 22:11:53 {'state': 'READY', 'description': 'sunapee_example_temp_stats', 'creation_timestamp_ms': 1649369513127, 'update_timestamp_ms': 1649369513127, 'start_timestamp_ms': 0, 'task_type': 'EXPORT_FEATURES', 'id': 'Q7DFQWP2WJN2MLOSENGZRXFH', 'name': 'projects/earthengine-legacy/operations/Q7DFQWP2WJN2MLOSENGZRXFH'}\n",
            "04/07/22 22:12:04 {'state': 'READY', 'description': 'sunapee_example_temp_stats', 'creation_timestamp_ms': 1649369513127, 'update_timestamp_ms': 1649369513127, 'start_timestamp_ms': 0, 'task_type': 'EXPORT_FEATURES', 'id': 'Q7DFQWP2WJN2MLOSENGZRXFH', 'name': 'projects/earthengine-legacy/operations/Q7DFQWP2WJN2MLOSENGZRXFH'}\n",
            "04/07/22 22:12:14 {'state': 'READY', 'description': 'sunapee_example_temp_stats', 'creation_timestamp_ms': 1649369513127, 'update_timestamp_ms': 1649369513127, 'start_timestamp_ms': 0, 'task_type': 'EXPORT_FEATURES', 'id': 'Q7DFQWP2WJN2MLOSENGZRXFH', 'name': 'projects/earthengine-legacy/operations/Q7DFQWP2WJN2MLOSENGZRXFH'}\n",
            "04/07/22 22:12:25 {'state': 'READY', 'description': 'sunapee_example_temp_stats', 'creation_timestamp_ms': 1649369513127, 'update_timestamp_ms': 1649369513127, 'start_timestamp_ms': 0, 'task_type': 'EXPORT_FEATURES', 'id': 'Q7DFQWP2WJN2MLOSENGZRXFH', 'name': 'projects/earthengine-legacy/operations/Q7DFQWP2WJN2MLOSENGZRXFH'}\n",
            "04/07/22 22:12:35 {'state': 'RUNNING', 'description': 'sunapee_example_temp_stats', 'creation_timestamp_ms': 1649369513127, 'update_timestamp_ms': 1649369550417, 'start_timestamp_ms': 1649369550281, 'task_type': 'EXPORT_FEATURES', 'attempt': 1, 'id': 'Q7DFQWP2WJN2MLOSENGZRXFH', 'name': 'projects/earthengine-legacy/operations/Q7DFQWP2WJN2MLOSENGZRXFH'}\n",
            "04/07/22 22:12:46 {'state': 'RUNNING', 'description': 'sunapee_example_temp_stats', 'creation_timestamp_ms': 1649369513127, 'update_timestamp_ms': 1649369550417, 'start_timestamp_ms': 1649369550281, 'task_type': 'EXPORT_FEATURES', 'attempt': 1, 'id': 'Q7DFQWP2WJN2MLOSENGZRXFH', 'name': 'projects/earthengine-legacy/operations/Q7DFQWP2WJN2MLOSENGZRXFH'}\n",
            "04/07/22 22:12:57 {'state': 'RUNNING', 'description': 'sunapee_example_temp_stats', 'creation_timestamp_ms': 1649369513127, 'update_timestamp_ms': 1649369550417, 'start_timestamp_ms': 1649369550281, 'task_type': 'EXPORT_FEATURES', 'attempt': 1, 'id': 'Q7DFQWP2WJN2MLOSENGZRXFH', 'name': 'projects/earthengine-legacy/operations/Q7DFQWP2WJN2MLOSENGZRXFH'}\n",
            "04/07/22 22:13:07 {'state': 'RUNNING', 'description': 'sunapee_example_temp_stats', 'creation_timestamp_ms': 1649369513127, 'update_timestamp_ms': 1649369550417, 'start_timestamp_ms': 1649369550281, 'task_type': 'EXPORT_FEATURES', 'attempt': 1, 'id': 'Q7DFQWP2WJN2MLOSENGZRXFH', 'name': 'projects/earthengine-legacy/operations/Q7DFQWP2WJN2MLOSENGZRXFH'}\n",
            "04/07/22 22:13:18 {'state': 'RUNNING', 'description': 'sunapee_example_temp_stats', 'creation_timestamp_ms': 1649369513127, 'update_timestamp_ms': 1649369550417, 'start_timestamp_ms': 1649369550281, 'task_type': 'EXPORT_FEATURES', 'attempt': 1, 'id': 'Q7DFQWP2WJN2MLOSENGZRXFH', 'name': 'projects/earthengine-legacy/operations/Q7DFQWP2WJN2MLOSENGZRXFH'}\n",
            "Finished: 04/07/22 22:13:28\n",
            "Export should now be visible in Drive at path:\n",
            " /content/drive/MyDrive/lakeCoSTR_output/sunapee_example/sunapee_example_temp_stats.csv\n"
          ]
        }
      ],
      "source": [
        "#@markdown Execute this cell block to export a CSV containing temperature and related image metadata to your Google Drive.\n",
        "\n",
        "def exportWholeLakeStats(img):\n",
        "  img = ee.Image(img).clip(geo)\n",
        "\n",
        "  # retrieve image metadata for output file\n",
        "  landsattime = img.get('system:time_start')\n",
        "  cloudcover_pct_scene = img.get('CLOUD_COVER')\n",
        "  esd_au_scene = img.get(\"EARTH_SUN_DISTANCE\")\n",
        "  sunelev_deg_scene = img.get('SUN_ELEVATION')\n",
        "  sunazi_deg_scene = img.get('SUN_AZIMUTH')\n",
        "  solzenang_deg_scene = img.get('SOLAR_ZENITH_ANGLE')\n",
        "  count = img.get('pixel_count')\n",
        "  pctAvail = ee.Number(count).divide(lakesurface).multiply(100)\n",
        "\n",
        "  # get statistics for skin_temperature\n",
        "  reducers = ee.Reducer.mean().combine(**{\n",
        "      \"reducer2\": ee.Reducer.stdDev(), \"sharedInputs\":True}).combine(**{\n",
        "      \"reducer2\": ee.Reducer.minMax(), \"sharedInputs\":True}).combine(**{\n",
        "      \"reducer2\": ee.Reducer.median(**{\"maxBuckets\":500, \"minBucketWidth\": 0.125}), \"sharedInputs\":True}).combine(**{\n",
        "      \"reducer2\": ee.Reducer.skew(), \"sharedInputs\":True}).combine(**{\n",
        "      \"reducer2\": ee.Reducer.kurtosis(), \"sharedInputs\":True}).combine(**{\n",
        "      \"reducer2\": ee.Reducer.percentile(**{\"percentiles\": [25,75], \"maxBuckets\": 500, \"minBucketWidth\": 0.125}), \"sharedInputs\":True})\n",
        "      \n",
        "  \n",
        "  stats = img.reduceRegion(**{\n",
        "      \"reducer\": reducers,\n",
        "      \"geometry\": geo,\n",
        "      \"scale\": 30,\n",
        "      \"crs\": crs_out,\n",
        "      \"maxPixels\": 5e9\n",
        "  })\n",
        "  \n",
        "  more_stats = ee.Dictionary({'availablePixels_count':count,\n",
        "                            'datetime_landsat':landsattime,\n",
        "                            'cloudcover_pct_scene':cloudcover_pct_scene,\n",
        "                            'sunelev_deg_scene':sunelev_deg_scene,\n",
        "                            'sunazi_deg_scene':sunazi_deg_scene,\n",
        "                            'esd_au_scene':esd_au_scene,\n",
        "                            'sunazi_deg_scene':sunazi_deg_scene,\n",
        "                            'lakeCoverage_pct':pctAvail,\n",
        "                            #'datetime_landsat_excelformat':ee.Number(landsattime).divide(1000.0).divide(86400).add(25569)\n",
        "                            })\n",
        "  stats2 = ee.Dictionary.combine(stats, more_stats)\n",
        "\n",
        "  return ee.Feature(None,stats2)\n",
        "\n",
        "temp_stats = countedPixels.map(exportWholeLakeStats)\n",
        "\n",
        "#create the file name with user-specified prefix\n",
        "temp_filename = (file_prefix+'_temp_stats')\n",
        "\n",
        "export_task = ee.batch.Export.table.toDrive(**{\n",
        "    'collection': temp_stats,\n",
        "    'description': temp_filename,\n",
        "    \"fileFormat\": \"CSV\",\n",
        "    'folder': short_dir\n",
        "})\n",
        "\n",
        "print(\"Exporting \", temp_filename+\".csv\")\n",
        "export_task.start()\n",
        "print('Polling for task (id: {}) at'.format(export_task.id))\n",
        "\n",
        "while export_task.active():\n",
        "  print(strftime(\"%x %X\"), export_task.status())\n",
        "  sleep(10)\n",
        "\n",
        "print(\"Finished:\", strftime(\"%x %X\"))\n",
        "\n",
        "print('Export should now be visible in Drive at path:\\n',os.path.join(output_dir, temp_filename + \".csv\"))"
      ]
    },
    {
      "cell_type": "markdown",
      "metadata": {
        "id": "1zhMxo32fmnT"
      },
      "source": [
        "# **6. Pair Landsat with *in situ* data**\n",
        "This next section is optional, but allows you to compare any field data you may have to the Landsat data produced here. This section uses the CSV exported above.<p>\n",
        "In order for this to run successfully, your data must be in CSV format and have the following headers/columns:\n",
        "\n",
        "\n",
        "*  `datetime`: Date and time of each temperature reading in a recognized strftime format\n",
        "*  `temp_degC`: an integer or float number representing temperature in degrees Celcius\n",
        "*  `location`: for in-lake statistics, a column with lake zone names (string format, no special characters); can be all the same for a single output or differentiated by lake zones/sensors\n",
        "* `depth_m`: as an integer or float number, for statistics about the depth of sensors for matched scenes\n",
        "\n",
        "The file may have additional columns, but the above are mandatory fields. To see an example dataset, click here. \n"
      ]
    },
    {
      "cell_type": "markdown",
      "metadata": {
        "id": "APg3jpUagGTf"
      },
      "source": [
        "## 6.1 Upload CSV of *insitu* data\n",
        "Choose an option below. For more ways to import data, see [here](https://colab.research.google.com/notebooks/io.ipynb)  "
      ]
    },
    {
      "cell_type": "code",
      "execution_count": 24,
      "metadata": {
        "cellView": "form",
        "id": "P0Gg7oRYPGqF"
      },
      "outputs": [],
      "source": [
        "#@title Please provide some information about your data\n",
        "#@markdown What timezone is your data? <a href=\"https://en.wikipedia.org/wiki/List_of_tz_database_time_zones\" target=\"_blank\">Olson Times Wikipedia Page</a> Specifically, you need to indicate the UTC offset for your data for proper pairing, including whether or not your data timestamp observes Daylight Savings Time. Enter the text for the matching UTC offset and DST behavior from the 'TZ database name' column in the linked table. Note that the sign of the GMT offset is intentionally inverted from the UTC offset.\n",
        "insitu_timezone = \"Etc/GMT+5\" #@param {type:\"string\"}\n",
        "#@markdown How is your datetime formatted? Please use <a href='https://strftime.org/' target='_blank'>strftime</a> format.\n",
        "datetime_format = \"%Y-%m-%d %H:%M:%S\" #@param {type:\"string\"}"
      ]
    },
    {
      "cell_type": "code",
      "execution_count": null,
      "metadata": {
        "cellView": "form",
        "id": "7X-Eyd1aFf7_"
      },
      "outputs": [],
      "source": [
        "#@title Option 1: Link to raw CSV from Github\n",
        "pasted_path = \"\" #@param {type:\"string\"}\n",
        "\n",
        "is_df = pd.read_csv(pasted_path)\n",
        "#is_df[\"datetime\"] = pd.to_datetime(is_df[\"datetime\"])\n",
        "print(\"dataframe created\")"
      ]
    },
    {
      "cell_type": "code",
      "execution_count": null,
      "metadata": {
        "cellView": "form",
        "id": "oBcVtwu42-hG"
      },
      "outputs": [],
      "source": [
        "#@title Option 2: Upload CSV from your Google Drive folder\n",
        "#@markdown using the folder icon on the left hand side, navigate to the file in\n",
        "#@markdown your Google Drive (named 'drive' here), click on the three vertical dots to the right of the file\n",
        "#@markdown and click on 'copy file path'. Paste the copied path below.\n",
        "\n",
        "pasted_path = \"\" #@param {type:\"string\"}\n",
        "\n",
        "is_df = pd.read_csv(pasted_path)\n",
        "print(\"dataframe created\")"
      ]
    },
    {
      "cell_type": "code",
      "execution_count": 21,
      "metadata": {
        "cellView": "form",
        "id": "vHul1TwpD-go",
        "outputId": "eb574bcd-b418-41b5-8056-af6c3385ea7e",
        "colab": {
          "resources": {
            "http://localhost:8080/nbextensions/google.colab/files.js": {
              "data": "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",
              "ok": true,
              "headers": [
                [
                  "content-type",
                  "application/javascript"
                ]
              ],
              "status": 200,
              "status_text": ""
            }
          },
          "base_uri": "https://localhost:8080/",
          "height": 114
        }
      },
      "outputs": [
        {
          "output_type": "display_data",
          "data": {
            "text/plain": [
              "<IPython.core.display.HTML object>"
            ],
            "text/html": [
              "\n",
              "     <input type=\"file\" id=\"files-40bb9512-01d0-4812-bd1c-1b9d15cff932\" name=\"files[]\" multiple disabled\n",
              "        style=\"border:none\" />\n",
              "     <output id=\"result-40bb9512-01d0-4812-bd1c-1b9d15cff932\">\n",
              "      Upload widget is only available when the cell has been executed in the\n",
              "      current browser session. Please rerun this cell to enable.\n",
              "      </output>\n",
              "      <script src=\"/nbextensions/google.colab/files.js\"></script> "
            ]
          },
          "metadata": {}
        },
        {
          "output_type": "stream",
          "name": "stdout",
          "text": [
            "Saving sunapee_insitu_example.csv to sunapee_insitu_example.csv\n",
            "Paste this in the box below:\n",
            "/content/sunapee_insitu_example.csv\n"
          ]
        }
      ],
      "source": [
        "#@title Option 3: Upload CSV from your local file system to Colab\n",
        "#@markdown (this is temporary while connected to the current Colab runtime session)<br>\n",
        "#@markdown Run this cell to upload a file\n",
        "uploaded = files.upload()\n",
        "for fn in uploaded.keys():\n",
        "  print(\"Paste this in the box below:\\n/content/{name}\".format(name=fn))\n"
      ]
    },
    {
      "cell_type": "code",
      "execution_count": 22,
      "metadata": {
        "cellView": "form",
        "id": "52agyeVcKb8Z",
        "outputId": "5fbdc9a6-2b9a-4c5e-8dcd-460ca666af4a",
        "colab": {
          "base_uri": "https://localhost:8080/"
        }
      },
      "outputs": [
        {
          "output_type": "stream",
          "name": "stdout",
          "text": [
            "dataframe created\n"
          ]
        }
      ],
      "source": [
        "pasted_path = \"/content/sunapee_insitu_example.csv\" #@param {type:\"string\"}\n",
        "\n",
        "is_df = pd.read_csv(pasted_path)\n",
        "print(\"dataframe created\")"
      ]
    },
    {
      "cell_type": "markdown",
      "metadata": {
        "id": "JnJU34MEO1c-"
      },
      "source": [
        "## 6.2 Pair *insitu* data with Landsat data"
      ]
    },
    {
      "cell_type": "code",
      "execution_count": 25,
      "metadata": {
        "cellView": "form",
        "id": "Xh155YwkBSlc",
        "outputId": "a6ae3ae8-7c00-4120-b800-74ceec20c3f5",
        "colab": {
          "base_uri": "https://localhost:8080/"
        }
      },
      "outputs": [
        {
          "output_type": "stream",
          "name": "stdout",
          "text": [
            "\n",
            "Date/time function imported and datetime converted in dataframe 04/07/22 22:16:38\n"
          ]
        }
      ],
      "source": [
        "#@title Convert local datetime to UTC time\n",
        "#@markdown __Run this block__ to apply conversion of your specified local time to UTC time. \n",
        "insitu_tz = pytz.timezone(insitu_timezone)\n",
        "landsat_tz = pytz.timezone(\"UTC\")\n",
        "\n",
        "def convert_datetime(dt, dtformat=datetime_format):\n",
        "  #converts string format insitu time to a datetime obj\n",
        "  dto = datetime.strptime(dt, datetime_format)\n",
        "  #makes it time aware\n",
        "  dto_local = insitu_tz.localize(dto)\n",
        "  #converts to utc\n",
        "  dto_utc = dto_local.astimezone(landsat_tz)\n",
        "  return dto_utc\n",
        "\n",
        "dtobj_series = is_df['datetime']\n",
        "dtobj_series_conv = dtobj_series.apply(convert_datetime)\n",
        "is_df['datetime_utc'] = dtobj_series_conv\n",
        "\n",
        "print(\"\\nDate/time function imported and datetime converted in dataframe\", strftime(\"%x %X\"))"
      ]
    },
    {
      "cell_type": "code",
      "execution_count": 26,
      "metadata": {
        "cellView": "form",
        "id": "O2csZXUp0Zlo",
        "outputId": "206108a1-f490-403f-9a34-6e5c1afe4ec5",
        "colab": {
          "base_uri": "https://localhost:8080/"
        }
      },
      "outputs": [
        {
          "output_type": "stream",
          "name": "stdout",
          "text": [
            "Time window: +- 30 minutes\n",
            "In-situ time Zone: Etc/GMT+5\n",
            "\n",
            "Landsat input file:\n",
            " /content/drive/MyDrive/lakeCoSTR_output/sunapee_example/sunapee_example_temp_stats.csv\n",
            "\n",
            "Output file will be saved to:\n",
            " /content/drive/MyDrive/lakeCoSTR_output/sunapee_example/sunapee_example_temp_landsat_paired.csv\n"
          ]
        }
      ],
      "source": [
        "#@markdown Enter the window of time (in minutes) from Landsat flyover where *insitu* data should be included. For example, `timewindow = 30` will include any data within 60 minutes of Landsat flyover (+/- 30 minutes)\n",
        "timewindow = 30 #@param {type:\"number\"\n",
        "\n",
        "cwd = output_dir\n",
        "os.chdir(cwd)\n",
        "\n",
        "outfile = (file_prefix + \"_temp_landsat_paired.csv\")\n",
        "\n",
        "print(f\"Time window: +- {timewindow} minutes\")\n",
        "print(f\"In-situ time Zone: {insitu_timezone}\")\n",
        "print(\"\\nLandsat input file:\\n\", os.path.join(cwd,temp_filename+\".csv\"))\n",
        "print(\"\\nOutput file will be saved to:\\n\", os.path.join(cwd,outfile))\n",
        "\n",
        "min_sec = timewindow * 60\n"
      ]
    },
    {
      "cell_type": "code",
      "execution_count": 27,
      "metadata": {
        "cellView": "form",
        "id": "XYfj7ThEZsFl",
        "outputId": "44682924-482e-467a-d5d0-fcc32e071406",
        "colab": {
          "base_uri": "https://localhost:8080/"
        }
      },
      "outputs": [
        {
          "output_type": "stream",
          "name": "stdout",
          "text": [
            "Start: 04/07/22 22:16:47\n",
            "Matched records files will be visible at  /content/drive/MyDrive/lakeCoSTR_output/sunapee_example/ancillary\n",
            "2015-06-24 15:32:29.826000+00:00\n",
            "2015-07-10 15:32:36.798000+00:00\n",
            "2015-09-12 15:32:48.695000+00:00\n",
            "2015-09-28 15:32:52.108000+00:00\n",
            "2016-05-25 15:35:21.332000+00:00\n",
            "2016-06-26 15:35:27.585000+00:00\n",
            "2016-07-12 15:35:26.605000+00:00\n",
            "2016-08-29 15:35:34.561000+00:00\n",
            "2016-09-14 15:35:36.298000+00:00\n",
            "2017-07-15 15:35:33.389000+00:00\n",
            "2017-07-31 15:35:32.090000+00:00\n",
            "2017-09-01 15:35:30.481000+00:00\n",
            "2017-09-17 15:35:28.075000+00:00\n",
            "2017-10-03 15:35:29.573000+00:00\n",
            "2018-05-31 15:32:51.477000+00:00\n",
            "2018-07-02 15:32:15.711000+00:00\n",
            "2018-07-18 15:31:57.797000+00:00\n",
            "2018-08-19 15:31:22.672000+00:00\n",
            "2018-09-04 15:31:02.812000+00:00\n",
            "2019-06-03 15:22:55.492000+00:00\n",
            "2019-07-05 15:21:44.531000+00:00\n",
            "2019-08-06 15:20:27.959000+00:00\n",
            "2019-08-22 15:19:47.761000+00:00\n",
            "2019-09-07 15:19:06.333000+00:00\n",
            "2019-10-09 15:17:44.116000+00:00\n",
            "2020-05-20 15:06:03.964000+00:00\n",
            "2020-06-21 15:04:11.160000+00:00\n",
            "2020-08-24 15:00:13.173000+00:00\n",
            "2020-09-09 14:59:10.306000+00:00\n",
            "2020-09-25 14:58:06.948000+00:00\n",
            "2015-07-02 15:32:18.313000+00:00\n",
            "2015-08-03 15:32:31.019000+00:00\n",
            "2015-08-19 15:32:38.478000+00:00\n",
            "2016-06-18 15:32:36.899000+00:00\n",
            "2016-07-04 15:32:46.324000+00:00\n",
            "2016-07-20 15:32:52.539000+00:00\n",
            "2016-08-05 15:32:55.320000+00:00\n",
            "2016-09-22 15:33:07.849000+00:00\n",
            "2017-06-21 15:32:38.099000+00:00\n",
            "2017-07-23 15:32:47.646000+00:00\n",
            "2017-08-24 15:32:58.898000+00:00\n",
            "2017-09-09 15:33:00.361000+00:00\n",
            "2017-09-25 15:33:05.620000+00:00\n",
            "2017-10-11 15:33:10.633000+00:00\n",
            "2018-05-23 15:31:48.135000+00:00\n",
            "2018-07-10 15:32:01.766000+00:00\n",
            "2018-08-27 15:32:25.308000+00:00\n",
            "2018-10-14 15:32:43.859000+00:00\n",
            "2019-05-26 15:32:34.573000+00:00\n",
            "2019-06-27 15:32:47.056000+00:00\n",
            "2019-07-13 15:32:50.218000+00:00\n",
            "2019-07-29 15:32:55.848000+00:00\n",
            "2019-08-14 15:33:01.618000+00:00\n",
            "2019-08-30 15:33:05.436000+00:00\n",
            "2019-09-15 15:33:10.368000+00:00\n",
            "2019-11-02 15:33:16.982000+00:00\n",
            "2020-07-15 15:32:46.161000+00:00\n",
            "2020-07-31 15:32:50.485000+00:00\n",
            "2020-09-17 15:33:09.206000+00:00\n",
            "2020-10-03 15:33:12.913000+00:00\n"
          ]
        },
        {
          "output_type": "execute_result",
          "data": {
            "text/plain": [
              "('Finished:', '04/07/22 22:18:04')"
            ]
          },
          "metadata": {},
          "execution_count": 27
        }
      ],
      "source": [
        "#@markdown The following codeblock compares the datasets and generate statistics \n",
        "#@markdown for in-lake data that matches Landsat flyovers.<br> \n",
        "#@markdown It also uses a subfolder called 'ancillary' (and creates the folder if needed) \n",
        "#@markdown that keeps a record of any insitu data points that are used for each Landsat scene.\n",
        "#@markdown If you have a large number of scenes to pair and/or a large dataframe of\n",
        "#@markdown in-situ data, this step may take some time. Timestamps that print below are \n",
        "#@markdown the Landast scene acquisition times where there are in-situ matches.\n",
        "\n",
        "print(\"Start:\", strftime(\"%x %X\"))\n",
        "file_name = (output_dir + '/' + temp_filename + '.csv')\n",
        "gee_csv = pd.read_csv(file_name)\n",
        "insitu_csv = is_df\n",
        "\n",
        "#make 'ancillary' folder in defined directory\n",
        "if not os.path.exists(os.path.join(cwd, 'ancillary')):\n",
        "    os.makedirs(os.path.join(cwd, 'ancillary'))\n",
        "print('Matched records files will be visible at ', cwd+ '/ancillary')\n",
        "\n",
        "#filter GEE output so that it's only as recent as minimum in-situ data\n",
        "insitumin = min(insitu_csv.datetime_utc)\n",
        "insitumax = max(insitu_csv.datetime_utc)\n",
        "\n",
        "def conv_lstime(i):\n",
        "  return pd.Timestamp(i, unit = 'ms', tz = 'utc')\n",
        "\n",
        "gee_csv['landsat_time_utc'] = gee_csv.datetime_landsat.apply(conv_lstime)\n",
        "\n",
        "gee_overlap = gee_csv[gee_csv.landsat_time_utc>insitumin]\n",
        "gee_overlap_fin = gee_overlap[gee_overlap.landsat_time_utc<insitumax]\n",
        "#reindex filtered dataset\n",
        "gee_overlap_fin = gee_overlap_fin.reset_index(drop=True)\n",
        "\n",
        "gee_datelist = gee_overlap_fin[\"landsat_time_utc\"]\n",
        "\n",
        "# function to convert dt_delta to seconds\n",
        "def delta_tosec(i):\n",
        "  total_secs = i.seconds + i.days*24*60*60\n",
        "  return total_secs\n",
        "\n",
        "for i in range(0,len(gee_datelist)):\n",
        "  scene = gee_overlap_fin['system:index'][i][-20:]\n",
        "  landsattime = gee_overlap_fin['landsat_time_utc'][i]\n",
        "\n",
        "  # create a df of insitu data that are observed within the user-specified cutoff \n",
        "\n",
        "  #calculate time delta for each obs\n",
        "  insitu_csv['dt_delta'] = landsattime - insitu_csv['datetime_utc']\n",
        "  insitu_csv['delta_secs'] = insitu_csv.dt_delta.apply(delta_tosec)  \n",
        "  same_time = insitu_csv[(abs(insitu_csv.delta_secs) <= min_sec)]\n",
        "  \n",
        "  #if the dataframe is not empty, summarize the results\n",
        "  if same_time.shape[0]>0:\n",
        "    print(landsattime)\n",
        "    gee_overlap_fin.loc[i, \"scene\"] = scene\n",
        "    gee_overlap_fin.loc[i, \"is_temp_avg\"] = same_time[\"temp_degC\"].mean()\n",
        "    gee_overlap_fin.loc[i, \"is_temp_stdev\"] = same_time[\"temp_degC\"].std()\n",
        "    gee_overlap_fin.loc[i, \"is_depth_avg\"] = same_time[\"depth_m\"].mean()\n",
        "    gee_overlap_fin.loc[i, \"is_depth_stdev\"] = same_time[\"depth_m\"].std()\n",
        "    gee_overlap_fin.loc[i, \"is_temp_med\"] = same_time[\"temp_degC\"].median()\n",
        "    gee_overlap_fin.loc[i, \"insitu_count\"] = same_time.shape[0]\n",
        "\n",
        "    site_stats = same_time.groupby(['location'])['temp_degC'].agg(['median', 'mean', 'std', 'count'])\n",
        "\n",
        "    sites = site_stats.axes[0]\n",
        "    stats = site_stats.axes[1]\n",
        "\n",
        "    for site in sites:\n",
        "        for stat in stats:\n",
        "            newcol = \"{0}_{1}\".format(str(site), str(stat))\n",
        "            gee_overlap_fin.loc[i, newcol] = site_stats[stat][site].item()\n",
        "\n",
        "    if same_time.shape[0] > 0:\n",
        "        same_time.to_csv(os.path.join(cwd, 'ancillary', scene + \".csv\"))\n",
        "\n",
        "out_csv = gee_overlap_fin[gee_overlap_fin[\"insitu_count\"] > 0]\n",
        "out_csv.to_csv(os.path.join(cwd, outfile))\n",
        "(\"Finished:\", strftime(\"%x %X\"))"
      ]
    },
    {
      "cell_type": "markdown",
      "metadata": {
        "id": "Cz3nZJqn7R5G"
      },
      "source": [
        "##You are all set. Go analyze your lake surface temperature data! \n",
        "\n",
        "We suggest you save a copy of this notebook in the same folder as your downloaded data, which will appear in your Google Drive in the 'lakeCoSTR_output' folder for good measure.\n"
      ]
    }
  ],
  "metadata": {
    "colab": {
      "collapsed_sections": [
        "DBZzaGgqpr8W"
      ],
      "name": "landsat_C2_ST_v9.ipynb",
      "provenance": []
    },
    "kernelspec": {
      "display_name": "Python 3",
      "name": "python3"
    },
    "language_info": {
      "name": "python"
    },
    "widgets": {
      "application/vnd.jupyter.widget-state+json": {
        "57a5fa0fa55b4508ad19ecaf4ec8b8c2": {
          "model_module": "jupyter-leaflet",
          "model_name": "LeafletMapModel",
          "model_module_version": "^0.15.0",
          "state": {
            "_dom_classes": [],
            "_model_module": "jupyter-leaflet",
            "_model_module_version": "^0.15.0",
            "_model_name": "LeafletMapModel",
            "_view_count": null,
            "_view_module": "jupyter-leaflet",
            "_view_module_version": "^0.15.0",
            "_view_name": "LeafletMapView",
            "bottom": 384027.6000061035,
            "bounce_at_zoom_limits": true,
            "box_zoom": true,
            "center": [
              43.38069834055849,
              -72.00367647021748
            ],
            "close_popup_on_click": true,
            "controls": [
              "IPY_MODEL_cc80a8bc29444e019ee2a8e674fccdea",
              "IPY_MODEL_bde85d5f53b648449104e6bc052b3b80",
              "IPY_MODEL_0a8e03b256744da9884d672888552999",
              "IPY_MODEL_5ee17b479bac46789c4436ddb9b9d52f"
            ],
            "crs": {
              "name": "EPSG3857",
              "custom": false
            },
            "default_style": "IPY_MODEL_31be7c6b23ca4b359557b8f1b0ac7171",
            "double_click_zoom": true,
            "dragging": true,
            "dragging_style": "IPY_MODEL_41c7ac1cb43245c284d9a0fb5cf45486",
            "east": -71.73914628833272,
            "fullscreen": false,
            "inertia": true,
            "inertia_deceleration": 3000,
            "inertia_max_speed": 1500,
            "interpolation": "bilinear",
            "keyboard": true,
            "keyboard_pan_offset": 80,
            "keyboard_zoom_offset": 1,
            "layers": [
              "IPY_MODEL_5405b68219cd40b7beb598371c24a13f"
            ],
            "layout": "IPY_MODEL_40118a39b9794c759477a3deb9e109e8",
            "left": 313791.5915043479,
            "max_zoom": 18,
            "min_zoom": 1,
            "modisdate": "2022-04-06",
            "north": 43.44304851383666,
            "options": [
              "bounce_at_zoom_limits",
              "box_zoom",
              "center",
              "close_popup_on_click",
              "double_click_zoom",
              "dragging",
              "fullscreen",
              "inertia",
              "inertia_deceleration",
              "inertia_max_speed",
              "interpolation",
              "keyboard",
              "keyboard_pan_offset",
              "keyboard_zoom_offset",
              "max_zoom",
              "min_zoom",
              "prefer_canvas",
              "scroll_wheel_zoom",
              "tap",
              "tap_tolerance",
              "touch_zoom",
              "world_copy_jump",
              "zoom",
              "zoom_animation_threshold",
              "zoom_delta",
              "zoom_snap",
              "zoom_start"
            ],
            "prefer_canvas": false,
            "right": 315332.5915043479,
            "scroll_wheel_zoom": true,
            "south": 43.31828398158742,
            "style": "IPY_MODEL_31be7c6b23ca4b359557b8f1b0ac7171",
            "tap": true,
            "tap_tolerance": 15,
            "top": 383527.6000061035,
            "touch_zoom": true,
            "west": -72.26820665210225,
            "window_url": "https://91c7intxmv8-496ff2e9c6d22116-0-colab.googleusercontent.com/outputframe.html?vrz=colab-20220406-060059-RC00_439797718",
            "world_copy_jump": false,
            "zoom": 12,
            "zoom_animation_threshold": 4,
            "zoom_delta": 1,
            "zoom_snap": 1,
            "zoom_start": 12,
            "_dragging": false
          }
        },
        "cc80a8bc29444e019ee2a8e674fccdea": {
          "model_module": "jupyter-leaflet",
          "model_name": "LeafletZoomControlModel",
          "model_module_version": "^0.15.0",
          "state": {
            "_model_module": "jupyter-leaflet",
            "_model_module_version": "^0.15.0",
            "_model_name": "LeafletZoomControlModel",
            "_view_count": null,
            "_view_module": "jupyter-leaflet",
            "_view_module_version": "^0.15.0",
            "_view_name": "LeafletZoomControlView",
            "options": [
              "position",
              "zoom_in_text",
              "zoom_in_title",
              "zoom_out_text",
              "zoom_out_title"
            ],
            "position": "topleft",
            "zoom_in_text": "+",
            "zoom_in_title": "Zoom in",
            "zoom_out_text": "-",
            "zoom_out_title": "Zoom out"
          }
        },
        "bde85d5f53b648449104e6bc052b3b80": {
          "model_module": "jupyter-leaflet",
          "model_name": "LeafletAttributionControlModel",
          "model_module_version": "^0.15.0",
          "state": {
            "_model_module": "jupyter-leaflet",
            "_model_module_version": "^0.15.0",
            "_model_name": "LeafletAttributionControlModel",
            "_view_count": null,
            "_view_module": "jupyter-leaflet",
            "_view_module_version": "^0.15.0",
            "_view_name": "LeafletAttributionControlView",
            "options": [
              "position",
              "prefix"
            ],
            "position": "bottomright",
            "prefix": "ipyleaflet"
          }
        },
        "0a8e03b256744da9884d672888552999": {
          "model_module": "jupyter-leaflet",
          "model_name": "LeafletDrawControlModel",
          "model_module_version": "^0.15.0",
          "state": {
            "_model_module": "jupyter-leaflet",
            "_model_module_version": "^0.15.0",
            "_model_name": "LeafletDrawControlModel",
            "_view_count": null,
            "_view_module": "jupyter-leaflet",
            "_view_module_version": "^0.15.0",
            "_view_name": "LeafletDrawControlView",
            "circle": {},
            "circlemarker": {},
            "data": [
              {
                "type": "Feature",
                "properties": {
                  "style": {
                    "stroke": true,
                    "color": "#efed69",
                    "weight": 4,
                    "opacity": 0.5,
                    "fill": true,
                    "fillColor": "#3fca45d",
                    "fillOpacity": 0.25,
                    "clickable": true
                  }
                },
                "geometry": {
                  "type": "Polygon",
                  "coordinates": [
                    [
                      [
                        -72.095922,
                        43.318734
                      ],
                      [
                        -72.095922,
                        43.435719
                      ],
                      [
                        -72.008852,
                        43.435719
                      ],
                      [
                        -72.008852,
                        43.318734
                      ],
                      [
                        -72.095922,
                        43.318734
                      ]
                    ]
                  ]
                }
              },
              {
                "type": "Feature",
                "properties": {
                  "style": {
                    "pane": "overlayPane",
                    "attribution": null,
                    "bubblingMouseEvents": true,
                    "fill": true,
                    "smoothFactor": 1,
                    "noClip": false,
                    "stroke": true,
                    "color": "#efed69",
                    "weight": 4,
                    "opacity": 0.5,
                    "lineCap": "round",
                    "lineJoin": "round",
                    "dashArray": null,
                    "dashOffset": null,
                    "fillColor": "#3fca45d",
                    "fillOpacity": 0.25,
                    "fillRule": "evenodd",
                    "interactive": true,
                    "clickable": true
                  }
                },
                "geometry": {
                  "type": "Polygon",
                  "coordinates": [
                    [
                      [
                        -72.095922,
                        43.318734
                      ],
                      [
                        -72.095922,
                        43.435719
                      ],
                      [
                        -72.008852,
                        43.435719
                      ],
                      [
                        -72.008852,
                        43.318734
                      ],
                      [
                        -72.095922,
                        43.318734
                      ]
                    ]
                  ]
                }
              }
            ],
            "edit": true,
            "marker": {},
            "options": [
              "position"
            ],
            "polygon": {},
            "polyline": {},
            "position": "topleft",
            "rectangle": {
              "shapeOptions": {
                "fillColor": "#3fca45d",
                "color": "#efed69",
                "fillOpacity": 0.25
              }
            },
            "remove": true
          }
        },
        "5ee17b479bac46789c4436ddb9b9d52f": {
          "model_module": "jupyter-leaflet",
          "model_name": "LeafletSearchControlModel",
          "model_module_version": "^0.15.0",
          "state": {
            "_model_module": "jupyter-leaflet",
            "_model_module_version": "^0.15.0",
            "_model_name": "LeafletSearchControlModel",
            "_view_count": null,
            "_view_module": "jupyter-leaflet",
            "_view_module_version": "^0.15.0",
            "_view_name": "LeafletSearchControlView",
            "animate_location": false,
            "auto_collapse": false,
            "auto_type": false,
            "found_style": {
              "fillColor": "#3f0",
              "color": "#0f0"
            },
            "jsonp_param": "json_callback",
            "layer": null,
            "marker": null,
            "options": [
              "animate_location",
              "auto_collapse",
              "auto_type",
              "found_style",
              "jsonp_param",
              "position",
              "property_loc",
              "property_name",
              "url",
              "zoom"
            ],
            "position": "topright",
            "property_loc": [
              "lat",
              "lon"
            ],
            "property_name": "display_name",
            "url": "https://nominatim.openstreetmap.org/search?format=json&q={s}",
            "zoom": 7
          }
        },
        "31be7c6b23ca4b359557b8f1b0ac7171": {
          "model_module": "jupyter-leaflet",
          "model_name": "LeafletMapStyleModel",
          "model_module_version": "^0.15.0",
          "state": {
            "_model_module": "jupyter-leaflet",
            "_model_module_version": "^0.15.0",
            "_model_name": "LeafletMapStyleModel",
            "_view_count": null,
            "_view_module": "@jupyter-widgets/base",
            "_view_module_version": "1.2.0",
            "_view_name": "StyleView",
            "cursor": "grab"
          }
        },
        "41c7ac1cb43245c284d9a0fb5cf45486": {
          "model_module": "jupyter-leaflet",
          "model_name": "LeafletMapStyleModel",
          "model_module_version": "^0.15.0",
          "state": {
            "_model_module": "jupyter-leaflet",
            "_model_module_version": "^0.15.0",
            "_model_name": "LeafletMapStyleModel",
            "_view_count": null,
            "_view_module": "@jupyter-widgets/base",
            "_view_module_version": "1.2.0",
            "_view_name": "StyleView",
            "cursor": "move"
          }
        },
        "5405b68219cd40b7beb598371c24a13f": {
          "model_module": "jupyter-leaflet",
          "model_name": "LeafletTileLayerModel",
          "model_module_version": "^0.15.0",
          "state": {
            "_model_module": "jupyter-leaflet",
            "_model_module_version": "^0.15.0",
            "_model_name": "LeafletTileLayerModel",
            "_view_count": null,
            "_view_module": "jupyter-leaflet",
            "_view_module_version": "^0.15.0",
            "_view_name": "LeafletTileLayerView",
            "attribution": "&copy; <a href=\"https://www.openstreetmap.org/copyright\">OpenStreetMap</a> contributors",
            "base": true,
            "bottom": true,
            "detect_retina": false,
            "loading": false,
            "max_native_zoom": 18,
            "max_zoom": 19,
            "min_native_zoom": 0,
            "min_zoom": 1,
            "name": "OpenStreetMap.Mapnik",
            "no_wrap": false,
            "opacity": 1,
            "options": [
              "attribution",
              "detect_retina",
              "max_native_zoom",
              "max_zoom",
              "min_native_zoom",
              "min_zoom",
              "no_wrap",
              "tile_size",
              "tms"
            ],
            "popup": null,
            "popup_max_height": null,
            "popup_max_width": 300,
            "popup_min_width": 50,
            "show_loading": false,
            "tile_size": 256,
            "tms": false,
            "url": "https://a.tile.openstreetmap.org/{z}/{x}/{y}.png",
            "visible": true
          }
        },
        "40118a39b9794c759477a3deb9e109e8": {
          "model_module": "@jupyter-widgets/base",
          "model_name": "LayoutModel",
          "model_module_version": "1.2.0",
          "state": {
            "_model_module": "@jupyter-widgets/base",
            "_model_module_version": "1.2.0",
            "_model_name": "LayoutModel",
            "_view_count": null,
            "_view_module": "@jupyter-widgets/base",
            "_view_module_version": "1.2.0",
            "_view_name": "LayoutView",
            "align_content": null,
            "align_items": null,
            "align_self": null,
            "border": null,
            "bottom": null,
            "display": null,
            "flex": null,
            "flex_flow": null,
            "grid_area": null,
            "grid_auto_columns": null,
            "grid_auto_flow": null,
            "grid_auto_rows": null,
            "grid_column": null,
            "grid_gap": null,
            "grid_row": null,
            "grid_template_areas": null,
            "grid_template_columns": null,
            "grid_template_rows": null,
            "height": "500px",
            "justify_content": null,
            "justify_items": null,
            "left": null,
            "margin": null,
            "max_height": null,
            "max_width": null,
            "min_height": null,
            "min_width": null,
            "object_fit": null,
            "object_position": null,
            "order": null,
            "overflow": null,
            "overflow_x": null,
            "overflow_y": null,
            "padding": null,
            "right": null,
            "top": null,
            "visibility": null,
            "width": "80%"
          }
        },
        "aeb1586b64784a7c9853395c50e4852c": {
          "model_module": "jupyter-leaflet",
          "model_name": "LeafletMapStyleModel",
          "model_module_version": "^0.15.0",
          "state": {
            "_model_module": "jupyter-leaflet",
            "_model_module_version": "^0.15.0",
            "_model_name": "LeafletMapStyleModel",
            "_view_count": null,
            "_view_module": "@jupyter-widgets/base",
            "_view_module_version": "1.2.0",
            "_view_name": "StyleView",
            "cursor": "grab"
          }
        }
      }
    }
  },
  "nbformat": 4,
  "nbformat_minor": 0
}